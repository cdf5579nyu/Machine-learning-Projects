{
 "cells": [
  {
   "cell_type": "markdown",
   "metadata": {
    "tags": []
   },
   "source": [
    "# Homework 2: Linear Regression\n",
    "\n",
    "The is the coding potion of Homework 2. The homework is aimed at testing the ability to deal with a real-world dataset and use linear regression on it."
   ]
  },
  {
   "cell_type": "code",
   "execution_count": 70,
   "metadata": {},
   "outputs": [],
   "source": [
    "import numpy as np\n",
    "import pandas as pd\n",
    "\n",
    "# Plotting libraries\n",
    "import matplotlib.pyplot as plt\n",
    "import seaborn as sns\n",
    "\n",
    "%matplotlib inline"
   ]
  },
  {
   "cell_type": "markdown",
   "metadata": {},
   "source": [
    "### Load Dataset\n",
    "Loading the California Housing dataset using sklearn."
   ]
  },
  {
   "cell_type": "code",
   "execution_count": 71,
   "metadata": {},
   "outputs": [],
   "source": [
    "# Load dataset\n",
    "from sklearn.datasets import fetch_california_housing\n",
    "housing = fetch_california_housing()"
   ]
  },
  {
   "cell_type": "markdown",
   "metadata": {},
   "source": [
    "## Part 1 : Analyse the dataset"
   ]
  },
  {
   "cell_type": "code",
   "execution_count": 72,
   "metadata": {},
   "outputs": [
    {
     "data": {
      "text/html": [
       "<div>\n",
       "<style scoped>\n",
       "    .dataframe tbody tr th:only-of-type {\n",
       "        vertical-align: middle;\n",
       "    }\n",
       "\n",
       "    .dataframe tbody tr th {\n",
       "        vertical-align: top;\n",
       "    }\n",
       "\n",
       "    .dataframe thead th {\n",
       "        text-align: right;\n",
       "    }\n",
       "</style>\n",
       "<table border=\"1\" class=\"dataframe\">\n",
       "  <thead>\n",
       "    <tr style=\"text-align: right;\">\n",
       "      <th></th>\n",
       "      <th>MedInc</th>\n",
       "      <th>HouseAge</th>\n",
       "      <th>AveRooms</th>\n",
       "      <th>AveBedrms</th>\n",
       "      <th>Population</th>\n",
       "      <th>AveOccup</th>\n",
       "      <th>Latitude</th>\n",
       "      <th>Longitude</th>\n",
       "      <th>target</th>\n",
       "    </tr>\n",
       "  </thead>\n",
       "  <tbody>\n",
       "    <tr>\n",
       "      <th>0</th>\n",
       "      <td>8.3252</td>\n",
       "      <td>41.0</td>\n",
       "      <td>6.984127</td>\n",
       "      <td>1.023810</td>\n",
       "      <td>322.0</td>\n",
       "      <td>2.555556</td>\n",
       "      <td>37.88</td>\n",
       "      <td>-122.23</td>\n",
       "      <td>4.526</td>\n",
       "    </tr>\n",
       "    <tr>\n",
       "      <th>1</th>\n",
       "      <td>8.3014</td>\n",
       "      <td>21.0</td>\n",
       "      <td>6.238137</td>\n",
       "      <td>0.971880</td>\n",
       "      <td>2401.0</td>\n",
       "      <td>2.109842</td>\n",
       "      <td>37.86</td>\n",
       "      <td>-122.22</td>\n",
       "      <td>3.585</td>\n",
       "    </tr>\n",
       "    <tr>\n",
       "      <th>2</th>\n",
       "      <td>7.2574</td>\n",
       "      <td>52.0</td>\n",
       "      <td>8.288136</td>\n",
       "      <td>1.073446</td>\n",
       "      <td>496.0</td>\n",
       "      <td>2.802260</td>\n",
       "      <td>37.85</td>\n",
       "      <td>-122.24</td>\n",
       "      <td>3.521</td>\n",
       "    </tr>\n",
       "    <tr>\n",
       "      <th>3</th>\n",
       "      <td>5.6431</td>\n",
       "      <td>52.0</td>\n",
       "      <td>5.817352</td>\n",
       "      <td>1.073059</td>\n",
       "      <td>558.0</td>\n",
       "      <td>2.547945</td>\n",
       "      <td>37.85</td>\n",
       "      <td>-122.25</td>\n",
       "      <td>3.413</td>\n",
       "    </tr>\n",
       "    <tr>\n",
       "      <th>4</th>\n",
       "      <td>3.8462</td>\n",
       "      <td>52.0</td>\n",
       "      <td>6.281853</td>\n",
       "      <td>1.081081</td>\n",
       "      <td>565.0</td>\n",
       "      <td>2.181467</td>\n",
       "      <td>37.85</td>\n",
       "      <td>-122.25</td>\n",
       "      <td>3.422</td>\n",
       "    </tr>\n",
       "  </tbody>\n",
       "</table>\n",
       "</div>"
      ],
      "text/plain": [
       "   MedInc  HouseAge  AveRooms  AveBedrms  Population  AveOccup  Latitude  \\\n",
       "0  8.3252      41.0  6.984127   1.023810       322.0  2.555556     37.88   \n",
       "1  8.3014      21.0  6.238137   0.971880      2401.0  2.109842     37.86   \n",
       "2  7.2574      52.0  8.288136   1.073446       496.0  2.802260     37.85   \n",
       "3  5.6431      52.0  5.817352   1.073059       558.0  2.547945     37.85   \n",
       "4  3.8462      52.0  6.281853   1.081081       565.0  2.181467     37.85   \n",
       "\n",
       "   Longitude  target  \n",
       "0    -122.23   4.526  \n",
       "1    -122.22   3.585  \n",
       "2    -122.24   3.521  \n",
       "3    -122.25   3.413  \n",
       "4    -122.25   3.422  "
      ]
     },
     "execution_count": 72,
     "metadata": {},
     "output_type": "execute_result"
    }
   ],
   "source": [
    "# Put the dataset along with the target variable in a pandas dataframe\n",
    "data = pd.DataFrame(housing.data, columns=housing.feature_names)\n",
    "# Add target to data\n",
    "data['target'] = housing['target']\n",
    "data.head()"
   ]
  },
  {
   "cell_type": "markdown",
   "metadata": {},
   "source": [
    "### Part 1a : Check for missing values in the dataset\n",
    "\n",
    "The dataset might have missing values represented by a `NaN`. Check if the dataset has such missing values."
   ]
  },
  {
   "cell_type": "code",
   "execution_count": 73,
   "metadata": {
    "deletable": false,
    "nbgrader": {
     "cell_type": "code",
     "checksum": "676197ad93aa1aa19b1e3898da4c017c",
     "grade": false,
     "grade_id": "p1a",
     "locked": false,
     "schema_version": 3,
     "solution": true,
     "task": false
    },
    "tags": []
   },
   "outputs": [],
   "source": [
    "# Check for missing values\n",
    "def is_null(dataframe):\n",
    "    \"\"\"\n",
    "    This function takes as input a pandas dataframe and outputs whether the\n",
    "    dataframe has missing values. Missing values can be detected by checking\n",
    "    for the presence of None or NaN. inf or -inf must also be treated as a missing value.\n",
    "\n",
    "    Input:\n",
    "        dataframe: Pandas dataframe\n",
    "    Output:\n",
    "        Return True is there are missing value in the dataframe. If not, return False.\n",
    "    \"\"\"\n",
    "    \n",
    "    \n",
    "    \n",
    "    #too lazy, go over all the values and check if == nan or none or -inf or inf\n",
    "    return dataframe.isnull().values.any()\n",
    "\n",
    "\n",
    "     # YOUR CODE HERE\n",
    "    #first we check for the inf values mentioned in the problem \n",
    "    if (dataframe.isin([float('inf')]).any().any() or dataframe.isin([float('-inf')]).any().any()):\n",
    "        return True\n",
    "    elif dataframe.isnull().any():\n",
    "        return True\n",
    "    return False"
   ]
  },
  {
   "cell_type": "code",
   "execution_count": 74,
   "metadata": {
    "deletable": false,
    "editable": false,
    "nbgrader": {
     "cell_type": "code",
     "checksum": "b933622008a9e4a077e1b2a8c239554e",
     "grade": true,
     "grade_id": "p1a-test",
     "locked": true,
     "points": 1,
     "schema_version": 3,
     "solution": false,
     "task": false
    },
    "tags": []
   },
   "outputs": [
    {
     "name": "stdout",
     "output_type": "stream",
     "text": [
      "The data has no missing values.\n"
     ]
    }
   ],
   "source": [
    "# === DO NOT MOVE/DELETE ===\n",
    "# This cell is used as a placeholder for autograder script injection.\n",
    "\n",
    "# This dataset has no null values; you can run this cell as a sanity check.\n",
    "print(f\"The data has{'' if is_null(data) else ' no'} missing values.\")\n",
    "assert not is_null(data)"
   ]
  },
  {
   "cell_type": "markdown",
   "metadata": {
    "tags": []
   },
   "source": [
    "### Part 1b: Studying the distribution of the target variable\n",
    "\n",
    "Plot the histogram of the target variable over a fixed number of bins (say, 30).\n",
    "\n",
    "Example histogram output:\n",
    "\n",
    "![Target histogram](https://jeffcui.com/misc/target_histogram.png)\n",
    "\n",
    "Hint: Use the histogram plotting function available in Seaborn in Matplotlib."
   ]
  },
  {
   "cell_type": "code",
   "execution_count": 75,
   "metadata": {
    "deletable": false,
    "nbgrader": {
     "cell_type": "code",
     "checksum": "b8d012221610349c7d2434b577a4ce32",
     "grade": true,
     "grade_id": "p1b",
     "locked": false,
     "points": 1,
     "schema_version": 3,
     "solution": true,
     "task": false
    },
    "tags": []
   },
   "outputs": [
    {
     "data": {
      "image/png": "[encoded data removed]",
      "text/plain": [
       "<Figure size 432x288 with 1 Axes>"
      ]
     },
     "metadata": {
      "needs_background": "light"
     },
     "output_type": "display_data"
    }
   ],
   "source": [
    "# Plot histogram of target variable\n",
    "\n",
    "data['target'].plot.hist(grid=True, bins=30, rwidth=0.9,\n",
    "                   color='#3EBCD2')\n",
    "\n",
    "plt.title('Target on California Housing Dataset')\n",
    "plt.xlabel('Target')\n",
    "plt.ylabel('Counts')\n",
    "plt.grid(axis='y', alpha=0.75)\n",
    "\n",
    "# YOUR CODE HERE"
   ]
  },
  {
   "cell_type": "markdown",
   "metadata": {},
   "source": [
    "### Part 1c: Plotting the correlation matrix\n",
    "Given the dataset stored in the `data` variable, plot the correlation matrix for the dataset. The dataset has 9 variables (8 features and one target variable) and thus, the correlation matrix must have a size of `9x9`.\n",
    "\n",
    "Hint: You may use the correlation matrix computation of a dataset provided by the `pandas` library.\n",
    "\n",
    "Link: [What is a correlation matrix?](https://www.displayr.com/what-is-a-correlation-matrix/)"
   ]
  },
  {
   "cell_type": "code",
   "execution_count": 76,
   "metadata": {
    "deletable": false,
    "nbgrader": {
     "cell_type": "code",
     "checksum": "b083172c548f71f3f9515e487a868fa1",
     "grade": false,
     "grade_id": "p1c",
     "locked": false,
     "schema_version": 3,
     "solution": true,
     "task": false
    },
    "tags": []
   },
   "outputs": [
    {
     "data": {
      "text/plain": [
       "<AxesSubplot:>"
      ]
     },
     "execution_count": 76,
     "metadata": {},
     "output_type": "execute_result"
    },
    {
     "data": {
      "image/png": "[encoded data removed]",
      "text/plain": [
       "<Figure size 432x288 with 2 Axes>"
      ]
     },
     "metadata": {
      "needs_background": "light"
     },
     "output_type": "display_data"
    }
   ],
   "source": [
    "# Correlation matrix\n",
    "def get_correlation_matrix(dataframe):\n",
    "    \"\"\"\n",
    "    Given a pandas dataframe, obtain the correlation matrix\n",
    "    computing the correlation between the entities in the dataset.\n",
    "\n",
    "    Input:\n",
    "        dataframe: Pandas dataframe\n",
    "    Output:\n",
    "        Return the correlation matrix as a pandas dataframe, rounded off to 2 decimal places.\n",
    "    \"\"\"\n",
    "    #use the corr function to get the matrix\n",
    "    corr = dataframe.corr()\n",
    "    \n",
    "    # YOUR CODE HERE\n",
    "    return corr.round(2)\n",
    "\n",
    "# Plot the correlation matrix\n",
    "correlation_matrix = get_correlation_matrix(data)\n",
    "# annot = True to print the values inside the square\n",
    "sns.heatmap(data=correlation_matrix, annot=True)"
   ]
  },
  {
   "cell_type": "code",
   "execution_count": 77,
   "metadata": {
    "deletable": false,
    "editable": false,
    "nbgrader": {
     "cell_type": "code",
     "checksum": "deeb1bce3582f0d0f8ac169145d4838f",
     "grade": true,
     "grade_id": "p1c-test",
     "locked": true,
     "points": 1,
     "schema_version": 3,
     "solution": false,
     "task": false
    },
    "tags": []
   },
   "outputs": [],
   "source": [
    "# === DO NOT MOVE/DELETE ===\n",
    "# This cell is used as a placeholder for autograder script injection.\n",
    "\n",
    "# You can check your output against the expected correlation matrix below:\n",
    "ground_truth = np.array([\n",
    "    [1.0, -0.12, 0.33, -0.06, 0.0, 0.02, -0.08, -0.02, 0.69],\n",
    "    [-0.12, 1.0, -0.15, -0.08, -0.3, 0.01, 0.01, -0.11, 0.11],\n",
    "    [0.33, -0.15, 1.0, 0.85, -0.07, 0.0, 0.11, -0.03, 0.15],\n",
    "    [-0.06, -0.08, 0.85, 1.0, -0.07, -0.01, 0.07, 0.01, -0.05],\n",
    "    [0.0, -0.3, -0.07, -0.07, 1.0, 0.07, -0.11, 0.1, -0.02],\n",
    "    [0.02, 0.01, 0.0, -0.01, 0.07, 1.0, 0.0, 0.0, -0.02],\n",
    "    [-0.08, 0.01, 0.11, 0.07, -0.11, 0.0, 1.0, -0.92, -0.14],\n",
    "    [-0.02, -0.11, -0.03, 0.01, 0.1, 0.0, -0.92, 1.0, -0.05],\n",
    "    [0.69, 0.11, 0.15, -0.05, -0.02, -0.02, -0.14, -0.05, 1.0],\n",
    "])\n",
    "assert np.allclose(ground_truth, get_correlation_matrix(data).to_numpy(), rtol=1e-2, atol=1e-2)"
   ]
  },
  {
   "cell_type": "markdown",
   "metadata": {},
   "source": [
    "### Part 1d: Extracting relevant variables\n",
    "\n",
    "Based on the correlation matrix obtained in the previous part, identify the top-4 most relevant features from the dataset for predicting the target variable."
   ]
  },
  {
   "cell_type": "markdown",
   "metadata": {},
   "source": [
    "That will be MedInc(0.69), HouseAge(0.11), AveRooms(0.15), and Latitude(-0.14)"
   ]
  },
  {
   "cell_type": "markdown",
   "metadata": {},
   "source": [
    "## Part 2: Data Manipulation\n",
    "\n",
    "This section is focused on arranging the dataset in a format suitable for training the linear regression model."
   ]
  },
  {
   "cell_type": "markdown",
   "metadata": {},
   "source": [
    "### Part 2a: Normalize the dataset\n",
    "\n",
    "Find the mean and standard deviation corresponding to each feature and target variable in the dataset. Use the values of the mean and standard deviation to normalize the dataset."
   ]
  },
  {
   "cell_type": "code",
   "execution_count": 78,
   "metadata": {
    "deletable": false,
    "nbgrader": {
     "cell_type": "code",
     "checksum": "71860eb9c74a47052a1d855b229b0083",
     "grade": false,
     "grade_id": "p2a",
     "locked": false,
     "schema_version": 3,
     "solution": true,
     "task": false
    },
    "tags": []
   },
   "outputs": [],
   "source": [
    "features = np.concatenate([data[name].to_numpy()[:, None] for name in housing['feature_names']], axis=1)\n",
    "target = housing['target']\n",
    "\n",
    "# Normalize data\n",
    "def normalize(features, target):\n",
    "    #Normalize them separatly \n",
    "    \n",
    "    features_normalized = (features - features.mean(axis=0))/features.std(axis=0)\n",
    "    \n",
    "    target_normalized = (target - target.mean(axis=0))/target.std(axis=0)\n",
    "    \n",
    "    return features_normalized, target_normalized\n",
    "\n",
    "features_normalized, target_normalized = normalize(features, target)"
   ]
  },
  {
   "cell_type": "code",
   "execution_count": 79,
   "metadata": {
    "deletable": false,
    "editable": false,
    "nbgrader": {
     "cell_type": "code",
     "checksum": "6cd6918ed1d597848bbd2c42e3eee9de",
     "grade": true,
     "grade_id": "p2a-test",
     "locked": true,
     "points": 1,
     "schema_version": 3,
     "solution": false,
     "task": false
    },
    "tags": []
   },
   "outputs": [],
   "source": [
    "# === DO NOT MOVE/DELETE ===\n",
    "# This cell is used as a placeholder for autograder script injection.\n",
    "assert all(np.abs(features_normalized.mean(axis=0)) < 1e-2), \"Mean should be close to 0\"\n",
    "assert all(np.abs(features_normalized.std(axis=0) - 1) < 1e-2), \"Standard deviation should be close to 1\"\n",
    "assert np.abs(target_normalized.mean(axis=0)) < 1e-2, \"Mean should be close to 0\"\n",
    "assert np.abs(target_normalized.std(axis=0) - 1) < 1e-2, \"Standard deviation should be close to 1\""
   ]
  },
  {
   "cell_type": "markdown",
   "metadata": {},
   "source": [
    "### Part 2b: Train-Test Split\n",
    "\n",
    "Use the train-test split function from `sklearn` and execute a 80-20 train-test split of the dataset."
   ]
  },
  {
   "cell_type": "code",
   "execution_count": 80,
   "metadata": {
    "deletable": false,
    "nbgrader": {
     "cell_type": "code",
     "checksum": "e24ac49c957cd3d0a2b12fe65992c0da",
     "grade": false,
     "grade_id": "p2b",
     "locked": false,
     "schema_version": 3,
     "solution": true,
     "task": false
    },
    "tags": []
   },
   "outputs": [],
   "source": [
    "# YOUR CODE HERE\n",
    "\n",
    "from sklearn.model_selection import train_test_split\n",
    "\n",
    "X = data.drop('target', axis=1) #drop the target column for the X\n",
    "\n",
    "Y = data['target'] #just need the target column for Y\n",
    "\n",
    "X_train, X_test, Y_train, Y_test = train_test_split(X, Y, test_size = 0.2) #test size 0.2 is for the 80-20 split "
   ]
  },
  {
   "cell_type": "code",
   "execution_count": 81,
   "metadata": {
    "deletable": false,
    "editable": false,
    "nbgrader": {
     "cell_type": "code",
     "checksum": "6205e4ce42238093a9f51eca8c65f5a7",
     "grade": true,
     "grade_id": "p2b-test",
     "locked": true,
     "points": 1,
     "schema_version": 3,
     "solution": false,
     "task": false
    },
    "tags": []
   },
   "outputs": [
    {
     "name": "stdout",
     "output_type": "stream",
     "text": [
      "(16512, 8)\n",
      "(4128, 8)\n",
      "(16512,)\n",
      "(4128,)\n"
     ]
    }
   ],
   "source": [
    "# === DO NOT MOVE/DELETE ===\n",
    "# This cell is used as a placeholder for autograder script injection.\n",
    "\n",
    "# Sanity checking:\n",
    "print(X_train.shape)\n",
    "print(X_test.shape)\n",
    "print(Y_train.shape)\n",
    "print(Y_test.shape)"
   ]
  },
  {
   "cell_type": "markdown",
   "metadata": {},
   "source": [
    "## Part 3: Linear Regression\n",
    "\n",
    "In this part, a linear regression model is used to fit the dataset loaded and normalized above."
   ]
  },
  {
   "cell_type": "markdown",
   "metadata": {},
   "source": [
    "### Part 3a: Code for Linear Regression\n",
    "Implement a closed-form solution for ordinary least squares linear regression in `MyLinearRegression`, and print out the RMSE and $R^2$ between the ground truth and the model prediction."
   ]
  },
  {
   "cell_type": "code",
   "execution_count": 82,
   "metadata": {
    "deletable": false,
    "nbgrader": {
     "cell_type": "code",
     "checksum": "874d0e119337f0c28ef1696777ff83f9",
     "grade": true,
     "grade_id": "p3a",
     "locked": false,
     "points": 1,
     "schema_version": 3,
     "solution": true,
     "task": false
    },
    "tags": []
   },
   "outputs": [],
   "source": [
    "class MyLinearRegression:\n",
    "    def __init__(self):\n",
    "        self.theta = None\n",
    "        \n",
    "    def fit(self, X, Y):\n",
    "        # Given X and Y, compute theta using the closed-form solution for linear regression\n",
    "        \n",
    "        \n",
    "        # YOUR CODE HERE\n",
    "        \n",
    "        n_trained = X.shape[0] # Number of training examples\n",
    "        \n",
    "        # Appending a column of ones in X to add the bias term\n",
    "        \n",
    "        X = np.append(X, np.ones((n_trained,1)), axis=1)    \n",
    "        \n",
    "        # reshaping y to (m,1)\n",
    "        \n",
    "        Y = Y.values\n",
    "        Y = Y.reshape(n_trained,1)\n",
    "\n",
    "        # The Normal Equation\n",
    "        \n",
    "        theta = np.dot(np.linalg.inv(np.dot(X.T, X)), np.dot(X.T, Y))\n",
    "\n",
    "        self.theta = theta #pointer\n",
    "        \n",
    "    \n",
    "    def predict(self, X):\n",
    "        # Predict Y for a given X\n",
    "        # YOUR CODE HERE\n",
    "        \n",
    "        X = np.append(X, np.ones((X.shape[0],1)), axis=1)\n",
    "    \n",
    "        #y_hat:dot product of X and theta pointed in fit.\n",
    "        y_hat = np.dot(X, self.theta)\n",
    "\n",
    "        return y_hat"
   ]
  },
  {
   "cell_type": "code",
   "execution_count": 83,
   "metadata": {},
   "outputs": [],
   "source": [
    "# Training and fitting the model on (X_train, Y_train) using MyLinearRegression function created above\n",
    "\n",
    "my_model = MyLinearRegression()\n",
    "\n",
    "my_model.fit(X_train, Y_train)"
   ]
  },
  {
   "cell_type": "code",
   "execution_count": 84,
   "metadata": {},
   "outputs": [
    {
     "name": "stdout",
     "output_type": "stream",
     "text": [
      "The model performance for training set\n",
      "--------------------------------------\n",
      "RMSE is 0.7232156687704009\n",
      "R2 score is 0.6071771814006139\n",
      "\n",
      "\n",
      "The model performance for testing set\n",
      "--------------------------------------\n",
      "RMSE is 0.7324645521817063\n",
      "R2 score is 0.597150319454226\n"
     ]
    }
   ],
   "source": [
    "from sklearn.metrics import mean_squared_error, r2_score\n",
    "\n",
    "# Compute train RMSE using (X_train, Y_train)\n",
    "\n",
    "y_train_predict = my_model.predict(X_train)\n",
    "\n",
    "train_rmse = (np.sqrt(mean_squared_error(Y_train, y_train_predict)))\n",
    "train_r2 = r2_score(Y_train, y_train_predict)\n",
    "\n",
    "#Output results\n",
    "print(\"The model performance for training set\")\n",
    "print(\"--------------------------------------\")\n",
    "print('RMSE is {}'.format(train_rmse))\n",
    "print('R2 score is {}'.format(train_r2))\n",
    "print(\"\\n\")\n",
    "\n",
    "# Compute test RMSE using (X_test, Y_test)\n",
    "\n",
    "y_test_predict = my_model.predict(X_test)\n",
    "test_rmse = (np.sqrt(mean_squared_error(Y_test, y_test_predict)))\n",
    "test_r2 = r2_score(Y_test, y_test_predict)\n",
    "\n",
    "#Output results\n",
    "print(\"The model performance for testing set\")\n",
    "print(\"--------------------------------------\")\n",
    "print('RMSE is {}'.format(test_rmse))\n",
    "print('R2 score is {}'.format(test_r2))"
   ]
  },
  {
   "cell_type": "markdown",
   "metadata": {},
   "source": [
    "### Part 3b: Compare with LinearRegression from sklearn.linear_model\n",
    "\n",
    "Use LinearRegression from the `sklearn` package to fit the dataset and compare the results obtained with your own implementaion of Linear Regression.\n",
    "\n",
    "The linear regressor should be named `model` for the cells below to run properly."
   ]
  },
  {
   "cell_type": "code",
   "execution_count": 85,
   "metadata": {
    "deletable": false,
    "nbgrader": {
     "cell_type": "code",
     "checksum": "2625c21f986f722c490d8fd6a3299db8",
     "grade": true,
     "grade_id": "p3b",
     "locked": false,
     "points": 1,
     "schema_version": 3,
     "solution": true,
     "task": false
    },
    "tags": []
   },
   "outputs": [
    {
     "data": {
      "text/plain": [
       "LinearRegression()"
      ]
     },
     "execution_count": 85,
     "metadata": {},
     "output_type": "execute_result"
    }
   ],
   "source": [
    "# YOUR CODE HERE\n",
    "from sklearn.linear_model import LinearRegression\n",
    "\n",
    "#same for fitting training data first\n",
    "model = LinearRegression()\n",
    "model.fit(X_train, Y_train)"
   ]
  },
  {
   "cell_type": "code",
   "execution_count": 86,
   "metadata": {},
   "outputs": [
    {
     "name": "stdout",
     "output_type": "stream",
     "text": [
      "The model performance for training set\n",
      "--------------------------------------\n",
      "RMSE is 0.7232156687704009\n",
      "R2 score is 0.6071771814006139\n",
      "\n",
      "\n",
      "The model performance for testing set\n",
      "--------------------------------------\n",
      "RMSE is 0.7324645521817826\n",
      "R2 score is 0.5971503194541419\n"
     ]
    }
   ],
   "source": [
    "# model evaluation for training set\n",
    "\n",
    "y_train_predict = model.predict(X_train)\n",
    "sklearn_train_rmse = (np.sqrt(mean_squared_error(Y_train, y_train_predict)))\n",
    "sklearn_train_r2 = r2_score(Y_train, y_train_predict)\n",
    "\n",
    "#Output results\n",
    "print(\"The model performance for training set\")\n",
    "print(\"--------------------------------------\")\n",
    "print('RMSE is {}'.format(sklearn_train_rmse))\n",
    "print('R2 score is {}'.format(sklearn_train_r2))\n",
    "print(\"\\n\")\n",
    "\n",
    "# model evaluation for testing set\n",
    "\n",
    "y_test_predict = model.predict(X_test)\n",
    "sklearn_test_rmse = (np.sqrt(mean_squared_error(Y_test, y_test_predict)))\n",
    "sklearn_test_r2 = r2_score(Y_test, y_test_predict)\n",
    "\n",
    "#Output results\n",
    "print(\"The model performance for testing set\")\n",
    "print(\"--------------------------------------\")\n",
    "print('RMSE is {}'.format(sklearn_test_rmse))\n",
    "print('R2 score is {}'.format(sklearn_test_r2))"
   ]
  },
  {
   "cell_type": "markdown",
   "metadata": {},
   "source": [
    "It is the same results indeed."
   ]
  },
  {
   "cell_type": "markdown",
   "metadata": {},
   "source": [
    "### Part 3c: Analysis Linear Regression Performance\n",
    "\n",
    "In this section, provide the observed difference in performance along with an explanation of the following:\n",
    "- Difference between training between unnormalized and normalized data.\n",
    "- Difference between training on all features versus training on the top-5 most relevant features in the dataset.\n",
    "- Difference between (1) training on all features (unnormalized), (2) training on top-4 unnormalized features, and (3) training on top-4 normalized features.\n",
    "\n",
    "Write your answer below."
   ]
  },
  {
   "cell_type": "code",
   "execution_count": 102,
   "metadata": {},
   "outputs": [
    {
     "name": "stdout",
     "output_type": "stream",
     "text": [
      "The model performance for testing set using normalized data\n",
      "--------------------------------------\n",
      "RMSE is 0.6239047731680119\n",
      "R2 score is 0.6173596351873645\n"
     ]
    }
   ],
   "source": [
    "#For Normalized data\n",
    "\n",
    "#separate data\n",
    "X_train, X_test, Y_train, Y_test = train_test_split(features_normalized, target_normalized, test_size = .2)\n",
    "\n",
    "#fit the model\n",
    "model = LinearRegression()\n",
    "model.fit(X_train, Y_train)\n",
    "\n",
    "#predict and evaluate\n",
    "y_test_predict = model.predict(X_test)\n",
    "sklearn_test_rmse = (np.sqrt(mean_squared_error(Y_test, y_test_predict)))\n",
    "sklearn_test_r2 = r2_score(Y_test, y_test_predict)\n",
    "\n",
    "#display foundings\n",
    "print(\"The model performance for testing set using normalized data\")\n",
    "print(\"--------------------------------------\")\n",
    "print('RMSE is {}'.format(sklearn_test_rmse))\n",
    "print('R2 score is {}'.format(sklearn_test_r2))"
   ]
  },
  {
   "cell_type": "code",
   "execution_count": 103,
   "metadata": {},
   "outputs": [
    {
     "name": "stdout",
     "output_type": "stream",
     "text": [
      "The model performance for testing set using non normalized data\n",
      "--------------------------------------\n",
      "RMSE is 0.7516428796805251\n",
      "R2 score is 0.5647882450042947\n"
     ]
    }
   ],
   "source": [
    "#For Unnormalized data\n",
    "\n",
    "#separate data\n",
    "X_train, X_test, Y_train, Y_test = train_test_split(features, target, test_size = .2)\n",
    "\n",
    "#fit the model\n",
    "model = LinearRegression()\n",
    "model.fit(X_train, Y_train)\n",
    "\n",
    "#predict and evaluate\n",
    "y_test_predict = model.predict(X_test)\n",
    "sklearn_test_rmse = (np.sqrt(mean_squared_error(Y_test, y_test_predict)))\n",
    "sklearn_test_r2 = r2_score(Y_test, y_test_predict)\n",
    "\n",
    "#display foundings\n",
    "print(\"The model performance for testing set using non normalized data\")\n",
    "print(\"--------------------------------------\")\n",
    "print('RMSE is {}'.format(sklearn_test_rmse))\n",
    "print('R2 score is {}'.format(sklearn_test_r2))"
   ]
  },
  {
   "cell_type": "markdown",
   "metadata": {},
   "source": [
    "Normalized vs unnormalized: Theorical difference \n",
    "\n",
    "The RMSE for unnormalized data is around 0.13 higher than for the normalized data, while the r^2 value is 0.05 lower. Since normalization brings all values closer together, there is less of a discrepancy between anticipated and actual values, which accounts for the difference in RMSE. The fact that normalized and unnormalized data exhibit the same patterns in terms of R^2 though, is probably because the datapoints remain the same no matter their state. So normalizing data doesn't make the model better in terms of r^2, but it does in terms of RMSE (not by much).\n",
    "\n",
    "One of the biggest impacts of normalizing your data is reducing the number of duplicates in your database. So, since Ordinary least squares is invariant in that manner, there's no much diff."
   ]
  },
  {
   "cell_type": "code",
   "execution_count": 106,
   "metadata": {},
   "outputs": [],
   "source": [
    "#lets create a dataset that only contains the top 5 features mentioned before\n",
    "\n",
    "features_top_five = data[['MedInc', 'HouseAge', 'AveRooms', 'AveBedrms', 'Latitude']]\n",
    "\n",
    "features_top_five_normalized, target_normalized = normalize(features_top_five, target)"
   ]
  },
  {
   "cell_type": "code",
   "execution_count": 121,
   "metadata": {},
   "outputs": [
    {
     "name": "stdout",
     "output_type": "stream",
     "text": [
      "The model performance for testing set using top 5 features normalized\n",
      "--------------------------------------\n",
      "RMSE is 0.6924895748472722\n",
      "R2 score is 0.5119105959043391\n"
     ]
    }
   ],
   "source": [
    "#top 5 normalized features regression\n",
    "\n",
    "#separate data\n",
    "X_train, X_test, Y_train, Y_test = train_test_split(features_top_five_normalized, target_normalized, test_size = .2)\n",
    "\n",
    "#fit the model\n",
    "model = LinearRegression()\n",
    "model.fit(X_train, Y_train)\n",
    "\n",
    "#predict and evaluate\n",
    "y_test_predict = model.predict(X_test)\n",
    "sklearn_test_rmse = (np.sqrt(mean_squared_error(Y_test, y_test_predict)))\n",
    "sklearn_test_r2 = r2_score(Y_test, y_test_predict)\n",
    "\n",
    "#display foundings\n",
    "print(\"The model performance for testing set using top 5 features normalized\")\n",
    "print(\"--------------------------------------\")\n",
    "print('RMSE is {}'.format(sklearn_test_rmse))\n",
    "print('R2 score is {}'.format(sklearn_test_r2))"
   ]
  },
  {
   "cell_type": "markdown",
   "metadata": {},
   "source": [
    "Top 5 features vs all features:\n",
    "\n",
    "In this instance, the disparity is considerably more glaring. The RMSE is 0.06 points lower when solely using the top 5 features, and the r2 is over 6% lower, in comparison to using all the elements on the analysis. The reason for this is probably because the missing elements still have some weight even though they are not as crucial. As a result, deleting them reduces the model's overall accuracy. So this will be isolating variables that could account for the variantion of the predictions. "
   ]
  },
  {
   "cell_type": "code",
   "execution_count": 132,
   "metadata": {},
   "outputs": [
    {
     "name": "stdout",
     "output_type": "stream",
     "text": [
      "The model performance for testing set using top 4 features not normalized\n",
      "--------------------------------------\n",
      "RMSE is 0.810289966012902\n",
      "R2 score is 0.510767424293719\n"
     ]
    }
   ],
   "source": [
    "#top 4 unnormalized features\n",
    "\n",
    "#create data with the four top \n",
    "features_top_four = data[['MedInc', 'HouseAge', 'AveRooms', 'Latitude']]\n",
    "\n",
    "#separate data\n",
    "X_train, X_test, Y_train, Y_test = train_test_split(features_top_four, target, test_size = .2)\n",
    "\n",
    "#fit the model\n",
    "model = LinearRegression()\n",
    "model.fit(X_train, Y_train)\n",
    "\n",
    "#predict and evaluate\n",
    "y_test_predict = model.predict(X_test)\n",
    "sklearn_test_rmse = (np.sqrt(mean_squared_error(Y_test, y_test_predict)))\n",
    "sklearn_test_r2 = r2_score(Y_test, y_test_predict)\n",
    "\n",
    "#display foundings\n",
    "print(\"The model performance for testing set using top 4 features not normalized\")\n",
    "print(\"--------------------------------------\")\n",
    "print('RMSE is {}'.format(sklearn_test_rmse))\n",
    "print('R2 score is {}'.format(sklearn_test_r2))"
   ]
  },
  {
   "cell_type": "code",
   "execution_count": 133,
   "metadata": {},
   "outputs": [
    {
     "name": "stdout",
     "output_type": "stream",
     "text": [
      "The model performance for testing set using top 4 features not normalized\n",
      "--------------------------------------\n",
      "RMSE is 0.789898530884784\n",
      "R2 score is 0.5353707657916189\n"
     ]
    }
   ],
   "source": [
    "#top 4 normalized features\n",
    "\n",
    "#Normalize the top four features\n",
    "features_top_four_normalized, target_normalized = normalize(features_top_four, target)\n",
    "\n",
    "#separate data\n",
    "X_train, X_test, Y_train, Y_test = train_test_split(features_top_four, target, test_size = .2)\n",
    "\n",
    "#fit the model\n",
    "model = LinearRegression()\n",
    "model.fit(X_train, Y_train)\n",
    "\n",
    "#predict and evaluate\n",
    "y_test_predict = model.predict(X_test)\n",
    "sklearn_test_rmse = (np.sqrt(mean_squared_error(Y_test, y_test_predict)))\n",
    "sklearn_test_r2 = r2_score(Y_test, y_test_predict)\n",
    "\n",
    "#display foundings\n",
    "print(\"The model performance for testing set using top 4 features not normalized\")\n",
    "print(\"--------------------------------------\")\n",
    "print('RMSE is {}'.format(sklearn_test_rmse))\n",
    "print('R2 score is {}'.format(sklearn_test_r2))"
   ]
  },
  {
   "cell_type": "markdown",
   "metadata": {},
   "source": [
    "RMSE is 0.7516428796805251\n",
    "R2 score is 0.5647882450042947\n",
    "\n",
    "Above are the results for using all the values unnormalized. Again, as analyzed before, normalized and not normalized don't make much difference, so there's almost no difference between the normalized and unnormalized using the 4 head components. But now, between these 4 components and all the components, there seems to be a difference of around 0.05, but a lower R^2 in any case. Then, using all features unnormalized provides the best overall model."
   ]
  },
  {
   "cell_type": "markdown",
   "metadata": {
    "deletable": false,
    "nbgrader": {
     "cell_type": "markdown",
     "checksum": "a371e76ca5caa75cbda4e6ea5cfb8c21",
     "grade": true,
     "grade_id": "p3c",
     "locked": false,
     "points": 1,
     "schema_version": 3,
     "solution": true,
     "task": false
    },
    "tags": []
   },
   "source": [
    "YOUR ANSWER HERE"
   ]
  }
 ],
 "metadata": {
  "kernelspec": {
   "display_name": "Python 3 (ipykernel)",
   "language": "python",
   "name": "python3"
  },
  "language_info": {
   "codemirror_mode": {
    "name": "ipython",
    "version": 3
   },
   "file_extension": ".py",
   "mimetype": "text/x-python",
   "name": "python",
   "nbconvert_exporter": "python",
   "pygments_lexer": "ipython3",
   "version": "3.9.7"
  },
  "vscode": {
   "interpreter": {
    "hash": "fc6f77fc95e5420108aa348103e4498d1d0de016cf7e1fd7da540445454c305d"
   }
  }
 },
 "nbformat": 4,
 "nbformat_minor": 4
}
