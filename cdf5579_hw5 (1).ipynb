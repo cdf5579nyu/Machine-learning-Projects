{
  "cells": [
    {
      "cell_type": "markdown",
      "metadata": {
        "id": "cwFs9F5Sfoev"
      },
      "source": [
        "# Homework 5: Neural Networks (100 points)\n",
        "\n",
        "In this homework, you will be implementing a fully connected neural network and a convolutional neural network using the PyTorch framework."
      ]
    },
    {
      "cell_type": "markdown",
      "source": [
        "Carlos Figueroa. Cdf5579. November 20th of 2022.\n"
      ],
      "metadata": {
        "id": "QjY1N79dnsYz"
      }
    },
    {
      "cell_type": "code",
      "execution_count": null,
      "metadata": {
        "id": "v6E1yqyKfoex"
      },
      "outputs": [],
      "source": [
        "import torch\n",
        "import torch.nn as nn\n",
        "import torch.nn.functional as F\n",
        "import torch.optim as optim\n",
        "from torchvision import datasets, transforms\n",
        "import matplotlib.pyplot as plt\n",
        "import numpy"
      ]
    },
    {
      "cell_type": "code",
      "execution_count": null,
      "metadata": {
        "id": "3R_nxQNFfoey"
      },
      "outputs": [],
      "source": [
        "device = torch.device(\"cuda:0\" if torch.cuda.is_available() else \"cpu\")"
      ]
    },
    {
      "cell_type": "code",
      "source": [
        "device"
      ],
      "metadata": {
        "colab": {
          "base_uri": "https://localhost:8080/"
        },
        "id": "2Gy9YPmRtCtf",
        "outputId": "a958bb66-f378-4835-b851-b07ecc5dec69"
      },
      "execution_count": null,
      "outputs": [
        {
          "output_type": "execute_result",
          "data": {
            "text/plain": [
              "device(type='cuda', index=0)"
            ]
          },
          "metadata": {},
          "execution_count": 3
        }
      ]
    },
    {
      "cell_type": "markdown",
      "metadata": {
        "id": "XnMRbNJ4foey"
      },
      "source": [
        "## Load the Dataset (MNIST)\n",
        "\n",
        "We can use some PyTorch DataLoader utilities for this. This will download, shuffle, normalize data and arrange it in batches."
      ]
    },
    {
      "cell_type": "code",
      "execution_count": null,
      "metadata": {
        "colab": {
          "base_uri": "https://localhost:8080/",
          "height": 435,
          "referenced_widgets": [
            "7cd6c0fce6ea4612998fa8afb627d727",
            "4c0e19efb3aa4237b607074b25d444d7",
            "75bc5ea99f7a4f84a1a9492f00c3c3d6",
            "50ff6c2a67a643c3978a73fa97dc9d87",
            "6f896a2cbc914f74a21609c5cecb260a",
            "3fc0d27411a74757b7a00547a2abd1e7",
            "98b6d7986d4441e1a12997455498b27c",
            "2eadddeb34e9485f974e6c6a030fb660",
            "4cd23aabd74b4b48a80f7435b3f4b0d2",
            "ec7ef7bcd9c14e9e873bb256b47f07b0",
            "72211d5de65f4d75a215802172b8ef13",
            "301c832481374862a77056c1d3560b39",
            "a6ba64409e3542a1b4039c545027b67f",
            "f4c98734737b41cca945ebc789bc2a11",
            "2f297252f7c74182a958a281a1fb2113",
            "0584430103424b64839ae9b9f344c1a2",
            "838e61c6a19c40999260dc9b9944f396",
            "fd72daeedc604c6ead7bcdefd1e19844",
            "be8a110a9fb24530a90291ae6957b86d",
            "bd0575f5a3024453b84fd8a9f8a66f6a",
            "59ea539107934c7abe9e433272378889",
            "f0b7adc644934afd9c63fba33872e4c8",
            "3da14edc1f05473fbc196076f34801f7",
            "69cbdc6281914b86ad2cbd8defb5c0ad",
            "8502d11c964d4ab6a7770c24394d4ab1",
            "3f7b5e0c073b49059b695b8f6567b89a",
            "c2c6c479bcf349a7a29f32abc3ee4734",
            "2d993eaafba548ea88fb215376e9a4f4",
            "ca731d69b0574f49843edae69307ff2c",
            "f432d494a8fa4ba08b16fae2c2f81279",
            "2d298d1bb8a84924861ff7044a715e44",
            "7ff4c166d30141e59ec63753e2c30db8",
            "2497720414e246f9931947431747d4f9",
            "653b70f0e76246f09f24c45b6dc71944",
            "6e0b18df574f4302ad4c1d747487a752",
            "f0ee84737fc64c9fa1401d00b44d4a36",
            "544ac8638e244239829cf034f1850cde",
            "53d7c9f55ad04d7f9329bf659ce0adab",
            "d564db9e2a2749e197471821de3e7f45",
            "5e572c2b5bef4cc7a05f6c87a43e7180",
            "b866c71a19a8492285a076abe9fd0732",
            "bb9f4c08da574de4868d4395c41e5fbc",
            "5c459b3d5dab4eb69a07c154c80bfd73",
            "d1aebe7ae4dd4d7ebec711e9b04f1c02"
          ]
        },
        "id": "03j6IXxQfoey",
        "outputId": "4391fb04-64d8-4a67-a2bc-f472d0a9f50d"
      },
      "outputs": [
        {
          "output_type": "stream",
          "name": "stdout",
          "text": [
            "Downloading http://yann.lecun.com/exdb/mnist/train-images-idx3-ubyte.gz\n",
            "Downloading http://yann.lecun.com/exdb/mnist/train-images-idx3-ubyte.gz to ./data/MNIST/raw/train-images-idx3-ubyte.gz\n"
          ]
        },
        {
          "output_type": "display_data",
          "data": {
            "text/plain": [
              "  0%|          | 0/9912422 [00:00<?, ?it/s]"
            ],
            "application/vnd.jupyter.widget-view+json": {
              "version_major": 2,
              "version_minor": 0,
              "model_id": "7cd6c0fce6ea4612998fa8afb627d727"
            }
          },
          "metadata": {}
        },
        {
          "output_type": "stream",
          "name": "stdout",
          "text": [
            "Extracting ./data/MNIST/raw/train-images-idx3-ubyte.gz to ./data/MNIST/raw\n",
            "\n",
            "Downloading http://yann.lecun.com/exdb/mnist/train-labels-idx1-ubyte.gz\n",
            "Downloading http://yann.lecun.com/exdb/mnist/train-labels-idx1-ubyte.gz to ./data/MNIST/raw/train-labels-idx1-ubyte.gz\n"
          ]
        },
        {
          "output_type": "display_data",
          "data": {
            "text/plain": [
              "  0%|          | 0/28881 [00:00<?, ?it/s]"
            ],
            "application/vnd.jupyter.widget-view+json": {
              "version_major": 2,
              "version_minor": 0,
              "model_id": "301c832481374862a77056c1d3560b39"
            }
          },
          "metadata": {}
        },
        {
          "output_type": "stream",
          "name": "stdout",
          "text": [
            "Extracting ./data/MNIST/raw/train-labels-idx1-ubyte.gz to ./data/MNIST/raw\n",
            "\n",
            "Downloading http://yann.lecun.com/exdb/mnist/t10k-images-idx3-ubyte.gz\n",
            "Downloading http://yann.lecun.com/exdb/mnist/t10k-images-idx3-ubyte.gz to ./data/MNIST/raw/t10k-images-idx3-ubyte.gz\n"
          ]
        },
        {
          "output_type": "display_data",
          "data": {
            "text/plain": [
              "  0%|          | 0/1648877 [00:00<?, ?it/s]"
            ],
            "application/vnd.jupyter.widget-view+json": {
              "version_major": 2,
              "version_minor": 0,
              "model_id": "3da14edc1f05473fbc196076f34801f7"
            }
          },
          "metadata": {}
        },
        {
          "output_type": "stream",
          "name": "stdout",
          "text": [
            "Extracting ./data/MNIST/raw/t10k-images-idx3-ubyte.gz to ./data/MNIST/raw\n",
            "\n",
            "Downloading http://yann.lecun.com/exdb/mnist/t10k-labels-idx1-ubyte.gz\n",
            "Downloading http://yann.lecun.com/exdb/mnist/t10k-labels-idx1-ubyte.gz to ./data/MNIST/raw/t10k-labels-idx1-ubyte.gz\n"
          ]
        },
        {
          "output_type": "display_data",
          "data": {
            "text/plain": [
              "  0%|          | 0/4542 [00:00<?, ?it/s]"
            ],
            "application/vnd.jupyter.widget-view+json": {
              "version_major": 2,
              "version_minor": 0,
              "model_id": "653b70f0e76246f09f24c45b6dc71944"
            }
          },
          "metadata": {}
        },
        {
          "output_type": "stream",
          "name": "stdout",
          "text": [
            "Extracting ./data/MNIST/raw/t10k-labels-idx1-ubyte.gz to ./data/MNIST/raw\n",
            "\n"
          ]
        }
      ],
      "source": [
        "input_size  = 28*28   # images are 28x28 pixels\n",
        "output_size = 10      # there are 10 classes\n",
        "\n",
        "train_dataset = datasets.MNIST('./data', train=True, download=True,\n",
        "                   transform=transforms.Compose([\n",
        "                       transforms.ToTensor(),\n",
        "                       transforms.Normalize((0.1307,), (0.3081,))\n",
        "                   ]))\n",
        "train_loader = torch.utils.data.DataLoader(train_dataset, batch_size=64, shuffle=True)\n",
        "\n",
        "test_dataset = datasets.MNIST('./data', train=False, transform=transforms.Compose([\n",
        "                       transforms.ToTensor(),\n",
        "                       transforms.Normalize((0.1307,), (0.3081,))\n",
        "                   ]))\n",
        "test_loader = torch.utils.data.DataLoader(test_dataset, batch_size=1000, shuffle=True)"
      ]
    },
    {
      "cell_type": "markdown",
      "metadata": {
        "id": "lLnfhakrfoez"
      },
      "source": [
        "# Plotting Data\n",
        "\n",
        "You must sample 10 images (one from each class) from the dataset and plot them as a grid with 2 rows of 5 columns each (i.e. of shape `2 x 5`)."
      ]
    },
    {
      "cell_type": "code",
      "execution_count": null,
      "metadata": {
        "colab": {
          "base_uri": "https://localhost:8080/",
          "height": 372
        },
        "id": "HmmuQtFkfoez",
        "outputId": "c57c2a49-739d-4e65-daf7-98f196be03c9"
      },
      "outputs": [
        {
          "output_type": "display_data",
          "data": {
            "text/plain": [
              "<Figure size 1080x432 with 10 Axes>"
            ],
            "image/png": "[encoded data removed]"
          },
          "metadata": {
            "needs_background": "light"
          }
        }
      ],
      "source": [
        "# TODO: Plot 10 images with one image from each class in the training set\n",
        "sampled = set()\n",
        "fig, axes = plt.subplots(nrows=2, ncols=5, figsize=(15,6))\n",
        "loc = 0\n",
        "i,j = 0,0\n",
        "\n",
        "for x, y in train_loader:\n",
        "  if len(sampled) > 9:\n",
        "    break\n",
        "  if y[0].item() in sampled:\n",
        "    continue\n",
        "  sampled.add(y[0].item())\n",
        "  axes[i,j].imshow(x[0].squeeze())\n",
        "  if j < 4:\n",
        "    j+=1\n",
        "  else:\n",
        "    j = 0\n",
        "    i += 1"
      ]
    },
    {
      "cell_type": "code",
      "source": [
        "figure = plt.figure(figsize=(15, 6))\n",
        "cols, rows = 5, 2\n",
        "\n",
        "for i in range(1, cols * rows + 1):\n",
        "    \n",
        "    sample_idx = torch.randint(len(train_dataset), size=(1,)).item()\n",
        "    img, label = train_dataset[sample_idx]\n",
        "    figure.add_subplot(rows, cols, i)\n",
        "    plt.axis(\"off\")\n",
        "    plt.imshow(img.squeeze(), cmap=\"gray\")\n",
        "    \n",
        "plt.show()"
      ],
      "metadata": {
        "colab": {
          "base_uri": "https://localhost:8080/",
          "height": 353
        },
        "id": "nJTIzQ7RnJqg",
        "outputId": "66c65e08-9818-4416-b20e-0ea6269ce386"
      },
      "execution_count": null,
      "outputs": [
        {
          "output_type": "display_data",
          "data": {
            "text/plain": [
              "<Figure size 1080x432 with 10 Axes>"
            ],
            "image/png": "[encoded data removed]"
          },
          "metadata": {
            "needs_background": "light"
          }
        }
      ]
    },
    {
      "cell_type": "markdown",
      "metadata": {
        "id": "AK7spfrafoez"
      },
      "source": [
        "## Train a Fully Connected Neural Network on MNIST"
      ]
    },
    {
      "cell_type": "markdown",
      "metadata": {
        "id": "CrsSAJ5Xfoez"
      },
      "source": [
        "### Define the network\n",
        "\n",
        "Build a 3-layer fully connected neural network that takes an input of size `784`, outputs `10` classes and has a hidden layer of size `(8,8)`. Use ReLU non-linearity and apply a logSoftmax function on the final layer.\n",
        "\n",
        "The model must have the following architecture:\n",
        "\n",
        "```\n",
        "linear_layer(input_size, n_hidden)\n",
        "relu\n",
        "linear_layer(n_hidden, n_hidden)\n",
        "relu\n",
        "linear_layer(n_hidden, output_size)\n",
        "log_softmax\n",
        "```"
      ]
    },
    {
      "cell_type": "code",
      "execution_count": null,
      "metadata": {
        "id": "faNct3y3foe0"
      },
      "outputs": [],
      "source": [
        "class FCN(nn.Module):\n",
        "    def __init__(self, input_size, n_hidden, output_size):\n",
        "        super(FCN, self).__init__()\n",
        "\n",
        "        self.flatten = nn.Flatten()\n",
        "        self.relu = nn.ReLU()\n",
        "        self.fc1 = nn.Linear(input_size, n_hidden)\n",
        "        self.fc2 = nn.Linear(n_hidden, n_hidden)\n",
        "        self.fc3 = nn.Linear(n_hidden, output_size)\n",
        "\n",
        "    def forward(self, x):\n",
        "\n",
        "        #we always first flatten\n",
        "        x = self.flatten(x)\n",
        "        #linear 1 then relu and so on until softmax at the end\n",
        "        x = F.relu(self.fc1(x))\n",
        "        x = F.relu(self.fc2(x))\n",
        "        return F.log_softmax(self.fc3(x))"
      ]
    },
    {
      "cell_type": "markdown",
      "metadata": {
        "id": "vAzD_gGCfoe0"
      },
      "source": [
        "### Define train and test function\n",
        "\n",
        "Complete the function for training and evaluating the model. You must use the cross entropy loss function for training the model.\n",
        "\n",
        "Note:\n",
        "- `permute` is a function passed as an argument to train and test functions.\n",
        "- `permutation_order` is a 1D torch array of size 784 (=28*28). It contains the random order for permutating the pixels in the `28x28` images."
      ]
    },
    {
      "cell_type": "code",
      "execution_count": null,
      "metadata": {
        "id": "wZhrjOomfoe0"
      },
      "outputs": [],
      "source": [
        "def train(epoch, model, optimizer, permute_pixels=None, permutation_order=None):\n",
        "    \"\"\"\n",
        "    Train the model for one epoch\n",
        "\n",
        "    Args:\n",
        "        epoch (int): current epoch\n",
        "        model (nn.Module): model to train\n",
        "        optimizer (torch.optim): optimizer to use\n",
        "        permute_pixels (function): function to permute the pixels (default: None)\n",
        "        permutation_order (1D torch array): order of the permutation (default: None)\n",
        "    \"\"\"\n",
        "    model.train()\n",
        "    for batch_idx, (data, target) in enumerate(train_loader):\n",
        "        # send to device\n",
        "        data, target = data.to(device), target.to(device)\n",
        "        \n",
        "        # permute pixels\n",
        "        if permute_pixels is not None:\n",
        "          #keep it in gpu\n",
        "          permutation_order = permutation_order.to(device)\n",
        "          #use the permute_pixels function for each picture in the dataset\n",
        "          for i in range(len(data)):\n",
        "            data[i] = permute_pixels(data[i], permutation_order)\n",
        "\n",
        "            \n",
        "        optimizer.zero_grad()\n",
        "        output = model(data)\n",
        "        loss = F.cross_entropy(output, target)\n",
        "        loss.backward()\n",
        "        optimizer.step()\n",
        "        \n",
        "        if batch_idx % 100 == 0:\n",
        "            print('Train Epoch: {} [{}/{} ({:.0f}%)]\\tLoss: {:.6f}'.format(\n",
        "                epoch, batch_idx * len(data), len(train_loader.dataset),\n",
        "                100. * batch_idx / len(train_loader), loss.item()))\n",
        "            \n",
        "def test(model, permute_pixels=None, permutation_order=None):\n",
        "    \"\"\"\n",
        "    Test the model\n",
        "\n",
        "    Args:\n",
        "        model (nn.Module): model to test\n",
        "        permute (function): function to permute the pixels (default: None)\n",
        "        permutation_order (1D torch array): order of the permutation (default: None)\n",
        "    \"\"\"\n",
        "    model.eval()\n",
        "    test_loss = 0\n",
        "    correct = 0\n",
        "    for data, target in test_loader:\n",
        "        # send to device\n",
        "        data, target = data.to(device), target.to(device)\n",
        "        \n",
        "        # permute pixels\n",
        "        if permute_pixels is not None:\n",
        "          #keep it in gpu\n",
        "          permutation_order = permutation_order.to(device)\n",
        "          #use the permute_pixels function for each picture in the dataset\n",
        "          for i in range(len(data)):\n",
        "            data[i] = permute_pixels(data[i], permutation_order)\n",
        "\n",
        "        output = model(data)\n",
        "        test_loss += F.cross_entropy(output, target).item() # sum up batch loss                                                               \n",
        "        pred = output.argmax(1)  # get the index of the max log-probability                                                                 \n",
        "        correct += (target == pred).type(torch.float).sum().item()\n",
        "\n",
        "    test_loss /= len(test_loader.dataset)\n",
        "    accuracy = 100. * correct / len(test_loader.dataset)\n",
        "    print('\\nTest set: Average loss: {:.4f}, Accuracy: {}/{} ({:.0f}%)\\n'.format(\n",
        "        test_loss, correct, len(test_loader.dataset),\n",
        "        accuracy))\n",
        "    return accuracy"
      ]
    },
    {
      "cell_type": "markdown",
      "metadata": {
        "id": "7jPzRz44foe1"
      },
      "source": [
        "# Write a function for computing the total parameter count of the model"
      ]
    },
    {
      "cell_type": "code",
      "execution_count": null,
      "metadata": {
        "id": "u7SZhqSpfoe1"
      },
      "outputs": [],
      "source": [
        "# function to count number of parameters\n",
        "def get_n_params(model):\n",
        "    # return number of parameters in model\n",
        "    num_parameters = sum(p.numel() for p in model.parameters())\n",
        "    return num_parameters\n",
        "    "
      ]
    },
    {
      "cell_type": "markdown",
      "metadata": {
        "id": "-2EYLJRlfoe1"
      },
      "source": [
        "### Train a small fully-connected network\n",
        "\n",
        "Optimizer : SGD with lr=0.01 and momentum=0.5"
      ]
    },
    {
      "cell_type": "code",
      "execution_count": null,
      "metadata": {
        "colab": {
          "base_uri": "https://localhost:8080/"
        },
        "id": "2kaiGwrZfoe1",
        "outputId": "1f41e2ec-9005-4a42-9973-c74ddab8d5d8"
      },
      "outputs": [
        {
          "output_type": "stream",
          "name": "stdout",
          "text": [
            "Number of parameters: 6442\n"
          ]
        },
        {
          "output_type": "stream",
          "name": "stderr",
          "text": [
            "/usr/local/lib/python3.7/dist-packages/ipykernel_launcher.py:18: UserWarning: Implicit dimension choice for log_softmax has been deprecated. Change the call to include dim=X as an argument.\n"
          ]
        },
        {
          "output_type": "stream",
          "name": "stdout",
          "text": [
            "Train Epoch: 0 [0/60000 (0%)]\tLoss: 2.354736\n",
            "Train Epoch: 0 [6400/60000 (11%)]\tLoss: 1.993412\n",
            "Train Epoch: 0 [12800/60000 (21%)]\tLoss: 1.308360\n",
            "Train Epoch: 0 [19200/60000 (32%)]\tLoss: 0.953963\n",
            "Train Epoch: 0 [25600/60000 (43%)]\tLoss: 0.961311\n",
            "Train Epoch: 0 [32000/60000 (53%)]\tLoss: 0.674439\n",
            "Train Epoch: 0 [38400/60000 (64%)]\tLoss: 0.865388\n",
            "Train Epoch: 0 [44800/60000 (75%)]\tLoss: 0.429125\n",
            "Train Epoch: 0 [51200/60000 (85%)]\tLoss: 0.333581\n",
            "Train Epoch: 0 [57600/60000 (96%)]\tLoss: 0.650621\n",
            "\n",
            "Test set: Average loss: 0.0005, Accuracy: 8605.0/10000 (86%)\n",
            "\n"
          ]
        }
      ],
      "source": [
        "n_hidden = 8 # number of hidden units\n",
        "\n",
        "model_fcn = FCN(input_size, n_hidden, output_size)\n",
        "model_fcn.to(device)\n",
        "optimizer = optim.SGD(model_fcn.parameters(), lr = 0.01, momentum = 0.5) # use SGD with learning rate 0.01 and momentum 0.5\n",
        "print('Number of parameters: {}'.format(get_n_params(model_fcn)))\n",
        "\n",
        "test_accuracy = []\n",
        "for epoch in range(0, 1):\n",
        "    train(epoch, model_fcn, optimizer)\n",
        "    test_accuracy.append(test(model_fcn))"
      ]
    },
    {
      "cell_type": "markdown",
      "metadata": {
        "id": "gBefE8xxfoe2"
      },
      "source": [
        "## Train a Convolutional Neural Network (CNN) on MNIST"
      ]
    },
    {
      "cell_type": "markdown",
      "metadata": {
        "id": "RHIj6M83foe2"
      },
      "source": [
        "Define a convolutional neural network with the following architecture to classify the MNIST images.\n",
        "\n",
        "```\n",
        "Conv(\n",
        "    conv2D(input_size, conv_feature, kernel_size=5)\n",
        "    relu()\n",
        "    maxpool2d(kernel_size=2)\n",
        "    conv2d(conv_feature, conv_feature, kernel_size=5)\n",
        "    relu()\n",
        "    maxpool2d(kernel_size=2)\n",
        ")\n",
        "\n",
        "FC(\n",
        "    linear_feature(conv_feature*4*4, fc_feature),\n",
        "    relu(),\n",
        "    linear_feature(fc_feature, output_size),\n",
        "    log_softmax()\n",
        ")\n",
        "```"
      ]
    },
    {
      "cell_type": "code",
      "execution_count": null,
      "metadata": {
        "id": "dLb4rwN-foe2"
      },
      "outputs": [],
      "source": [
        "class CNN(nn.Module):\n",
        "    def __init__(self, input_channels, conv_feature, fc_feature, output_size):\n",
        "        super(CNN, self).__init__()\n",
        "        #we define the nets we will use\n",
        "        self.conv1 = nn.Conv2d(in_channels=12, out_channels=conv_feature, kernel_size=50) #[12,224,224]-->[72,174,174], stride default value is 1\n",
        "        self.pool = nn.MaxPool2d(kernel_size=20,stride=14), #20*20 shape of kernel, stride Default value is kernel_size.[72,174,174]--->[72,12,12]\n",
        "        self.conv2 = nn.Conv2d(in_channels=conv_feature, out_channels=conv_feature, kernel_size=5), #[72,12,12]--->[72,8,8]\n",
        "        self.flatten = nn.Flatten()\n",
        "        self.dropout = nn.nn.Dropout(0.2)\n",
        "        self.dropout1 = nn.nn.Dropout(0.3)\n",
        "        self.fc1 = nn.Linear(conv_feature*4*4, fc_feature)\n",
        "        self.fc2 = nn.Linear(fc_feature, output_size)\n",
        "        \n",
        "    def forward(self, x):\n",
        "        #here we are doing a convolution 2d, then relu, then maxpool2d per line\n",
        "        x = self.pool(F.relu(self.conv1(x)))\n",
        "        x = self.pool(F.relu)\n",
        "        x = self.pool(F.relu(self.conv2(x)))\n",
        "        x = self.flatten(x)\n",
        "        #linear, then relu\n",
        "        x = F.relu(self.fc1(x))\n",
        "        #finally second linear and log softmax\n",
        "        return F.log_softmax(self.fc2(x))\n"
      ]
    },
    {
      "cell_type": "code",
      "source": [
        "class CNN(nn.Module):\n",
        "    def __init__(self, input_size, conv_feature, fc_feature, output_size):\n",
        "        super(CNN, self).__init__()\n",
        "\n",
        "        #first do convolutional layers\n",
        "        self.cnn_layers = nn.Sequential(\n",
        "            nn.Conv2d(in_channels=12, out_channels=conv_feature, kernel_size=50), #[12,224,224]-->[72,174,174], stride default value is 1\n",
        "            nn.ReLU(),\n",
        "            nn.MaxPool2d(kernel_size=20,stride=14), #20*20 shape of kernel, stride Default value is kernel_size.[72,174,174]--->[72,12,12]\n",
        "            nn.Conv2d(in_channels=conv_feature, out_channels=conv_feature, kernel_size=5), #[72,12,12]--->[72,8,8]\n",
        "            nn.ReLU(),\n",
        "            nn.MaxPool2d(kernel_size=2), #[72,8,8]-->[72,4,4]\n",
        "            )\n",
        "        \n",
        "        #then linear layers\n",
        "        self.linear_layers=nn.Sequential(\n",
        "            nn.Linear(conv_feature*4*4, fc_feature),\n",
        "            nn.ReLU(),\n",
        "            nn.Dropout(0.2),\n",
        "            nn.Linear(fc_feature, output_size))\n",
        "        \n",
        "    def forward(self, x):\n",
        "        x = self.cnn_layers(x)\n",
        "        x = x.view(x.size(0), -1)\n",
        "        result = self.linear_layers(x)\n",
        "        return result"
      ],
      "metadata": {
        "id": "fgVSoONOLzZK"
      },
      "execution_count": null,
      "outputs": []
    },
    {
      "cell_type": "markdown",
      "metadata": {
        "id": "4hKTxBunfoe2"
      },
      "source": [
        "### Train a ConvNet with the same number of parameters"
      ]
    },
    {
      "cell_type": "code",
      "execution_count": null,
      "metadata": {
        "colab": {
          "base_uri": "https://localhost:8080/"
        },
        "id": "f3dmxI9sfoe2",
        "outputId": "69b7d348-1285-4d31-cb25-e223e0a6dc13"
      },
      "outputs": [
        {
          "output_type": "stream",
          "name": "stdout",
          "text": [
            "Number of parameters: 6422\n",
            "Train Epoch: 0 [0/60000 (0%)]\tLoss: 2.307492\n"
          ]
        },
        {
          "output_type": "stream",
          "name": "stderr",
          "text": [
            "/usr/local/lib/python3.7/dist-packages/ipykernel_launcher.py:20: UserWarning: Implicit dimension choice for log_softmax has been deprecated. Change the call to include dim=X as an argument.\n"
          ]
        },
        {
          "output_type": "stream",
          "name": "stdout",
          "text": [
            "Train Epoch: 0 [6400/60000 (11%)]\tLoss: 2.221354\n",
            "Train Epoch: 0 [12800/60000 (21%)]\tLoss: 0.568497\n",
            "Train Epoch: 0 [19200/60000 (32%)]\tLoss: 0.273516\n",
            "Train Epoch: 0 [25600/60000 (43%)]\tLoss: 0.274483\n",
            "Train Epoch: 0 [32000/60000 (53%)]\tLoss: 0.242287\n",
            "Train Epoch: 0 [38400/60000 (64%)]\tLoss: 0.208365\n",
            "Train Epoch: 0 [44800/60000 (75%)]\tLoss: 0.276488\n",
            "Train Epoch: 0 [51200/60000 (85%)]\tLoss: 0.371831\n",
            "Train Epoch: 0 [57600/60000 (96%)]\tLoss: 0.075273\n",
            "\n",
            "Test set: Average loss: 0.0001, Accuracy: 9610.0/10000 (96%)\n",
            "\n"
          ]
        }
      ],
      "source": [
        "# Training settings \n",
        "conv_features = 6 # number of feature maps\n",
        "input_channels = 1\n",
        "fc_features = 50\n",
        "\n",
        "model_cnn = CNN(input_channels, conv_features, fc_features, output_size) # create CNN model\n",
        "#details of this CNN are included in the class above, just copy and paste the class with parameters to initiallize\n",
        "model_cnn.to(device)\n",
        "#same optimizer as before\n",
        "optimizer = optim.SGD(model_cnn.parameters(), lr=0.01, momentum=0.5) # use SGD with learning rate 0.01 and momentum 0.5\n",
        "print('Number of parameters: {}'.format(get_n_params(model_cnn)))\n",
        "\n",
        "test_accuracy = []\n",
        "for epoch in range(0, 1):\n",
        "    train(epoch, model_cnn, optimizer)\n",
        "    test_accuracy.append(test(model_cnn))"
      ]
    },
    {
      "cell_type": "markdown",
      "metadata": {
        "id": "zcDXZninfoe2"
      },
      "source": [
        "### Question: Why do you think the ConvNet performs better than the fully connected network even though both have the same number of parameters?\n"
      ]
    },
    {
      "cell_type": "markdown",
      "metadata": {
        "id": "47FU55E2foe3"
      },
      "source": [
        "As we discussed in class, convolutions are not densely connected, meaning that not all input nodes affect all output nodes. This gives convolutional layers more flexibility in learning, because its able to place the requiered importance in certain regions of the data with particular features. Moreover, the number of weights per layer is a lot smaller, which helps a lot with high-dimensional inputs such as image data.\n",
        "\n",
        "Notwithstanding, this depends on the data that we are analyzing, and given that its numbers in imagenes, its better to use a convolutional network that weights inputs differently depending on their importance overall, since having the same weights (as it is in the FCN), will put equal weights on unimportant regions as well, consequently decreasing accuracy (as we saw).\n"
      ]
    },
    {
      "cell_type": "markdown",
      "metadata": {
        "id": "WRKrBXhtfoe3"
      },
      "source": [
        "### What happens if the assumptions are no longer true?"
      ]
    },
    {
      "cell_type": "code",
      "execution_count": null,
      "metadata": {
        "id": "ZLnGO3jafoe3"
      },
      "outputs": [],
      "source": [
        "# Given a permutation order, permute the pixels of the input image\n",
        "def permute_pixels(data, permutation_order):\n",
        "    \"\"\"\n",
        "    Permute the pixels of the input image\n",
        "    \n",
        "    Args:\n",
        "        data (torch tensor): batch of input images of shape (B, 1, H, W) where B is the batch size, H is the height and W is the width.\n",
        "        permutation_order (1D torch array): order of the permutation\n",
        "    \n",
        "    Returns:\n",
        "        permuted_data (torch tensor): permuted batch of input images of shape (B, 1, H, W)\n",
        "    \"\"\"\n",
        "\n",
        "    data = torch.flatten(data)\n",
        "\n",
        "    #this torch function can perform this action for a single image\n",
        "    data = torch.index_select(data, 0, permutation_order)\n",
        "    #that is why when we call it in the train and test section, it is looping over the images in the training and test set\n",
        "\n",
        "\n",
        "    return torch.reshape(data, (28, 28))"
      ]
    },
    {
      "cell_type": "code",
      "execution_count": null,
      "metadata": {
        "colab": {
          "base_uri": "https://localhost:8080/",
          "height": 683
        },
        "id": "x77VO8z6foe3",
        "outputId": "db14076d-521d-4025-cef6-ece6bcfa794b"
      },
      "outputs": [
        {
          "output_type": "display_data",
          "data": {
            "text/plain": [
              "<Figure size 1152x864 with 20 Axes>"
            ],
            "image/png": "[encoded data removed]"
          },
          "metadata": {
            "needs_background": "light"
          }
        }
      ],
      "source": [
        "permutation_order = torch.randperm(28*28)\n",
        "\n",
        "plt.figure(figsize=(16, 12))\n",
        "for i in range(10):\n",
        "    image, _ = train_loader.dataset.__getitem__(i)\n",
        "    #clarification from campuswire\n",
        "    image = image[None, :]\n",
        "    # permute pixels\n",
        "    image_perm = permute_pixels(image.clone(), permutation_order)\n",
        "    plt.subplot(4, 5, i + 1)\n",
        "    plt.imshow(image.squeeze().numpy())\n",
        "    plt.axis('off')\n",
        "    plt.subplot(4, 5, i + 11)\n",
        "    plt.imshow(image_perm.squeeze().numpy())\n",
        "    plt.axis('off')\n",
        "\n",
        "    permutation_order = torch.randperm(28*28)\n"
      ]
    },
    {
      "cell_type": "code",
      "source": [
        "image.clone().dim()"
      ],
      "metadata": {
        "colab": {
          "base_uri": "https://localhost:8080/"
        },
        "id": "oXUVFdJ5xG3v",
        "outputId": "e2dd75cb-4948-4d9f-efe2-ce3c91c19781"
      },
      "execution_count": null,
      "outputs": [
        {
          "output_type": "execute_result",
          "data": {
            "text/plain": [
              "3"
            ]
          },
          "metadata": {},
          "execution_count": 85
        }
      ]
    },
    {
      "cell_type": "markdown",
      "metadata": {
        "id": "twZD_Eqtfoe3"
      },
      "source": [
        "### ConvNet with permuted pixels\n",
        "\n",
        "Train and evaluate a ConvNet with permuted pixels."
      ]
    },
    {
      "cell_type": "code",
      "execution_count": null,
      "metadata": {
        "id": "7T4rUxPmfoe3",
        "colab": {
          "base_uri": "https://localhost:8080/"
        },
        "outputId": "d82d2611-2242-4f96-a96e-b851c5ea5e0d"
      },
      "outputs": [
        {
          "output_type": "stream",
          "name": "stdout",
          "text": [
            "Number of parameters: 6422\n",
            "Train Epoch: 0 [0/60000 (0%)]\tLoss: 2.326984\n"
          ]
        },
        {
          "output_type": "stream",
          "name": "stderr",
          "text": [
            "/usr/local/lib/python3.7/dist-packages/ipykernel_launcher.py:20: UserWarning: Implicit dimension choice for log_softmax has been deprecated. Change the call to include dim=X as an argument.\n"
          ]
        },
        {
          "output_type": "stream",
          "name": "stdout",
          "text": [
            "Train Epoch: 0 [6400/60000 (11%)]\tLoss: 2.266909\n",
            "Train Epoch: 0 [12800/60000 (21%)]\tLoss: 2.195266\n",
            "Train Epoch: 0 [19200/60000 (32%)]\tLoss: 1.944830\n",
            "Train Epoch: 0 [25600/60000 (43%)]\tLoss: 1.326799\n",
            "Train Epoch: 0 [32000/60000 (53%)]\tLoss: 1.347674\n",
            "Train Epoch: 0 [38400/60000 (64%)]\tLoss: 0.708905\n",
            "Train Epoch: 0 [44800/60000 (75%)]\tLoss: 0.655133\n",
            "Train Epoch: 0 [51200/60000 (85%)]\tLoss: 0.659184\n",
            "Train Epoch: 0 [57600/60000 (96%)]\tLoss: 0.580733\n",
            "\n",
            "Test set: Average loss: 0.0006, Accuracy: 7914.0/10000 (79%)\n",
            "\n"
          ]
        }
      ],
      "source": [
        "# Training settings \n",
        "conv_features = 6 # number of feature maps\n",
        "#this is key!\n",
        "input_size = 1\n",
        "fc_features = 50\n",
        "\n",
        "model_cnn = CNN(input_size, conv_features, fc_features, output_size) # create CNN model\n",
        "#same that we applied before\n",
        "\n",
        "model_cnn.to(device)\n",
        "#same optimization as before\n",
        "optimizer = optim.SGD(model_cnn.parameters(), lr=0.01, momentum=0.5) # use SGD with learning rate 0.01 and momentum 0.5\n",
        "print('Number of parameters: {}'.format(get_n_params(model_cnn)))\n",
        "\n",
        "for epoch in range(0, 1):\n",
        "    train(epoch, model_cnn, optimizer, permute_pixels, permutation_order)\n",
        "    test(model_cnn, permute_pixels, permutation_order)"
      ]
    },
    {
      "cell_type": "markdown",
      "metadata": {
        "id": "0XGWZhHKfoe3"
      },
      "source": [
        "### Fully-Connected with Permuted Pixels\n",
        "\n",
        "Train and evaluate a fully connected network with permuted pixels."
      ]
    },
    {
      "cell_type": "code",
      "execution_count": null,
      "metadata": {
        "id": "GtbvEwNxfoe3",
        "colab": {
          "base_uri": "https://localhost:8080/"
        },
        "outputId": "c94f0584-2ec0-4792-9c2b-746833432bdb"
      },
      "outputs": [
        {
          "output_type": "stream",
          "name": "stdout",
          "text": [
            "Number of parameters: 6442\n",
            "Train Epoch: 0 [0/60000 (0%)]\tLoss: 2.300932\n"
          ]
        },
        {
          "output_type": "stream",
          "name": "stderr",
          "text": [
            "/usr/local/lib/python3.7/dist-packages/ipykernel_launcher.py:18: UserWarning: Implicit dimension choice for log_softmax has been deprecated. Change the call to include dim=X as an argument.\n"
          ]
        },
        {
          "output_type": "stream",
          "name": "stdout",
          "text": [
            "Train Epoch: 0 [6400/60000 (11%)]\tLoss: 1.431341\n",
            "Train Epoch: 0 [12800/60000 (21%)]\tLoss: 1.029024\n",
            "Train Epoch: 0 [19200/60000 (32%)]\tLoss: 0.726314\n",
            "Train Epoch: 0 [25600/60000 (43%)]\tLoss: 0.792565\n",
            "Train Epoch: 0 [32000/60000 (53%)]\tLoss: 0.596496\n",
            "Train Epoch: 0 [38400/60000 (64%)]\tLoss: 0.637490\n",
            "Train Epoch: 0 [44800/60000 (75%)]\tLoss: 0.516469\n",
            "Train Epoch: 0 [51200/60000 (85%)]\tLoss: 0.367625\n",
            "Train Epoch: 0 [57600/60000 (96%)]\tLoss: 0.334639\n",
            "\n",
            "Test set: Average loss: 0.0004, Accuracy: 8732.0/10000 (87%)\n",
            "\n"
          ]
        }
      ],
      "source": [
        "n_hidden = 8    # number of hidden units\n",
        "\n",
        "model_fcn = FCN(input_size, n_hidden, output_size) # create FCN model\n",
        "model_fcn.to(device)\n",
        "optimizer = optim.SGD(model_fcn.parameters(), lr=0.01, momentum=0.5) # use SGD with learning rate 0.01 and momentum 0.5\n",
        "print('Number of parameters: {}'.format(get_n_params(model_fcn)))\n",
        "\n",
        "for epoch in range(0, 1):\n",
        "    train(epoch, model_fcn, optimizer, permute_pixels, permutation_order)\n",
        "    test(model_fcn, permute_pixels, permutation_order)"
      ]
    },
    {
      "cell_type": "markdown",
      "metadata": {
        "id": "eRPeZS1Ffoe4"
      },
      "source": [
        "### Question: We observe that the ConvNet's performance drops when we permute the pixels, but the Fully-Connected Network's performance stays the same. Provide an explanation for this."
      ]
    },
    {
      "cell_type": "markdown",
      "metadata": {
        "id": "t6bANGeifoe4"
      },
      "source": [
        "\n",
        "\n",
        "In the convNet we look at pixel posistion relative to other pixels in order to measure the importance of certain regions, and change the weights consequently (to skip unimportant regions of the data). Specifically, in the maxpool we combine nearby pixels with each other in order to gain this edge that makes convolutional networks useful. \n",
        "\n",
        "However, when the order of pixels is changed (meaning our assumption about the homogeneity of the data is no longer true), the performance goes down because the desicions that we are taking on the weights for certain regions are now innacurate due to the permutation of the data. \n",
        "\n",
        "On the other hand, in the FCN we don't have any feature like this(maxpool). As we mentioned before, everything has the same weight using FCN, so the ordering of the pixels does not matter, or would not create a direction bias as it does in the convolutional network. That is the reason why this accuracy does not change.\n"
      ]
    }
  ],
  "metadata": {
    "kernelspec": {
      "display_name": "Python 3.8.13 ('mlug')",
      "language": "python",
      "name": "python3"
    },
    "language_info": {
      "codemirror_mode": {
        "name": "ipython",
        "version": 3
      },
      "file_extension": ".py",
      "mimetype": "text/x-python",
      "name": "python",
      "nbconvert_exporter": "python",
      "pygments_lexer": "ipython3",
      "version": "3.8.13"
    },
    "orig_nbformat": 4,
    "vscode": {
      "interpreter": {
        "hash": "fc6f77fc95e5420108aa348103e4498d1d0de016cf7e1fd7da540445454c305d"
      }
    },
    "colab": {
      "provenance": []
    },
    "widgets": {
      "application/vnd.jupyter.widget-state+json": {
        "7cd6c0fce6ea4612998fa8afb627d727": {
          "model_module": "@jupyter-widgets/controls",
          "model_name": "HBoxModel",
          "model_module_version": "1.5.0",
          "state": {
            "_dom_classes": [],
            "_model_module": "@jupyter-widgets/controls",
            "_model_module_version": "1.5.0",
            "_model_name": "HBoxModel",
            "_view_count": null,
            "_view_module": "@jupyter-widgets/controls",
            "_view_module_version": "1.5.0",
            "_view_name": "HBoxView",
            "box_style": "",
            "children": [
              "IPY_MODEL_4c0e19efb3aa4237b607074b25d444d7",
              "IPY_MODEL_75bc5ea99f7a4f84a1a9492f00c3c3d6",
              "IPY_MODEL_50ff6c2a67a643c3978a73fa97dc9d87"
            ],
            "layout": "IPY_MODEL_6f896a2cbc914f74a21609c5cecb260a"
          }
        },
        "4c0e19efb3aa4237b607074b25d444d7": {
          "model_module": "@jupyter-widgets/controls",
          "model_name": "HTMLModel",
          "model_module_version": "1.5.0",
          "state": {
            "_dom_classes": [],
            "_model_module": "@jupyter-widgets/controls",
            "_model_module_version": "1.5.0",
            "_model_name": "HTMLModel",
            "_view_count": null,
            "_view_module": "@jupyter-widgets/controls",
            "_view_module_version": "1.5.0",
            "_view_name": "HTMLView",
            "description": "",
            "description_tooltip": null,
            "layout": "IPY_MODEL_3fc0d27411a74757b7a00547a2abd1e7",
            "placeholder": "​",
            "style": "IPY_MODEL_98b6d7986d4441e1a12997455498b27c",
            "value": "100%"
          }
        },
        "75bc5ea99f7a4f84a1a9492f00c3c3d6": {
          "model_module": "@jupyter-widgets/controls",
          "model_name": "FloatProgressModel",
          "model_module_version": "1.5.0",
          "state": {
            "_dom_classes": [],
            "_model_module": "@jupyter-widgets/controls",
            "_model_module_version": "1.5.0",
            "_model_name": "FloatProgressModel",
            "_view_count": null,
            "_view_module": "@jupyter-widgets/controls",
            "_view_module_version": "1.5.0",
            "_view_name": "ProgressView",
            "bar_style": "success",
            "description": "",
            "description_tooltip": null,
            "layout": "IPY_MODEL_2eadddeb34e9485f974e6c6a030fb660",
            "max": 9912422,
            "min": 0,
            "orientation": "horizontal",
            "style": "IPY_MODEL_4cd23aabd74b4b48a80f7435b3f4b0d2",
            "value": 9912422
          }
        },
        "50ff6c2a67a643c3978a73fa97dc9d87": {
          "model_module": "@jupyter-widgets/controls",
          "model_name": "HTMLModel",
          "model_module_version": "1.5.0",
          "state": {
            "_dom_classes": [],
            "_model_module": "@jupyter-widgets/controls",
            "_model_module_version": "1.5.0",
            "_model_name": "HTMLModel",
            "_view_count": null,
            "_view_module": "@jupyter-widgets/controls",
            "_view_module_version": "1.5.0",
            "_view_name": "HTMLView",
            "description": "",
            "description_tooltip": null,
            "layout": "IPY_MODEL_ec7ef7bcd9c14e9e873bb256b47f07b0",
            "placeholder": "​",
            "style": "IPY_MODEL_72211d5de65f4d75a215802172b8ef13",
            "value": " 9912422/9912422 [00:00&lt;00:00, 26842139.05it/s]"
          }
        },
        "6f896a2cbc914f74a21609c5cecb260a": {
          "model_module": "@jupyter-widgets/base",
          "model_name": "LayoutModel",
          "model_module_version": "1.2.0",
          "state": {
            "_model_module": "@jupyter-widgets/base",
            "_model_module_version": "1.2.0",
            "_model_name": "LayoutModel",
            "_view_count": null,
            "_view_module": "@jupyter-widgets/base",
            "_view_module_version": "1.2.0",
            "_view_name": "LayoutView",
            "align_content": null,
            "align_items": null,
            "align_self": null,
            "border": null,
            "bottom": null,
            "display": null,
            "flex": null,
            "flex_flow": null,
            "grid_area": null,
            "grid_auto_columns": null,
            "grid_auto_flow": null,
            "grid_auto_rows": null,
            "grid_column": null,
            "grid_gap": null,
            "grid_row": null,
            "grid_template_areas": null,
            "grid_template_columns": null,
            "grid_template_rows": null,
            "height": null,
            "justify_content": null,
            "justify_items": null,
            "left": null,
            "margin": null,
            "max_height": null,
            "max_width": null,
            "min_height": null,
            "min_width": null,
            "object_fit": null,
            "object_position": null,
            "order": null,
            "overflow": null,
            "overflow_x": null,
            "overflow_y": null,
            "padding": null,
            "right": null,
            "top": null,
            "visibility": null,
            "width": null
          }
        },
        "3fc0d27411a74757b7a00547a2abd1e7": {
          "model_module": "@jupyter-widgets/base",
          "model_name": "LayoutModel",
          "model_module_version": "1.2.0",
          "state": {
            "_model_module": "@jupyter-widgets/base",
            "_model_module_version": "1.2.0",
            "_model_name": "LayoutModel",
            "_view_count": null,
            "_view_module": "@jupyter-widgets/base",
            "_view_module_version": "1.2.0",
            "_view_name": "LayoutView",
            "align_content": null,
            "align_items": null,
            "align_self": null,
            "border": null,
            "bottom": null,
            "display": null,
            "flex": null,
            "flex_flow": null,
            "grid_area": null,
            "grid_auto_columns": null,
            "grid_auto_flow": null,
            "grid_auto_rows": null,
            "grid_column": null,
            "grid_gap": null,
            "grid_row": null,
            "grid_template_areas": null,
            "grid_template_columns": null,
            "grid_template_rows": null,
            "height": null,
            "justify_content": null,
            "justify_items": null,
            "left": null,
            "margin": null,
            "max_height": null,
            "max_width": null,
            "min_height": null,
            "min_width": null,
            "object_fit": null,
            "object_position": null,
            "order": null,
            "overflow": null,
            "overflow_x": null,
            "overflow_y": null,
            "padding": null,
            "right": null,
            "top": null,
            "visibility": null,
            "width": null
          }
        },
        "98b6d7986d4441e1a12997455498b27c": {
          "model_module": "@jupyter-widgets/controls",
          "model_name": "DescriptionStyleModel",
          "model_module_version": "1.5.0",
          "state": {
            "_model_module": "@jupyter-widgets/controls",
            "_model_module_version": "1.5.0",
            "_model_name": "DescriptionStyleModel",
            "_view_count": null,
            "_view_module": "@jupyter-widgets/base",
            "_view_module_version": "1.2.0",
            "_view_name": "StyleView",
            "description_width": ""
          }
        },
        "2eadddeb34e9485f974e6c6a030fb660": {
          "model_module": "@jupyter-widgets/base",
          "model_name": "LayoutModel",
          "model_module_version": "1.2.0",
          "state": {
            "_model_module": "@jupyter-widgets/base",
            "_model_module_version": "1.2.0",
            "_model_name": "LayoutModel",
            "_view_count": null,
            "_view_module": "@jupyter-widgets/base",
            "_view_module_version": "1.2.0",
            "_view_name": "LayoutView",
            "align_content": null,
            "align_items": null,
            "align_self": null,
            "border": null,
            "bottom": null,
            "display": null,
            "flex": null,
            "flex_flow": null,
            "grid_area": null,
            "grid_auto_columns": null,
            "grid_auto_flow": null,
            "grid_auto_rows": null,
            "grid_column": null,
            "grid_gap": null,
            "grid_row": null,
            "grid_template_areas": null,
            "grid_template_columns": null,
            "grid_template_rows": null,
            "height": null,
            "justify_content": null,
            "justify_items": null,
            "left": null,
            "margin": null,
            "max_height": null,
            "max_width": null,
            "min_height": null,
            "min_width": null,
            "object_fit": null,
            "object_position": null,
            "order": null,
            "overflow": null,
            "overflow_x": null,
            "overflow_y": null,
            "padding": null,
            "right": null,
            "top": null,
            "visibility": null,
            "width": null
          }
        },
        "4cd23aabd74b4b48a80f7435b3f4b0d2": {
          "model_module": "@jupyter-widgets/controls",
          "model_name": "ProgressStyleModel",
          "model_module_version": "1.5.0",
          "state": {
            "_model_module": "@jupyter-widgets/controls",
            "_model_module_version": "1.5.0",
            "_model_name": "ProgressStyleModel",
            "_view_count": null,
            "_view_module": "@jupyter-widgets/base",
            "_view_module_version": "1.2.0",
            "_view_name": "StyleView",
            "bar_color": null,
            "description_width": ""
          }
        },
        "ec7ef7bcd9c14e9e873bb256b47f07b0": {
          "model_module": "@jupyter-widgets/base",
          "model_name": "LayoutModel",
          "model_module_version": "1.2.0",
          "state": {
            "_model_module": "@jupyter-widgets/base",
            "_model_module_version": "1.2.0",
            "_model_name": "LayoutModel",
            "_view_count": null,
            "_view_module": "@jupyter-widgets/base",
            "_view_module_version": "1.2.0",
            "_view_name": "LayoutView",
            "align_content": null,
            "align_items": null,
            "align_self": null,
            "border": null,
            "bottom": null,
            "display": null,
            "flex": null,
            "flex_flow": null,
            "grid_area": null,
            "grid_auto_columns": null,
            "grid_auto_flow": null,
            "grid_auto_rows": null,
            "grid_column": null,
            "grid_gap": null,
            "grid_row": null,
            "grid_template_areas": null,
            "grid_template_columns": null,
            "grid_template_rows": null,
            "height": null,
            "justify_content": null,
            "justify_items": null,
            "left": null,
            "margin": null,
            "max_height": null,
            "max_width": null,
            "min_height": null,
            "min_width": null,
            "object_fit": null,
            "object_position": null,
            "order": null,
            "overflow": null,
            "overflow_x": null,
            "overflow_y": null,
            "padding": null,
            "right": null,
            "top": null,
            "visibility": null,
            "width": null
          }
        },
        "72211d5de65f4d75a215802172b8ef13": {
          "model_module": "@jupyter-widgets/controls",
          "model_name": "DescriptionStyleModel",
          "model_module_version": "1.5.0",
          "state": {
            "_model_module": "@jupyter-widgets/controls",
            "_model_module_version": "1.5.0",
            "_model_name": "DescriptionStyleModel",
            "_view_count": null,
            "_view_module": "@jupyter-widgets/base",
            "_view_module_version": "1.2.0",
            "_view_name": "StyleView",
            "description_width": ""
          }
        },
        "301c832481374862a77056c1d3560b39": {
          "model_module": "@jupyter-widgets/controls",
          "model_name": "HBoxModel",
          "model_module_version": "1.5.0",
          "state": {
            "_dom_classes": [],
            "_model_module": "@jupyter-widgets/controls",
            "_model_module_version": "1.5.0",
            "_model_name": "HBoxModel",
            "_view_count": null,
            "_view_module": "@jupyter-widgets/controls",
            "_view_module_version": "1.5.0",
            "_view_name": "HBoxView",
            "box_style": "",
            "children": [
              "IPY_MODEL_a6ba64409e3542a1b4039c545027b67f",
              "IPY_MODEL_f4c98734737b41cca945ebc789bc2a11",
              "IPY_MODEL_2f297252f7c74182a958a281a1fb2113"
            ],
            "layout": "IPY_MODEL_0584430103424b64839ae9b9f344c1a2"
          }
        },
        "a6ba64409e3542a1b4039c545027b67f": {
          "model_module": "@jupyter-widgets/controls",
          "model_name": "HTMLModel",
          "model_module_version": "1.5.0",
          "state": {
            "_dom_classes": [],
            "_model_module": "@jupyter-widgets/controls",
            "_model_module_version": "1.5.0",
            "_model_name": "HTMLModel",
            "_view_count": null,
            "_view_module": "@jupyter-widgets/controls",
            "_view_module_version": "1.5.0",
            "_view_name": "HTMLView",
            "description": "",
            "description_tooltip": null,
            "layout": "IPY_MODEL_838e61c6a19c40999260dc9b9944f396",
            "placeholder": "​",
            "style": "IPY_MODEL_fd72daeedc604c6ead7bcdefd1e19844",
            "value": "100%"
          }
        },
        "f4c98734737b41cca945ebc789bc2a11": {
          "model_module": "@jupyter-widgets/controls",
          "model_name": "FloatProgressModel",
          "model_module_version": "1.5.0",
          "state": {
            "_dom_classes": [],
            "_model_module": "@jupyter-widgets/controls",
            "_model_module_version": "1.5.0",
            "_model_name": "FloatProgressModel",
            "_view_count": null,
            "_view_module": "@jupyter-widgets/controls",
            "_view_module_version": "1.5.0",
            "_view_name": "ProgressView",
            "bar_style": "success",
            "description": "",
            "description_tooltip": null,
            "layout": "IPY_MODEL_be8a110a9fb24530a90291ae6957b86d",
            "max": 28881,
            "min": 0,
            "orientation": "horizontal",
            "style": "IPY_MODEL_bd0575f5a3024453b84fd8a9f8a66f6a",
            "value": 28881
          }
        },
        "2f297252f7c74182a958a281a1fb2113": {
          "model_module": "@jupyter-widgets/controls",
          "model_name": "HTMLModel",
          "model_module_version": "1.5.0",
          "state": {
            "_dom_classes": [],
            "_model_module": "@jupyter-widgets/controls",
            "_model_module_version": "1.5.0",
            "_model_name": "HTMLModel",
            "_view_count": null,
            "_view_module": "@jupyter-widgets/controls",
            "_view_module_version": "1.5.0",
            "_view_name": "HTMLView",
            "description": "",
            "description_tooltip": null,
            "layout": "IPY_MODEL_59ea539107934c7abe9e433272378889",
            "placeholder": "​",
            "style": "IPY_MODEL_f0b7adc644934afd9c63fba33872e4c8",
            "value": " 28881/28881 [00:00&lt;00:00, 269714.88it/s]"
          }
        },
        "0584430103424b64839ae9b9f344c1a2": {
          "model_module": "@jupyter-widgets/base",
          "model_name": "LayoutModel",
          "model_module_version": "1.2.0",
          "state": {
            "_model_module": "@jupyter-widgets/base",
            "_model_module_version": "1.2.0",
            "_model_name": "LayoutModel",
            "_view_count": null,
            "_view_module": "@jupyter-widgets/base",
            "_view_module_version": "1.2.0",
            "_view_name": "LayoutView",
            "align_content": null,
            "align_items": null,
            "align_self": null,
            "border": null,
            "bottom": null,
            "display": null,
            "flex": null,
            "flex_flow": null,
            "grid_area": null,
            "grid_auto_columns": null,
            "grid_auto_flow": null,
            "grid_auto_rows": null,
            "grid_column": null,
            "grid_gap": null,
            "grid_row": null,
            "grid_template_areas": null,
            "grid_template_columns": null,
            "grid_template_rows": null,
            "height": null,
            "justify_content": null,
            "justify_items": null,
            "left": null,
            "margin": null,
            "max_height": null,
            "max_width": null,
            "min_height": null,
            "min_width": null,
            "object_fit": null,
            "object_position": null,
            "order": null,
            "overflow": null,
            "overflow_x": null,
            "overflow_y": null,
            "padding": null,
            "right": null,
            "top": null,
            "visibility": null,
            "width": null
          }
        },
        "838e61c6a19c40999260dc9b9944f396": {
          "model_module": "@jupyter-widgets/base",
          "model_name": "LayoutModel",
          "model_module_version": "1.2.0",
          "state": {
            "_model_module": "@jupyter-widgets/base",
            "_model_module_version": "1.2.0",
            "_model_name": "LayoutModel",
            "_view_count": null,
            "_view_module": "@jupyter-widgets/base",
            "_view_module_version": "1.2.0",
            "_view_name": "LayoutView",
            "align_content": null,
            "align_items": null,
            "align_self": null,
            "border": null,
            "bottom": null,
            "display": null,
            "flex": null,
            "flex_flow": null,
            "grid_area": null,
            "grid_auto_columns": null,
            "grid_auto_flow": null,
            "grid_auto_rows": null,
            "grid_column": null,
            "grid_gap": null,
            "grid_row": null,
            "grid_template_areas": null,
            "grid_template_columns": null,
            "grid_template_rows": null,
            "height": null,
            "justify_content": null,
            "justify_items": null,
            "left": null,
            "margin": null,
            "max_height": null,
            "max_width": null,
            "min_height": null,
            "min_width": null,
            "object_fit": null,
            "object_position": null,
            "order": null,
            "overflow": null,
            "overflow_x": null,
            "overflow_y": null,
            "padding": null,
            "right": null,
            "top": null,
            "visibility": null,
            "width": null
          }
        },
        "fd72daeedc604c6ead7bcdefd1e19844": {
          "model_module": "@jupyter-widgets/controls",
          "model_name": "DescriptionStyleModel",
          "model_module_version": "1.5.0",
          "state": {
            "_model_module": "@jupyter-widgets/controls",
            "_model_module_version": "1.5.0",
            "_model_name": "DescriptionStyleModel",
            "_view_count": null,
            "_view_module": "@jupyter-widgets/base",
            "_view_module_version": "1.2.0",
            "_view_name": "StyleView",
            "description_width": ""
          }
        },
        "be8a110a9fb24530a90291ae6957b86d": {
          "model_module": "@jupyter-widgets/base",
          "model_name": "LayoutModel",
          "model_module_version": "1.2.0",
          "state": {
            "_model_module": "@jupyter-widgets/base",
            "_model_module_version": "1.2.0",
            "_model_name": "LayoutModel",
            "_view_count": null,
            "_view_module": "@jupyter-widgets/base",
            "_view_module_version": "1.2.0",
            "_view_name": "LayoutView",
            "align_content": null,
            "align_items": null,
            "align_self": null,
            "border": null,
            "bottom": null,
            "display": null,
            "flex": null,
            "flex_flow": null,
            "grid_area": null,
            "grid_auto_columns": null,
            "grid_auto_flow": null,
            "grid_auto_rows": null,
            "grid_column": null,
            "grid_gap": null,
            "grid_row": null,
            "grid_template_areas": null,
            "grid_template_columns": null,
            "grid_template_rows": null,
            "height": null,
            "justify_content": null,
            "justify_items": null,
            "left": null,
            "margin": null,
            "max_height": null,
            "max_width": null,
            "min_height": null,
            "min_width": null,
            "object_fit": null,
            "object_position": null,
            "order": null,
            "overflow": null,
            "overflow_x": null,
            "overflow_y": null,
            "padding": null,
            "right": null,
            "top": null,
            "visibility": null,
            "width": null
          }
        },
        "bd0575f5a3024453b84fd8a9f8a66f6a": {
          "model_module": "@jupyter-widgets/controls",
          "model_name": "ProgressStyleModel",
          "model_module_version": "1.5.0",
          "state": {
            "_model_module": "@jupyter-widgets/controls",
            "_model_module_version": "1.5.0",
            "_model_name": "ProgressStyleModel",
            "_view_count": null,
            "_view_module": "@jupyter-widgets/base",
            "_view_module_version": "1.2.0",
            "_view_name": "StyleView",
            "bar_color": null,
            "description_width": ""
          }
        },
        "59ea539107934c7abe9e433272378889": {
          "model_module": "@jupyter-widgets/base",
          "model_name": "LayoutModel",
          "model_module_version": "1.2.0",
          "state": {
            "_model_module": "@jupyter-widgets/base",
            "_model_module_version": "1.2.0",
            "_model_name": "LayoutModel",
            "_view_count": null,
            "_view_module": "@jupyter-widgets/base",
            "_view_module_version": "1.2.0",
            "_view_name": "LayoutView",
            "align_content": null,
            "align_items": null,
            "align_self": null,
            "border": null,
            "bottom": null,
            "display": null,
            "flex": null,
            "flex_flow": null,
            "grid_area": null,
            "grid_auto_columns": null,
            "grid_auto_flow": null,
            "grid_auto_rows": null,
            "grid_column": null,
            "grid_gap": null,
            "grid_row": null,
            "grid_template_areas": null,
            "grid_template_columns": null,
            "grid_template_rows": null,
            "height": null,
            "justify_content": null,
            "justify_items": null,
            "left": null,
            "margin": null,
            "max_height": null,
            "max_width": null,
            "min_height": null,
            "min_width": null,
            "object_fit": null,
            "object_position": null,
            "order": null,
            "overflow": null,
            "overflow_x": null,
            "overflow_y": null,
            "padding": null,
            "right": null,
            "top": null,
            "visibility": null,
            "width": null
          }
        },
        "f0b7adc644934afd9c63fba33872e4c8": {
          "model_module": "@jupyter-widgets/controls",
          "model_name": "DescriptionStyleModel",
          "model_module_version": "1.5.0",
          "state": {
            "_model_module": "@jupyter-widgets/controls",
            "_model_module_version": "1.5.0",
            "_model_name": "DescriptionStyleModel",
            "_view_count": null,
            "_view_module": "@jupyter-widgets/base",
            "_view_module_version": "1.2.0",
            "_view_name": "StyleView",
            "description_width": ""
          }
        },
        "3da14edc1f05473fbc196076f34801f7": {
          "model_module": "@jupyter-widgets/controls",
          "model_name": "HBoxModel",
          "model_module_version": "1.5.0",
          "state": {
            "_dom_classes": [],
            "_model_module": "@jupyter-widgets/controls",
            "_model_module_version": "1.5.0",
            "_model_name": "HBoxModel",
            "_view_count": null,
            "_view_module": "@jupyter-widgets/controls",
            "_view_module_version": "1.5.0",
            "_view_name": "HBoxView",
            "box_style": "",
            "children": [
              "IPY_MODEL_69cbdc6281914b86ad2cbd8defb5c0ad",
              "IPY_MODEL_8502d11c964d4ab6a7770c24394d4ab1",
              "IPY_MODEL_3f7b5e0c073b49059b695b8f6567b89a"
            ],
            "layout": "IPY_MODEL_c2c6c479bcf349a7a29f32abc3ee4734"
          }
        },
        "69cbdc6281914b86ad2cbd8defb5c0ad": {
          "model_module": "@jupyter-widgets/controls",
          "model_name": "HTMLModel",
          "model_module_version": "1.5.0",
          "state": {
            "_dom_classes": [],
            "_model_module": "@jupyter-widgets/controls",
            "_model_module_version": "1.5.0",
            "_model_name": "HTMLModel",
            "_view_count": null,
            "_view_module": "@jupyter-widgets/controls",
            "_view_module_version": "1.5.0",
            "_view_name": "HTMLView",
            "description": "",
            "description_tooltip": null,
            "layout": "IPY_MODEL_2d993eaafba548ea88fb215376e9a4f4",
            "placeholder": "​",
            "style": "IPY_MODEL_ca731d69b0574f49843edae69307ff2c",
            "value": "100%"
          }
        },
        "8502d11c964d4ab6a7770c24394d4ab1": {
          "model_module": "@jupyter-widgets/controls",
          "model_name": "FloatProgressModel",
          "model_module_version": "1.5.0",
          "state": {
            "_dom_classes": [],
            "_model_module": "@jupyter-widgets/controls",
            "_model_module_version": "1.5.0",
            "_model_name": "FloatProgressModel",
            "_view_count": null,
            "_view_module": "@jupyter-widgets/controls",
            "_view_module_version": "1.5.0",
            "_view_name": "ProgressView",
            "bar_style": "success",
            "description": "",
            "description_tooltip": null,
            "layout": "IPY_MODEL_f432d494a8fa4ba08b16fae2c2f81279",
            "max": 1648877,
            "min": 0,
            "orientation": "horizontal",
            "style": "IPY_MODEL_2d298d1bb8a84924861ff7044a715e44",
            "value": 1648877
          }
        },
        "3f7b5e0c073b49059b695b8f6567b89a": {
          "model_module": "@jupyter-widgets/controls",
          "model_name": "HTMLModel",
          "model_module_version": "1.5.0",
          "state": {
            "_dom_classes": [],
            "_model_module": "@jupyter-widgets/controls",
            "_model_module_version": "1.5.0",
            "_model_name": "HTMLModel",
            "_view_count": null,
            "_view_module": "@jupyter-widgets/controls",
            "_view_module_version": "1.5.0",
            "_view_name": "HTMLView",
            "description": "",
            "description_tooltip": null,
            "layout": "IPY_MODEL_7ff4c166d30141e59ec63753e2c30db8",
            "placeholder": "​",
            "style": "IPY_MODEL_2497720414e246f9931947431747d4f9",
            "value": " 1648877/1648877 [00:00&lt;00:00, 281941.67it/s]"
          }
        },
        "c2c6c479bcf349a7a29f32abc3ee4734": {
          "model_module": "@jupyter-widgets/base",
          "model_name": "LayoutModel",
          "model_module_version": "1.2.0",
          "state": {
            "_model_module": "@jupyter-widgets/base",
            "_model_module_version": "1.2.0",
            "_model_name": "LayoutModel",
            "_view_count": null,
            "_view_module": "@jupyter-widgets/base",
            "_view_module_version": "1.2.0",
            "_view_name": "LayoutView",
            "align_content": null,
            "align_items": null,
            "align_self": null,
            "border": null,
            "bottom": null,
            "display": null,
            "flex": null,
            "flex_flow": null,
            "grid_area": null,
            "grid_auto_columns": null,
            "grid_auto_flow": null,
            "grid_auto_rows": null,
            "grid_column": null,
            "grid_gap": null,
            "grid_row": null,
            "grid_template_areas": null,
            "grid_template_columns": null,
            "grid_template_rows": null,
            "height": null,
            "justify_content": null,
            "justify_items": null,
            "left": null,
            "margin": null,
            "max_height": null,
            "max_width": null,
            "min_height": null,
            "min_width": null,
            "object_fit": null,
            "object_position": null,
            "order": null,
            "overflow": null,
            "overflow_x": null,
            "overflow_y": null,
            "padding": null,
            "right": null,
            "top": null,
            "visibility": null,
            "width": null
          }
        },
        "2d993eaafba548ea88fb215376e9a4f4": {
          "model_module": "@jupyter-widgets/base",
          "model_name": "LayoutModel",
          "model_module_version": "1.2.0",
          "state": {
            "_model_module": "@jupyter-widgets/base",
            "_model_module_version": "1.2.0",
            "_model_name": "LayoutModel",
            "_view_count": null,
            "_view_module": "@jupyter-widgets/base",
            "_view_module_version": "1.2.0",
            "_view_name": "LayoutView",
            "align_content": null,
            "align_items": null,
            "align_self": null,
            "border": null,
            "bottom": null,
            "display": null,
            "flex": null,
            "flex_flow": null,
            "grid_area": null,
            "grid_auto_columns": null,
            "grid_auto_flow": null,
            "grid_auto_rows": null,
            "grid_column": null,
            "grid_gap": null,
            "grid_row": null,
            "grid_template_areas": null,
            "grid_template_columns": null,
            "grid_template_rows": null,
            "height": null,
            "justify_content": null,
            "justify_items": null,
            "left": null,
            "margin": null,
            "max_height": null,
            "max_width": null,
            "min_height": null,
            "min_width": null,
            "object_fit": null,
            "object_position": null,
            "order": null,
            "overflow": null,
            "overflow_x": null,
            "overflow_y": null,
            "padding": null,
            "right": null,
            "top": null,
            "visibility": null,
            "width": null
          }
        },
        "ca731d69b0574f49843edae69307ff2c": {
          "model_module": "@jupyter-widgets/controls",
          "model_name": "DescriptionStyleModel",
          "model_module_version": "1.5.0",
          "state": {
            "_model_module": "@jupyter-widgets/controls",
            "_model_module_version": "1.5.0",
            "_model_name": "DescriptionStyleModel",
            "_view_count": null,
            "_view_module": "@jupyter-widgets/base",
            "_view_module_version": "1.2.0",
            "_view_name": "StyleView",
            "description_width": ""
          }
        },
        "f432d494a8fa4ba08b16fae2c2f81279": {
          "model_module": "@jupyter-widgets/base",
          "model_name": "LayoutModel",
          "model_module_version": "1.2.0",
          "state": {
            "_model_module": "@jupyter-widgets/base",
            "_model_module_version": "1.2.0",
            "_model_name": "LayoutModel",
            "_view_count": null,
            "_view_module": "@jupyter-widgets/base",
            "_view_module_version": "1.2.0",
            "_view_name": "LayoutView",
            "align_content": null,
            "align_items": null,
            "align_self": null,
            "border": null,
            "bottom": null,
            "display": null,
            "flex": null,
            "flex_flow": null,
            "grid_area": null,
            "grid_auto_columns": null,
            "grid_auto_flow": null,
            "grid_auto_rows": null,
            "grid_column": null,
            "grid_gap": null,
            "grid_row": null,
            "grid_template_areas": null,
            "grid_template_columns": null,
            "grid_template_rows": null,
            "height": null,
            "justify_content": null,
            "justify_items": null,
            "left": null,
            "margin": null,
            "max_height": null,
            "max_width": null,
            "min_height": null,
            "min_width": null,
            "object_fit": null,
            "object_position": null,
            "order": null,
            "overflow": null,
            "overflow_x": null,
            "overflow_y": null,
            "padding": null,
            "right": null,
            "top": null,
            "visibility": null,
            "width": null
          }
        },
        "2d298d1bb8a84924861ff7044a715e44": {
          "model_module": "@jupyter-widgets/controls",
          "model_name": "ProgressStyleModel",
          "model_module_version": "1.5.0",
          "state": {
            "_model_module": "@jupyter-widgets/controls",
            "_model_module_version": "1.5.0",
            "_model_name": "ProgressStyleModel",
            "_view_count": null,
            "_view_module": "@jupyter-widgets/base",
            "_view_module_version": "1.2.0",
            "_view_name": "StyleView",
            "bar_color": null,
            "description_width": ""
          }
        },
        "7ff4c166d30141e59ec63753e2c30db8": {
          "model_module": "@jupyter-widgets/base",
          "model_name": "LayoutModel",
          "model_module_version": "1.2.0",
          "state": {
            "_model_module": "@jupyter-widgets/base",
            "_model_module_version": "1.2.0",
            "_model_name": "LayoutModel",
            "_view_count": null,
            "_view_module": "@jupyter-widgets/base",
            "_view_module_version": "1.2.0",
            "_view_name": "LayoutView",
            "align_content": null,
            "align_items": null,
            "align_self": null,
            "border": null,
            "bottom": null,
            "display": null,
            "flex": null,
            "flex_flow": null,
            "grid_area": null,
            "grid_auto_columns": null,
            "grid_auto_flow": null,
            "grid_auto_rows": null,
            "grid_column": null,
            "grid_gap": null,
            "grid_row": null,
            "grid_template_areas": null,
            "grid_template_columns": null,
            "grid_template_rows": null,
            "height": null,
            "justify_content": null,
            "justify_items": null,
            "left": null,
            "margin": null,
            "max_height": null,
            "max_width": null,
            "min_height": null,
            "min_width": null,
            "object_fit": null,
            "object_position": null,
            "order": null,
            "overflow": null,
            "overflow_x": null,
            "overflow_y": null,
            "padding": null,
            "right": null,
            "top": null,
            "visibility": null,
            "width": null
          }
        },
        "2497720414e246f9931947431747d4f9": {
          "model_module": "@jupyter-widgets/controls",
          "model_name": "DescriptionStyleModel",
          "model_module_version": "1.5.0",
          "state": {
            "_model_module": "@jupyter-widgets/controls",
            "_model_module_version": "1.5.0",
            "_model_name": "DescriptionStyleModel",
            "_view_count": null,
            "_view_module": "@jupyter-widgets/base",
            "_view_module_version": "1.2.0",
            "_view_name": "StyleView",
            "description_width": ""
          }
        },
        "653b70f0e76246f09f24c45b6dc71944": {
          "model_module": "@jupyter-widgets/controls",
          "model_name": "HBoxModel",
          "model_module_version": "1.5.0",
          "state": {
            "_dom_classes": [],
            "_model_module": "@jupyter-widgets/controls",
            "_model_module_version": "1.5.0",
            "_model_name": "HBoxModel",
            "_view_count": null,
            "_view_module": "@jupyter-widgets/controls",
            "_view_module_version": "1.5.0",
            "_view_name": "HBoxView",
            "box_style": "",
            "children": [
              "IPY_MODEL_6e0b18df574f4302ad4c1d747487a752",
              "IPY_MODEL_f0ee84737fc64c9fa1401d00b44d4a36",
              "IPY_MODEL_544ac8638e244239829cf034f1850cde"
            ],
            "layout": "IPY_MODEL_53d7c9f55ad04d7f9329bf659ce0adab"
          }
        },
        "6e0b18df574f4302ad4c1d747487a752": {
          "model_module": "@jupyter-widgets/controls",
          "model_name": "HTMLModel",
          "model_module_version": "1.5.0",
          "state": {
            "_dom_classes": [],
            "_model_module": "@jupyter-widgets/controls",
            "_model_module_version": "1.5.0",
            "_model_name": "HTMLModel",
            "_view_count": null,
            "_view_module": "@jupyter-widgets/controls",
            "_view_module_version": "1.5.0",
            "_view_name": "HTMLView",
            "description": "",
            "description_tooltip": null,
            "layout": "IPY_MODEL_d564db9e2a2749e197471821de3e7f45",
            "placeholder": "​",
            "style": "IPY_MODEL_5e572c2b5bef4cc7a05f6c87a43e7180",
            "value": "100%"
          }
        },
        "f0ee84737fc64c9fa1401d00b44d4a36": {
          "model_module": "@jupyter-widgets/controls",
          "model_name": "FloatProgressModel",
          "model_module_version": "1.5.0",
          "state": {
            "_dom_classes": [],
            "_model_module": "@jupyter-widgets/controls",
            "_model_module_version": "1.5.0",
            "_model_name": "FloatProgressModel",
            "_view_count": null,
            "_view_module": "@jupyter-widgets/controls",
            "_view_module_version": "1.5.0",
            "_view_name": "ProgressView",
            "bar_style": "success",
            "description": "",
            "description_tooltip": null,
            "layout": "IPY_MODEL_b866c71a19a8492285a076abe9fd0732",
            "max": 4542,
            "min": 0,
            "orientation": "horizontal",
            "style": "IPY_MODEL_bb9f4c08da574de4868d4395c41e5fbc",
            "value": 4542
          }
        },
        "544ac8638e244239829cf034f1850cde": {
          "model_module": "@jupyter-widgets/controls",
          "model_name": "HTMLModel",
          "model_module_version": "1.5.0",
          "state": {
            "_dom_classes": [],
            "_model_module": "@jupyter-widgets/controls",
            "_model_module_version": "1.5.0",
            "_model_name": "HTMLModel",
            "_view_count": null,
            "_view_module": "@jupyter-widgets/controls",
            "_view_module_version": "1.5.0",
            "_view_name": "HTMLView",
            "description": "",
            "description_tooltip": null,
            "layout": "IPY_MODEL_5c459b3d5dab4eb69a07c154c80bfd73",
            "placeholder": "​",
            "style": "IPY_MODEL_d1aebe7ae4dd4d7ebec711e9b04f1c02",
            "value": " 4542/4542 [00:00&lt;00:00, 35305.63it/s]"
          }
        },
        "53d7c9f55ad04d7f9329bf659ce0adab": {
          "model_module": "@jupyter-widgets/base",
          "model_name": "LayoutModel",
          "model_module_version": "1.2.0",
          "state": {
            "_model_module": "@jupyter-widgets/base",
            "_model_module_version": "1.2.0",
            "_model_name": "LayoutModel",
            "_view_count": null,
            "_view_module": "@jupyter-widgets/base",
            "_view_module_version": "1.2.0",
            "_view_name": "LayoutView",
            "align_content": null,
            "align_items": null,
            "align_self": null,
            "border": null,
            "bottom": null,
            "display": null,
            "flex": null,
            "flex_flow": null,
            "grid_area": null,
            "grid_auto_columns": null,
            "grid_auto_flow": null,
            "grid_auto_rows": null,
            "grid_column": null,
            "grid_gap": null,
            "grid_row": null,
            "grid_template_areas": null,
            "grid_template_columns": null,
            "grid_template_rows": null,
            "height": null,
            "justify_content": null,
            "justify_items": null,
            "left": null,
            "margin": null,
            "max_height": null,
            "max_width": null,
            "min_height": null,
            "min_width": null,
            "object_fit": null,
            "object_position": null,
            "order": null,
            "overflow": null,
            "overflow_x": null,
            "overflow_y": null,
            "padding": null,
            "right": null,
            "top": null,
            "visibility": null,
            "width": null
          }
        },
        "d564db9e2a2749e197471821de3e7f45": {
          "model_module": "@jupyter-widgets/base",
          "model_name": "LayoutModel",
          "model_module_version": "1.2.0",
          "state": {
            "_model_module": "@jupyter-widgets/base",
            "_model_module_version": "1.2.0",
            "_model_name": "LayoutModel",
            "_view_count": null,
            "_view_module": "@jupyter-widgets/base",
            "_view_module_version": "1.2.0",
            "_view_name": "LayoutView",
            "align_content": null,
            "align_items": null,
            "align_self": null,
            "border": null,
            "bottom": null,
            "display": null,
            "flex": null,
            "flex_flow": null,
            "grid_area": null,
            "grid_auto_columns": null,
            "grid_auto_flow": null,
            "grid_auto_rows": null,
            "grid_column": null,
            "grid_gap": null,
            "grid_row": null,
            "grid_template_areas": null,
            "grid_template_columns": null,
            "grid_template_rows": null,
            "height": null,
            "justify_content": null,
            "justify_items": null,
            "left": null,
            "margin": null,
            "max_height": null,
            "max_width": null,
            "min_height": null,
            "min_width": null,
            "object_fit": null,
            "object_position": null,
            "order": null,
            "overflow": null,
            "overflow_x": null,
            "overflow_y": null,
            "padding": null,
            "right": null,
            "top": null,
            "visibility": null,
            "width": null
          }
        },
        "5e572c2b5bef4cc7a05f6c87a43e7180": {
          "model_module": "@jupyter-widgets/controls",
          "model_name": "DescriptionStyleModel",
          "model_module_version": "1.5.0",
          "state": {
            "_model_module": "@jupyter-widgets/controls",
            "_model_module_version": "1.5.0",
            "_model_name": "DescriptionStyleModel",
            "_view_count": null,
            "_view_module": "@jupyter-widgets/base",
            "_view_module_version": "1.2.0",
            "_view_name": "StyleView",
            "description_width": ""
          }
        },
        "b866c71a19a8492285a076abe9fd0732": {
          "model_module": "@jupyter-widgets/base",
          "model_name": "LayoutModel",
          "model_module_version": "1.2.0",
          "state": {
            "_model_module": "@jupyter-widgets/base",
            "_model_module_version": "1.2.0",
            "_model_name": "LayoutModel",
            "_view_count": null,
            "_view_module": "@jupyter-widgets/base",
            "_view_module_version": "1.2.0",
            "_view_name": "LayoutView",
            "align_content": null,
            "align_items": null,
            "align_self": null,
            "border": null,
            "bottom": null,
            "display": null,
            "flex": null,
            "flex_flow": null,
            "grid_area": null,
            "grid_auto_columns": null,
            "grid_auto_flow": null,
            "grid_auto_rows": null,
            "grid_column": null,
            "grid_gap": null,
            "grid_row": null,
            "grid_template_areas": null,
            "grid_template_columns": null,
            "grid_template_rows": null,
            "height": null,
            "justify_content": null,
            "justify_items": null,
            "left": null,
            "margin": null,
            "max_height": null,
            "max_width": null,
            "min_height": null,
            "min_width": null,
            "object_fit": null,
            "object_position": null,
            "order": null,
            "overflow": null,
            "overflow_x": null,
            "overflow_y": null,
            "padding": null,
            "right": null,
            "top": null,
            "visibility": null,
            "width": null
          }
        },
        "bb9f4c08da574de4868d4395c41e5fbc": {
          "model_module": "@jupyter-widgets/controls",
          "model_name": "ProgressStyleModel",
          "model_module_version": "1.5.0",
          "state": {
            "_model_module": "@jupyter-widgets/controls",
            "_model_module_version": "1.5.0",
            "_model_name": "ProgressStyleModel",
            "_view_count": null,
            "_view_module": "@jupyter-widgets/base",
            "_view_module_version": "1.2.0",
            "_view_name": "StyleView",
            "bar_color": null,
            "description_width": ""
          }
        },
        "5c459b3d5dab4eb69a07c154c80bfd73": {
          "model_module": "@jupyter-widgets/base",
          "model_name": "LayoutModel",
          "model_module_version": "1.2.0",
          "state": {
            "_model_module": "@jupyter-widgets/base",
            "_model_module_version": "1.2.0",
            "_model_name": "LayoutModel",
            "_view_count": null,
            "_view_module": "@jupyter-widgets/base",
            "_view_module_version": "1.2.0",
            "_view_name": "LayoutView",
            "align_content": null,
            "align_items": null,
            "align_self": null,
            "border": null,
            "bottom": null,
            "display": null,
            "flex": null,
            "flex_flow": null,
            "grid_area": null,
            "grid_auto_columns": null,
            "grid_auto_flow": null,
            "grid_auto_rows": null,
            "grid_column": null,
            "grid_gap": null,
            "grid_row": null,
            "grid_template_areas": null,
            "grid_template_columns": null,
            "grid_template_rows": null,
            "height": null,
            "justify_content": null,
            "justify_items": null,
            "left": null,
            "margin": null,
            "max_height": null,
            "max_width": null,
            "min_height": null,
            "min_width": null,
            "object_fit": null,
            "object_position": null,
            "order": null,
            "overflow": null,
            "overflow_x": null,
            "overflow_y": null,
            "padding": null,
            "right": null,
            "top": null,
            "visibility": null,
            "width": null
          }
        },
        "d1aebe7ae4dd4d7ebec711e9b04f1c02": {
          "model_module": "@jupyter-widgets/controls",
          "model_name": "DescriptionStyleModel",
          "model_module_version": "1.5.0",
          "state": {
            "_model_module": "@jupyter-widgets/controls",
            "_model_module_version": "1.5.0",
            "_model_name": "DescriptionStyleModel",
            "_view_count": null,
            "_view_module": "@jupyter-widgets/base",
            "_view_module_version": "1.2.0",
            "_view_name": "StyleView",
            "description_width": ""
          }
        }
      }
    },
    "accelerator": "GPU",
    "gpuClass": "standard"
  },
  "nbformat": 4,
  "nbformat_minor": 0
}