{
  "cells": [
    {
      "cell_type": "markdown",
      "metadata": {
        "id": "1CwJcR-StZva"
      },
      "source": [
        "# Homework 6: Dimensionality Reduction (100 points)\n",
        "\n",
        "In this homework, you will be implementing Principal Component Analysis (PCA) and K-means clustering from scratch in python using NumPy."
      ]
    },
    {
      "cell_type": "code",
      "execution_count": null,
      "metadata": {
        "id": "RenNfXfhtZvc"
      },
      "outputs": [],
      "source": [
        "import numpy as np\n",
        "import pandas as pd\n",
        "import torch\n",
        "from torchvision import datasets, transforms\n",
        "import matplotlib.pyplot as plt\n",
        "%matplotlib inline\n",
        "import random #just in case"
      ]
    },
    {
      "cell_type": "markdown",
      "metadata": {
        "id": "r3uND6ystZve"
      },
      "source": [
        "# Load Data\n",
        "\n",
        "Load train and test data for the Fashion MNIST dataset using PyTorch."
      ]
    },
    {
      "cell_type": "code",
      "execution_count": null,
      "metadata": {
        "id": "cJ2IOXFVtZve",
        "colab": {
          "base_uri": "https://localhost:8080/",
          "height": 435,
          "referenced_widgets": [
            "c500f475a9324eb3a219dc03df729733",
            "d9bc4b4682ce43e6b6fef3967fd4d7f2",
            "768ac46e59214af19fc0f750f52aa2bd",
            "4c0b7b6532964797bb4ca66b9e838742",
            "500149cdcb9f45669aac920fbf4c8849",
            "f7faf6dd39c746b69e11d897c57f9304",
            "d309b01fd25b47948b65e9de12a26cdb",
            "bc12c1082db54adfa932a5d8aa29a36f",
            "5c2e0c458a20401993618edb1f761ffe",
            "e68dbca9feda4fc286649c90e470fe19",
            "f41eccc4fc6c448e83d1590515bc969c",
            "ba1c5966dd8e4358aa335ce1e6704d2a",
            "7f8278f8e44e40cca60d2e6e0a99b18f",
            "f8597fdae01d4d148f852ce4c88be71a",
            "1a60bb2a33af45188dc8ad666c6c1ff2",
            "f6852671c37e4cb0a8a78e7835b477ec",
            "c64ca80ce3784b549f48a1453041ed89",
            "78184badeda8464aae8b9692f142e966",
            "23699b642b5f4b2fa0d4f1c3de205ce6",
            "9c4d6f18d1b6444eadccddc3013f3423",
            "069cd5908b8f48f99f6b75c9c6b14848",
            "21376288fa0d4815995a6d5691b37572",
            "da0da49a6d94495e85c3fd139acae63b",
            "9197a0d2ae3b4ff79cb8cba278190d2e",
            "b3595d8c8ecb47b0afc55fe0ab0728d6",
            "175d20bb721e43279fb925f20488e4fd",
            "d78edda9ad694dabaab181c261b06189",
            "46accf9f80404841b97fb7bec5db5d26",
            "d094061eb344452f84011c3ced6dc5e6",
            "776d22024f7c40e5967978291afd13a7",
            "c3a212affa4f4f79ae5d8166becb32ba",
            "991923a1bebf4a7f9d1ede9436f2efc3",
            "7c556e4189b7415b9dbab776f6b96408",
            "1cee2bee7bda468ca0ea24ca612c3f7a",
            "0128f624322649f3aeb6689fea711076",
            "d83aecf4806d47fda87033261466ed5d",
            "b64d6ee433834c2a89d40147ed612647",
            "975bf0d10d7643ec9b7d337cf116d425",
            "d397630e3c0c4eae82bc4a56a98ac102",
            "fcb3a78fd56e4958b82911835e745f15",
            "f9e518e15cf747bbbad7f2526c71b39c",
            "99b1349410a04ec880f8b4654a6b328c",
            "c2be14dcf7e84e10a0e4b821d090cd96",
            "3e766550211644f191d400c107f4efd1"
          ]
        },
        "outputId": "1790e912-9fa0-4fc0-ee5e-5fe819be7f51"
      },
      "outputs": [
        {
          "output_type": "stream",
          "name": "stdout",
          "text": [
            "Downloading http://fashion-mnist.s3-website.eu-central-1.amazonaws.com/train-images-idx3-ubyte.gz\n",
            "Downloading http://fashion-mnist.s3-website.eu-central-1.amazonaws.com/train-images-idx3-ubyte.gz to data_fashion/FashionMNIST/raw/train-images-idx3-ubyte.gz\n"
          ]
        },
        {
          "output_type": "display_data",
          "data": {
            "text/plain": [
              "  0%|          | 0/26421880 [00:00<?, ?it/s]"
            ],
            "application/vnd.jupyter.widget-view+json": {
              "version_major": 2,
              "version_minor": 0,
              "model_id": "c500f475a9324eb3a219dc03df729733"
            }
          },
          "metadata": {}
        },
        {
          "output_type": "stream",
          "name": "stdout",
          "text": [
            "Extracting data_fashion/FashionMNIST/raw/train-images-idx3-ubyte.gz to data_fashion/FashionMNIST/raw\n",
            "\n",
            "Downloading http://fashion-mnist.s3-website.eu-central-1.amazonaws.com/train-labels-idx1-ubyte.gz\n",
            "Downloading http://fashion-mnist.s3-website.eu-central-1.amazonaws.com/train-labels-idx1-ubyte.gz to data_fashion/FashionMNIST/raw/train-labels-idx1-ubyte.gz\n"
          ]
        },
        {
          "output_type": "display_data",
          "data": {
            "text/plain": [
              "  0%|          | 0/29515 [00:00<?, ?it/s]"
            ],
            "application/vnd.jupyter.widget-view+json": {
              "version_major": 2,
              "version_minor": 0,
              "model_id": "ba1c5966dd8e4358aa335ce1e6704d2a"
            }
          },
          "metadata": {}
        },
        {
          "output_type": "stream",
          "name": "stdout",
          "text": [
            "Extracting data_fashion/FashionMNIST/raw/train-labels-idx1-ubyte.gz to data_fashion/FashionMNIST/raw\n",
            "\n",
            "Downloading http://fashion-mnist.s3-website.eu-central-1.amazonaws.com/t10k-images-idx3-ubyte.gz\n",
            "Downloading http://fashion-mnist.s3-website.eu-central-1.amazonaws.com/t10k-images-idx3-ubyte.gz to data_fashion/FashionMNIST/raw/t10k-images-idx3-ubyte.gz\n"
          ]
        },
        {
          "output_type": "display_data",
          "data": {
            "text/plain": [
              "  0%|          | 0/4422102 [00:00<?, ?it/s]"
            ],
            "application/vnd.jupyter.widget-view+json": {
              "version_major": 2,
              "version_minor": 0,
              "model_id": "da0da49a6d94495e85c3fd139acae63b"
            }
          },
          "metadata": {}
        },
        {
          "output_type": "stream",
          "name": "stdout",
          "text": [
            "Extracting data_fashion/FashionMNIST/raw/t10k-images-idx3-ubyte.gz to data_fashion/FashionMNIST/raw\n",
            "\n",
            "Downloading http://fashion-mnist.s3-website.eu-central-1.amazonaws.com/t10k-labels-idx1-ubyte.gz\n",
            "Downloading http://fashion-mnist.s3-website.eu-central-1.amazonaws.com/t10k-labels-idx1-ubyte.gz to data_fashion/FashionMNIST/raw/t10k-labels-idx1-ubyte.gz\n"
          ]
        },
        {
          "output_type": "display_data",
          "data": {
            "text/plain": [
              "  0%|          | 0/5148 [00:00<?, ?it/s]"
            ],
            "application/vnd.jupyter.widget-view+json": {
              "version_major": 2,
              "version_minor": 0,
              "model_id": "1cee2bee7bda468ca0ea24ca612c3f7a"
            }
          },
          "metadata": {}
        },
        {
          "output_type": "stream",
          "name": "stdout",
          "text": [
            "Extracting data_fashion/FashionMNIST/raw/t10k-labels-idx1-ubyte.gz to data_fashion/FashionMNIST/raw\n",
            "\n"
          ]
        }
      ],
      "source": [
        "data_dimension  = 28*28   # images are 28x28 pixels\n",
        "num_classes = 10      # there are 10 classes\n",
        "\n",
        "train_dataset = datasets.FashionMNIST(\n",
        "    root=\"data_fashion\",\n",
        "    train=True,\n",
        "    download=True,\n",
        "    transform=transforms.ToTensor(),\n",
        ")\n",
        "\n",
        "# Download test data from open datasets.\n",
        "test_dataset = datasets.FashionMNIST(\n",
        "    root=\"data_fashion\",\n",
        "    train=False,\n",
        "    download=True,\n",
        "    transform=transforms.ToTensor(),\n",
        ")"
      ]
    },
    {
      "cell_type": "markdown",
      "metadata": {
        "id": "3iybtS_3tZvf"
      },
      "source": [
        "## Part A: Subsampling from the dataset\n",
        "\n",
        "In this part, you must subsample the train and test set such both contain 1000 images, with 100 images from each of the 10 classes. Also store the labels for each image."
      ]
    },
    {
      "cell_type": "markdown",
      "metadata": {
        "id": "iOcgW023tZvg"
      },
      "source": [
        "You are supposed to flatten the image, convert it to a numpy array and append it to the list. After that, np.array(images) should convert it to a size of (1000, 784)\n",
        "\n",
        " just use images.append() \n",
        " \n",
        " Also, if \"Has anyone figured out how to get the dimensions of the sub-sampling to (1000, 784)? I flattened the images and converted them to numpy arrays and my dimension is (1000, 1, 784)\" try squezzing\n",
        " "
      ]
    },
    {
      "cell_type": "code",
      "execution_count": null,
      "metadata": {
        "id": "YbS3ZvZEtZvk"
      },
      "outputs": [],
      "source": [
        "images_per_class = 100\n",
        "\n",
        "# Create a new dataset with only 100 images per class and with a total of 1000 images\n",
        "def create_subset(dataset, images_per_class):\n",
        "    \"\"\"\n",
        "    Create a dataset with only a given number of images per class.\n",
        "\n",
        "    Args:\n",
        "        dataset: The original dataset\n",
        "        images_per_class: The number of images per class to keep\n",
        "    \n",
        "    Returns:\n",
        "        images: A numpy array of shape (num_classes * images_per_class, data_dimension)\n",
        "        labels: A numpy array of shape (num_classes * images_per_class,)\n",
        "    \"\"\"\n",
        "    \n",
        "    images, labels = [], []\n",
        "\n",
        "    num_img = 10000 #this is the number of images in test tensor, going over all of them will assure that we get a 100 of each class\n",
        "    \n",
        "    loader = torch.utils.data.DataLoader(dataset, batch_size = num_img, shuffle=False)\n",
        "    \n",
        "    for data in loader:\n",
        "      break\n",
        "\n",
        "    for i in range(num_classes):\n",
        "      count = 0 \n",
        "\n",
        "      for j in range(num_img):\n",
        "        if data[1][j].numpy() == i and count < images_per_class:\n",
        "          images.append((data[0][j][0].numpy()).flatten())\n",
        "          labels.append(data[1][j].numpy())\n",
        "          count += 1\n",
        "\n",
        "        #add a thousand of thes\n",
        "    # WRITE YOUR CODE HERE\n",
        "    \n",
        "    #.reshape((1000,784))\n",
        "    return np.array(images), np.array(labels)\n",
        "\n",
        "# Train and test data\n",
        "train_images, train_labels = create_subset(train_dataset, images_per_class)\n",
        "test_images, test_labels = create_subset(test_dataset, images_per_class)"
      ]
    },
    {
      "cell_type": "code",
      "source": [
        "#lets count the elements for each class\n",
        "\n",
        "elements_count = {}\n",
        "# iterating over the elements for frequency\n",
        "for element in test_labels:\n",
        "   # checking whether it is in the dict or not\n",
        "   if element in elements_count:\n",
        "      # incerementing the count by 1\n",
        "      elements_count[element] += 1\n",
        "   else:\n",
        "      # setting the count to 1\n",
        "      elements_count[element] = 1\n",
        "# printing the elements frequencies\n",
        "for key, value in elements_count.items():\n",
        "   print(f\"{key}: {value}\")"
      ],
      "metadata": {
        "colab": {
          "base_uri": "https://localhost:8080/"
        },
        "id": "hOeVf_Q-_7GF",
        "outputId": "1411ee13-834d-43b3-9cfd-fa18a7984d85"
      },
      "execution_count": null,
      "outputs": [
        {
          "output_type": "stream",
          "name": "stdout",
          "text": [
            "0: 100\n",
            "1: 100\n",
            "2: 100\n",
            "3: 100\n",
            "4: 100\n",
            "5: 100\n",
            "6: 100\n",
            "7: 100\n",
            "8: 100\n",
            "9: 100\n"
          ]
        }
      ]
    },
    {
      "cell_type": "code",
      "source": [
        "train_images.shape\n",
        "#so everything is perfect around here"
      ],
      "metadata": {
        "colab": {
          "base_uri": "https://localhost:8080/"
        },
        "id": "jKGlHU1aGUue",
        "outputId": "7a798657-1ec9-493a-bdff-b562a91c6676"
      },
      "execution_count": null,
      "outputs": [
        {
          "output_type": "execute_result",
          "data": {
            "text/plain": [
              "(1000, 784)"
            ]
          },
          "metadata": {},
          "execution_count": 8
        }
      ]
    },
    {
      "cell_type": "markdown",
      "metadata": {
        "id": "YyUHyo6_tZvl"
      },
      "source": [
        "### Plot grid of images\n",
        "\n",
        "You must complete the `plot_grid` function defined below. A sample image of the plot has been provided with the homework (see `sample_output_grid.png`)."
      ]
    },
    {
      "cell_type": "code",
      "execution_count": null,
      "metadata": {
        "colab": {
          "base_uri": "https://localhost:8080/",
          "height": 574
        },
        "id": "iwy9UsaHtZvl",
        "outputId": "0c583698-c56a-45ac-a3a4-f3310ed421a2"
      },
      "outputs": [
        {
          "output_type": "display_data",
          "data": {
            "text/plain": [
              "<Figure size 720x720 with 100 Axes>"
            ],
            "image/png": "[encoded data removed]"
          },
          "metadata": {
            "needs_background": "light"
          }
        }
      ],
      "source": [
        "def plot_grid(images, labels, num_classes, num_images_per_class):\n",
        "    \"\"\"\n",
        "    Plot a grid of images of shape num_classes x images_per_class. Each row must \n",
        "    contain the images belonging to an unique class.\n",
        "\n",
        "    Args:\n",
        "        images: A numpy array of shape (num_classes * images_per_class, data_dimension)\n",
        "        labels: A numpy array of shape (num_classes * images_per_class,)\n",
        "        num_classes: The number of classes\n",
        "        num_images_per_class: The number of images per class to be displayed\n",
        "    \n",
        "    Hint: Use plt.subplot to plot the images in a grid.\n",
        "    \"\"\"\n",
        "    # WRITE YOUR CODE HERE\n",
        "    \n",
        "    dim = int(np.sqrt(images.shape[1]))\n",
        "\n",
        "    fig, axs = plt.subplots(num_classes, num_images_per_class, figsize=(10,10))\n",
        "\n",
        "    for i,l in enumerate(range(num_classes)):\n",
        "\n",
        "      for j in range(num_images_per_class):\n",
        "\n",
        "        axs[i,j].imshow(images[train_labels==l][j].reshape((dim,dim)),cmap='gray')\n",
        "        axs[i,j].axis('off')\n",
        "\n",
        "\n",
        "plot_grid(train_images, train_labels, num_classes, 10)\n",
        "        \n",
        "        "
      ]
    },
    {
      "cell_type": "markdown",
      "metadata": {
        "id": "p0uYQd0mtZvm"
      },
      "source": [
        "# Part B: Principal Component Analysis (PCA)\n",
        "\n",
        "Perform principal component analysis (PCA) on the train dataset to reduce the data dimension from `784` to `100`."
      ]
    },
    {
      "cell_type": "code",
      "source": [
        "#second version following comments:\n",
        "\n",
        "def PCA(X , num_components):\n",
        "    \"\"\"\n",
        "    Function to perform PCA on the dataset X.\n",
        "\n",
        "    Args:\n",
        "        X: A numpy array of shape (num_samples, data_dimension)\n",
        "        num_components: The number of principal components to keep\n",
        "\n",
        "    Returns:\n",
        "        X_reduced: A numpy array of shape (num_samples, num_components). The represents the reduced data.\n",
        "        X_reconstructed: A numpy array of shape (num_samples, data_dimension). The represents the reconstructed data from the reduced data.\n",
        "    \"\"\"\n",
        "    # WRITE YOUR CODE HERE\n",
        "    mu = np.mean(X, axis = 0)    \n",
        "    std = np.std(X, axis = 0)  \n",
        "    std_filled = std.copy()\n",
        "    std_filled[std == 0] = 1.0     \n",
        "    X_scaled = (X - mu) / std_filled  \n",
        "    cov_matrix = np.cov(X_scaled.T)\n",
        "    eig_val, eig_vec = np.linalg.eigh(cov_matrix)   \n",
        "    sorted_eig  = np.argsort(-eig_val)\n",
        "    eig_val = eig_val[sorted_eig]\n",
        "    eig_vec = eig_vec[:, sorted_eig]\n",
        "\n",
        "    final_vectors = eig_vec[:, range(num_components)]\n",
        "\n",
        "    X_reduced = np.dot(X, final_vectors)\n",
        "    \n",
        "    X_reconstructed = np.dot(X_reduced, final_vectors.T)\n",
        "     \n",
        "    return X_reduced, X_reconstructed"
      ],
      "metadata": {
        "id": "fH5S3j1WErxd"
      },
      "execution_count": null,
      "outputs": []
    },
    {
      "cell_type": "code",
      "execution_count": null,
      "metadata": {
        "id": "CxQSWog-tZvm"
      },
      "outputs": [],
      "source": [
        "def PCA(X , num_components):\n",
        "    \"\"\"\n",
        "    Function to perform PCA on the dataset X.\n",
        "\n",
        "    Args:\n",
        "        X: A numpy array of shape (num_samples, data_dimension)\n",
        "        num_components: The number of principal components to keep\n",
        "\n",
        "    Returns:\n",
        "        X_reduced: A numpy array of shape (num_samples, num_components). The represents the reduced data.\n",
        "        X_reconstructed: A numpy array of shape (num_samples, data_dimension). The represents the reconstructed data from the reduced data.\n",
        "    \"\"\"\n",
        "    # WRITE YOUR CODE HERE\n",
        "\n",
        "    mu = np.mean(X, axis = 0) \n",
        "        \n",
        "    #calculate the standard deviation of each column std\n",
        "    std = np.std(X, axis = 0)  \n",
        "        \n",
        "    #handleing zero standard deviation\n",
        "    std_filled = std.copy()\n",
        "    std_filled[std == 0] = 1.0\n",
        "        \n",
        "    #calculate standardized X called Xbar\n",
        "    X_scaled = (X - mu) / std_filled  \n",
        "\n",
        "    cov_matrix = np.cov(X_scaled.T)\n",
        "\n",
        "    #lets get eigen vectors and values\n",
        "\n",
        "    eig_val, eig_vec = np.linalg.eigh(cov_matrix)  \n",
        "        \n",
        "    #sorting them in decrasing order\n",
        "    sorted_eig  = np.argsort(-eig_val)\n",
        "\n",
        "    eig_val = eig_val[sorted_eig]\n",
        "    eig_vec = eig_vec[:, sorted_eig]\n",
        "\n",
        "\n",
        "    #Now lets subset num_components from it where 100 is num_components to keep by importance\n",
        "\n",
        "    final_vectors = eig_vec[:, range(num_components)]\n",
        "\n",
        "    #trying to tied everything up\n",
        "    X_reduced = np.dot(X_scaled, final_vectors)\n",
        "\n",
        "    #if you don't want to multiply and add at the end, substitute X_scaled with X\n",
        "\n",
        "    X_reconstructed = np.dot(X_reduced, final_vectors.T) * std_filled + mu\n",
        "     \n",
        "    return X_reduced, X_reconstructed"
      ]
    },
    {
      "cell_type": "markdown",
      "source": [
        "## Please note that both functions are the same, just that one of them does not include the x_standarize on its X_reduced. Both give the same x_reconstruct, but it is more useful to have x_reduced not standarize so that we dont have to sum the mean and multiply the sd everytime we try to reconstruct a dataset"
      ],
      "metadata": {
        "id": "Mk1vRIRaH0dF"
      }
    },
    {
      "cell_type": "code",
      "execution_count": null,
      "metadata": {
        "id": "M--MLvPetZvm"
      },
      "outputs": [],
      "source": [
        "pca_dimension = 100\n",
        "train_images_pca, reconstruction = PCA(train_images, pca_dimension)\n"
      ]
    },
    {
      "cell_type": "code",
      "execution_count": null,
      "metadata": {
        "colab": {
          "base_uri": "https://localhost:8080/",
          "height": 78
        },
        "id": "7uTL8Qs2tZvn",
        "outputId": "b43b0624-e9e8-4c0b-870e-bed2580872c6"
      },
      "outputs": [
        {
          "output_type": "display_data",
          "data": {
            "text/plain": [
              "<Figure size 720x720 with 10 Axes>"
            ],
            "image/png": "[encoded data removed]"
          },
          "metadata": {
            "needs_background": "light"
          }
        }
      ],
      "source": [
        "# Visualize the original images\n",
        "import matplotlib.pyplot as plt\n",
        "%matplotlib inline\n",
        "\n",
        "plt.figure(figsize=(10, 10))\n",
        "for i in range(10):\n",
        "    plt.subplot(1, 10, i+1)\n",
        "    plt.imshow(train_images[i].reshape(28, 28), cmap='gray')\n",
        "    plt.axis('off')"
      ]
    },
    {
      "cell_type": "code",
      "execution_count": null,
      "metadata": {
        "colab": {
          "base_uri": "https://localhost:8080/",
          "height": 78
        },
        "id": "venFUhq6tZvn",
        "outputId": "511f5c63-3ae0-428b-cd27-33180cc1e7e7"
      },
      "outputs": [
        {
          "output_type": "display_data",
          "data": {
            "text/plain": [
              "<Figure size 720x720 with 10 Axes>"
            ],
            "image/png": "[encoded data removed]"
          },
          "metadata": {
            "needs_background": "light"
          }
        }
      ],
      "source": [
        "# Visualize the reconstructed images\n",
        "import matplotlib.pyplot as plt\n",
        "%matplotlib inline\n",
        "\n",
        "plt.figure(figsize=(10, 10))\n",
        "for i in range(10):\n",
        "    plt.subplot(1, 10, i+1)\n",
        "    plt.imshow(reconstruction[i].reshape(28, 28), cmap='gray')\n",
        "    plt.axis('off')"
      ]
    },
    {
      "cell_type": "markdown",
      "metadata": {
        "id": "EMZfJezPtZvn"
      },
      "source": [
        "The reconstructed images must look similar to the original input images."
      ]
    },
    {
      "cell_type": "markdown",
      "metadata": {
        "id": "7JAY42sntZvn"
      },
      "source": [
        "# Part C: KMeans Clustering\n",
        "\n",
        "In this part, you will be clustering the train images that had been reduced to 100 dimensions using PCA into `10 clusters`."
      ]
    },
    {
      "cell_type": "code",
      "execution_count": null,
      "metadata": {
        "id": "5KAJkqq1tZvn"
      },
      "outputs": [],
      "source": [
        "def euclidean(point, data):\n",
        "    \"\"\"\n",
        "    Euclidean distance between point & data.\n",
        "    Point has dimensions (m,), data has dimensions (n,m), and output will be of size (n,).\n",
        "\n",
        "    Args:\n",
        "        point: A numpy array of shape (m,)\n",
        "        data: A numpy array of shape (n,m)\n",
        "\n",
        "    Returns:\n",
        "        A numpy array of shape (n,) containing the euclidean distance between point and each row of data.\n",
        "    \"\"\"\n",
        "\n",
        "    distance  = np.sqrt(np.sum((point - data)**2, axis=1))\n",
        "\n",
        "    return distance\n",
        "\n",
        "class KMeans:\n",
        "    \"\"\"\n",
        "    Class to perform K-Means clustering.\n",
        "    \"\"\"\n",
        "    def __init__(self, n_clusters=8, max_iter=300):\n",
        "        \"\"\"\n",
        "        Args:\n",
        "            n_clusters: The number of clusters\n",
        "            max_iter: The maximum number of iterations to run the algorithm for\n",
        "        \n",
        "        \"\"\"\n",
        "        self.n_clusters = n_clusters\n",
        "        self.max_iter = max_iter\n",
        "    \n",
        "    def init_centroids(self, X):\n",
        "        \"\"\"\n",
        "        Initialize the centroids by randomly sampling from the dataset. Store the computed\n",
        "        centroids in self.centroids.\n",
        "\n",
        "        Args:\n",
        "            X: A numpy array of shape (num_samples, data_dimension)\n",
        "        \n",
        "        Hint: Initialize the centroids such that when a random datapoint is selected as the first, \n",
        "              the rest are initialized w/ probabilities proportional to their distances to the first.\n",
        "              You may use argument `p` in np.random.choice to do this.\n",
        "        \"\"\"\n",
        "\n",
        "        #lets initialize it randomly first \n",
        "\n",
        "        self.centroids = [random.choice(X)]\n",
        "\n",
        "        #now lets initialize the rest with probabilities proportional to their distances\n",
        "        for _ in range(self.n_clusters-1):\n",
        "\n",
        "            dists = np.sum([euclidean(centroid, X) for centroid in self.centroids], axis=0)\n",
        "            # Normalize\n",
        "            dists /= np.sum(dists)\n",
        "            # use the p argument in random choice\n",
        "            new_centroid_idx = np.random.choice(range(len(X)), size=1, p=dists)[0] \n",
        "            #update vals\n",
        "            self.centroids += [X[new_centroid_idx]]\n",
        "\n",
        "    def fit(self, X_train):\n",
        "        \"\"\"\n",
        "        Train the K-Means model on the dataset X_train.\n",
        "\n",
        "        Args:\n",
        "            X_train: A numpy array of shape (num_samples, data_dimension)\n",
        "\n",
        "        Hint: \n",
        "            (1) Use the euclidean function defined above. \n",
        "            (2) Run the algorithm for a maximum of self.max_iter iterations.\n",
        "            (3) Initialize the centroids before running the clustering algorithm.\n",
        "        \"\"\"\n",
        "\n",
        "        #initialize the centroids now \n",
        "        self.init_centroids(X_train)\n",
        "\n",
        "        iteration = 0\n",
        "        prev_centroids = None\n",
        "\n",
        "        while np.not_equal(self.centroids, prev_centroids).any() and iteration < self.max_iter:\n",
        "\n",
        "            # Sort each datapoint, assigning to nearest centroid\n",
        "            sorted_points = [[] for _ in range(self.n_clusters)]\n",
        "\n",
        "            for x in X_train:\n",
        "                dists = euclidean(x, self.centroids)\n",
        "                centroid_idx = np.argmin(dists)\n",
        "                sorted_points[centroid_idx].append(x)\n",
        "\n",
        "            # Push and reassign centroids \n",
        "            prev_centroids = self.centroids\n",
        "            self.centroids = [np.mean(cluster, axis=0) for cluster in sorted_points]\n",
        "            for i, centroid in enumerate(self.centroids):\n",
        "                if np.isnan(centroid).any():  # bulletproof\n",
        "                    self.centroids[i] = prev_centroids[i]\n",
        "            iteration += 1\n",
        "        \n",
        "\n",
        "    def evaluate(self, X):\n",
        "        \"\"\"\n",
        "        Function to evaluate the K-Means model on the dataset X.\n",
        "\n",
        "        Args:\n",
        "            X: A numpy array of shape (num_samples, data_dimension)\n",
        "        \n",
        "        Returns:\n",
        "            centroids: A numpy array of shape (n_clusters, data_dimension) containing the centroids of the clusters.\n",
        "            centroid_idxs: A numpy array of shape (num_samples,) containing the cluster labels for each sample in X.\n",
        "        \"\"\"\n",
        "        centroids, centroid_idxs = [], []\n",
        "\n",
        "        for x in X:\n",
        "          #calculate distance\n",
        "          dists = euclidean(x, self.centroids)\n",
        "          #get the minimum id\n",
        "          centroid_idx = np.argmin(dists)\n",
        "          #append the actual minimun and its index\n",
        "          centroids.append(self.centroids[centroid_idx])\n",
        "          centroid_idxs.append(centroid_idx)\n",
        "\n",
        "\n",
        "        centroids = np.array(centroids)\n",
        "        centroid_idxs = np.array(centroid_idxs)\n",
        "        centroids = centroids[range(10), :]\n",
        "\n",
        "\n",
        "\n",
        "        return centroids, centroid_idxs"
      ]
    },
    {
      "cell_type": "code",
      "execution_count": null,
      "metadata": {
        "id": "gr27vKLttZvo"
      },
      "outputs": [],
      "source": [
        "#no max iter when initializing. Additionally, the default is 8 clusters\n",
        "\n",
        "kmeans = KMeans(n_clusters=10)\n",
        "kmeans.fit(train_images_pca)\n",
        "\n",
        "# View results\n",
        "class_centers, classification = kmeans.evaluate(train_images_pca)"
      ]
    },
    {
      "cell_type": "markdown",
      "metadata": {
        "id": "5SOm4bVTtZvo"
      },
      "source": [
        "### Plot mean image for each cluster\n",
        "\n",
        "The KMeans clustering algorithm provides you with 10 clusters, with each cluster containing a set of images. In this part, you must compute the mean image for each cluster and plot it as a grid with 10 images such that each image corresponds to the mean image of a cluster. By mean image of a cluster, we imply the mean of the images contained in the cluster."
      ]
    },
    {
      "cell_type": "code",
      "execution_count": null,
      "metadata": {
        "id": "Zj9YgXjotZvo",
        "colab": {
          "base_uri": "https://localhost:8080/",
          "height": 78
        },
        "outputId": "22949a9f-e689-4d15-ae97-be6216e43372"
      },
      "outputs": [
        {
          "output_type": "display_data",
          "data": {
            "text/plain": [
              "<Figure size 720x720 with 10 Axes>"
            ],
            "image/png": "[encoded data removed]"
          },
          "metadata": {
            "needs_background": "light"
          }
        }
      ],
      "source": [
        "# Plot grid of cluster images from each class\n",
        "\n",
        "# Visualize the original images\n",
        "import matplotlib.pyplot as plt\n",
        "%matplotlib inline\n",
        "\n",
        "plt.figure(figsize=(10, 10))\n",
        "for i in range(10):\n",
        "    plt.subplot(1, 10, i+1)\n",
        "    plt.imshow(class_centers[i].reshape(10, 10), cmap='gray')\n",
        "    plt.axis('off')\n",
        "\n",
        "# WRITE YOUR CODE HERE\n"
      ]
    },
    {
      "cell_type": "code",
      "source": [
        "G = 10 #Number of labels\n",
        "#2D matrix  for an array of indexes of the given label\n",
        "cluster_index= [[] for i in range(G)]\n",
        "for i, label in enumerate(G,0):\n",
        "    for n in range(G):\n",
        "        if label == n:\n",
        "            cluster_index[n].append(i)\n",
        "        else:\n",
        "            continue\n",
        "#Visualisation for clusters = clust\n",
        "plt.figure(figsize=(20,20));\n",
        "clust = 3 #enter label number to visualise\n",
        "num = 100 #num of data to visualize from the cluster\n",
        "for i in range(1,num): \n",
        "    plt.subplot(10, 10, i); #(Number of rows, Number of column per row, item number)\n",
        "    plt.imshow(X[cluster_index[clust][i+500]].reshape(X_train.shape[1], X_train.shape[2]), cmap = plt.cm.binary);\n",
        "    \n",
        "plt.show()"
      ],
      "metadata": {
        "colab": {
          "base_uri": "https://localhost:8080/",
          "height": 242
        },
        "id": "983xutICIs7l",
        "outputId": "a169a947-4896-4ac7-9de7-03158c7f5849"
      },
      "execution_count": null,
      "outputs": [
        {
          "output_type": "error",
          "ename": "TypeError",
          "evalue": "ignored",
          "traceback": [
            "\u001b[0;31m---------------------------------------------------------------------------\u001b[0m",
            "\u001b[0;31mTypeError\u001b[0m                                 Traceback (most recent call last)",
            "\u001b[0;32m<ipython-input-142-937634a994f1>\u001b[0m in \u001b[0;36m<module>\u001b[0;34m\u001b[0m\n\u001b[1;32m      2\u001b[0m \u001b[0;31m#2D matrix  for an array of indexes of the given label\u001b[0m\u001b[0;34m\u001b[0m\u001b[0;34m\u001b[0m\u001b[0;34m\u001b[0m\u001b[0m\n\u001b[1;32m      3\u001b[0m \u001b[0mcluster_index\u001b[0m\u001b[0;34m=\u001b[0m \u001b[0;34m[\u001b[0m\u001b[0;34m[\u001b[0m\u001b[0;34m]\u001b[0m \u001b[0;32mfor\u001b[0m \u001b[0mi\u001b[0m \u001b[0;32min\u001b[0m \u001b[0mrange\u001b[0m\u001b[0;34m(\u001b[0m\u001b[0mG\u001b[0m\u001b[0;34m)\u001b[0m\u001b[0;34m]\u001b[0m\u001b[0;34m\u001b[0m\u001b[0;34m\u001b[0m\u001b[0m\n\u001b[0;32m----> 4\u001b[0;31m \u001b[0;32mfor\u001b[0m \u001b[0mi\u001b[0m\u001b[0;34m,\u001b[0m \u001b[0mlabel\u001b[0m \u001b[0;32min\u001b[0m \u001b[0menumerate\u001b[0m\u001b[0;34m(\u001b[0m\u001b[0mG\u001b[0m\u001b[0;34m,\u001b[0m\u001b[0;36m0\u001b[0m\u001b[0;34m)\u001b[0m\u001b[0;34m:\u001b[0m\u001b[0;34m\u001b[0m\u001b[0;34m\u001b[0m\u001b[0m\n\u001b[0m\u001b[1;32m      5\u001b[0m     \u001b[0;32mfor\u001b[0m \u001b[0mn\u001b[0m \u001b[0;32min\u001b[0m \u001b[0mrange\u001b[0m\u001b[0;34m(\u001b[0m\u001b[0mG\u001b[0m\u001b[0;34m)\u001b[0m\u001b[0;34m:\u001b[0m\u001b[0;34m\u001b[0m\u001b[0;34m\u001b[0m\u001b[0m\n\u001b[1;32m      6\u001b[0m         \u001b[0;32mif\u001b[0m \u001b[0mlabel\u001b[0m \u001b[0;34m==\u001b[0m \u001b[0mn\u001b[0m\u001b[0;34m:\u001b[0m\u001b[0;34m\u001b[0m\u001b[0;34m\u001b[0m\u001b[0m\n",
            "\u001b[0;31mTypeError\u001b[0m: 'int' object is not iterable"
          ]
        }
      ]
    },
    {
      "cell_type": "markdown",
      "metadata": {
        "id": "lcgdUx6rtZvo"
      },
      "source": [
        "### Plot grid containing 10 images for each cluster\n",
        "\n",
        "In this part, you must plot a grid of images of size `number of cluster x 10` with each row corresponding to a unique cluster and all columns corresponding to a row comprise 10 samples from the cluster that the row represents."
      ]
    },
    {
      "cell_type": "code",
      "execution_count": null,
      "metadata": {
        "id": "VGVqVrFLtZvo"
      },
      "outputs": [],
      "source": [
        "# Plot 10 images from each cluster for each class\n",
        "\n",
        "# WRITE YOUR CODE HERE\n"
      ]
    },
    {
      "cell_type": "markdown",
      "metadata": {
        "id": "nI-m72jbtZvp"
      },
      "source": [
        "# Extra Credit: k-Nearest Neighbor (KNN) classification (25 points)\n",
        "\n",
        "In this section, you are supposed to perform k-Nearest Neighbor classification on the test data and find the optimal value of `k` for which the model outputs the highest classification accuracy."
      ]
    },
    {
      "cell_type": "code",
      "execution_count": null,
      "metadata": {
        "id": "BfQ5FHPZtZvp"
      },
      "outputs": [],
      "source": [
        "def most_common(lst):\n",
        "    '''Returns the most common element in a list. If there is a tie, returns the \n",
        "    element occuring first in the list.'''\n",
        "    # WRITE YOUR CODE HERE\n",
        "\n",
        "    most = max(set(lst), key=lst.count)\n",
        "\n",
        "    return most\n",
        "\n",
        "\n",
        "class KNearestNeighborsClassifier():\n",
        "    \"\"\"\n",
        "    Class to perform K-Nearest Neighbors classification.\n",
        "    \"\"\"\n",
        "    def __init__(self, k=5, dist_metric=euclidean):\n",
        "        \"\"\"\n",
        "        Args:\n",
        "            k: The number of nearest neighbors to use for classification\n",
        "            dist_metric: The distance metric to use for classification. (Default: euclidean)\n",
        "        \"\"\"\n",
        "        self.k = k\n",
        "        self.dist_metric = dist_metric\n",
        "\n",
        "    def fit(self, X_train, y_train):\n",
        "        \"\"\"\n",
        "        Function to train the K-Nearest Neighbors classifier on the train dataset.\n",
        "\n",
        "        Args:\n",
        "            X_train: A numpy array of shape (num_samples, data_dimension) containing the training data.\n",
        "            y_train: A numpy array of shape (num_samples,) containing the training labels.\n",
        "        \"\"\"\n",
        "        # WRITE YOUR CODE HERE\n",
        "\n",
        "        #we just initialize them here\n",
        "\n",
        "        self.X_train = X_train\n",
        "        self.y_train = y_train\n",
        "       \n",
        "\n",
        "    def predict(self, X_test):\n",
        "        \"\"\"\n",
        "        Predict the labels for the test dataset.\n",
        "\n",
        "        Args:\n",
        "            X_test: A numpy array of shape (num_samples, data_dimension) containing the test data.\n",
        "\n",
        "        Returns:\n",
        "            y_pred: A numpy array of shape (num_samples,) containing the predicted labels for the test data.\n",
        "\n",
        "        Hint: Use the self.dist_metric function to compute the distance between the test data and the training data.\n",
        "              For each sample, choose the most common label among the k nearest neighbors.\n",
        "        \"\"\"\n",
        "        # WRITE YOUR CODE HERE\n",
        "\n",
        "\n",
        "        k_nearest_neighbors = []\n",
        "\n",
        "        for x in X_test:\n",
        "\n",
        "            distances = self.dist_metric(x, self.X_train)\n",
        "\n",
        "            y_sorted = [n for _, n in sorted(zip(distances, self.y_train))]\n",
        "\n",
        "            k_nearest_neighbors.append(y_sorted[:self.k])\n",
        "\n",
        "        results = list(map(most_common, k_nearest_neighbors))\n",
        "\n",
        "\n",
        "        return results\n",
        "\n",
        "\n",
        "    def evaluate(self, X_test, y_test):\n",
        "        \"\"\"\n",
        "        Evaluate the K-Nearest Neighbors classifier on the test dataset.\n",
        "\n",
        "        Args:\n",
        "            X_test: A numpy array of shape (num_samples, data_dimension) containing the test data.\n",
        "            y_test: A numpy array of shape (num_samples,) containing the test labels.\n",
        "\n",
        "        Returns:\n",
        "            accuracy: A float value between 0 and 1 representing the accuracy of the classifier.\n",
        "        \"\"\"\n",
        "        # WRITE YOUR CODE HERE\n",
        "\n",
        "        y_pred = self.predict(X_test)\n",
        "        accuracy = sum(y_pred == y_test) / len(y_test)\n",
        "\n",
        "        return accuracy\n",
        "        "
      ]
    },
    {
      "cell_type": "code",
      "execution_count": null,
      "metadata": {
        "id": "X20DAPBLtZvp",
        "colab": {
          "base_uri": "https://localhost:8080/",
          "height": 295
        },
        "outputId": "cdc88728-fce6-4434-f486-07917d9c46f6"
      },
      "outputs": [
        {
          "output_type": "display_data",
          "data": {
            "text/plain": [
              "<Figure size 432x288 with 1 Axes>"
            ],
            "image/png": "[encoded data removed]"
          },
          "metadata": {
            "needs_background": "light"
          }
        }
      ],
      "source": [
        "# Evaluate KNN classifier for k varying from 1 to 30 and plot the accuracy\n",
        "accuracies = []\n",
        "ks = range(1, 30)\n",
        "for k in ks:\n",
        "    knn = KNearestNeighborsClassifier(k=k)\n",
        "    knn.fit(train_images, train_labels)\n",
        "    accuracy = knn.evaluate(test_images, test_labels)\n",
        "    accuracies.append(accuracy)\n",
        "fig, ax = plt.subplots()\n",
        "ax.plot(ks, accuracies)\n",
        "ax.set(xlabel=\"k\",\n",
        "       ylabel=\"Accuracy\",\n",
        "       title=\"Performance of knn\")\n",
        "plt.show()"
      ]
    },
    {
      "cell_type": "code",
      "source": [
        "# Evaluate KNN classifier for k varying from 1 to 30 and plot the accuracy\n",
        "accuracies = []\n",
        "ks = range(1, 10)\n",
        "for k in ks:\n",
        "    knn = KNearestNeighborsClassifier(k=k)\n",
        "    knn.fit(train_images, train_labels)\n",
        "    accuracy = knn.evaluate(test_images, test_labels)\n",
        "    accuracies.append(accuracy)\n",
        "fig, ax = plt.subplots()\n",
        "ax.plot(ks, accuracies)\n",
        "ax.set(xlabel=\"k\",\n",
        "       ylabel=\"Accuracy\",\n",
        "       title=\"Performance of knn\")\n",
        "plt.show()"
      ],
      "metadata": {
        "colab": {
          "base_uri": "https://localhost:8080/",
          "height": 295
        },
        "id": "FGgiN_n85v7t",
        "outputId": "11a9ceba-736f-4d8e-a77c-7e19d5c223e3"
      },
      "execution_count": null,
      "outputs": [
        {
          "output_type": "display_data",
          "data": {
            "text/plain": [
              "<Figure size 432x288 with 1 Axes>"
            ],
            "image/png": "[encoded data removed]"
          },
          "metadata": {
            "needs_background": "light"
          }
        }
      ]
    },
    {
      "cell_type": "code",
      "source": [
        "accuracies"
      ],
      "metadata": {
        "colab": {
          "base_uri": "https://localhost:8080/"
        },
        "id": "okHv1tS256Pk",
        "outputId": "f18412b5-203e-42c8-c4a0-df84dcb3b467"
      },
      "execution_count": null,
      "outputs": [
        {
          "output_type": "execute_result",
          "data": {
            "text/plain": [
              "[0.775, 0.741, 0.753, 0.76, 0.772, 0.768, 0.77, 0.776, 0.767]"
            ]
          },
          "metadata": {},
          "execution_count": 78
        }
      ]
    },
    {
      "cell_type": "markdown",
      "metadata": {
        "id": "kalA8vEMtZvp"
      },
      "source": [
        "### Report the k for which you get the highest accuracy on the test dataset."
      ]
    },
    {
      "cell_type": "markdown",
      "metadata": {
        "id": "3EGdBfjDtZvp"
      },
      "source": [
        "Write your answer here.\n",
        "\n",
        "The highest accuracy is at 8. You can see it more clearly in the second graph. That accuracy is 0.776. Which is why we would use 8 clusters in the K-means clustering part.\n",
        "\n",
        "---\n",
        "\n"
      ]
    }
  ],
  "metadata": {
    "kernelspec": {
      "display_name": "Python 3 (ipykernel)",
      "language": "python",
      "name": "python3"
    },
    "language_info": {
      "codemirror_mode": {
        "name": "ipython",
        "version": 3
      },
      "file_extension": ".py",
      "mimetype": "text/x-python",
      "name": "python",
      "nbconvert_exporter": "python",
      "pygments_lexer": "ipython3",
      "version": "3.9.7"
    },
    "vscode": {
      "interpreter": {
        "hash": "fc6f77fc95e5420108aa348103e4498d1d0de016cf7e1fd7da540445454c305d"
      }
    },
    "colab": {
      "provenance": []
    },
    "widgets": {
      "application/vnd.jupyter.widget-state+json": {
        "c500f475a9324eb3a219dc03df729733": {
          "model_module": "@jupyter-widgets/controls",
          "model_name": "HBoxModel",
          "model_module_version": "1.5.0",
          "state": {
            "_dom_classes": [],
            "_model_module": "@jupyter-widgets/controls",
            "_model_module_version": "1.5.0",
            "_model_name": "HBoxModel",
            "_view_count": null,
            "_view_module": "@jupyter-widgets/controls",
            "_view_module_version": "1.5.0",
            "_view_name": "HBoxView",
            "box_style": "",
            "children": [
              "IPY_MODEL_d9bc4b4682ce43e6b6fef3967fd4d7f2",
              "IPY_MODEL_768ac46e59214af19fc0f750f52aa2bd",
              "IPY_MODEL_4c0b7b6532964797bb4ca66b9e838742"
            ],
            "layout": "IPY_MODEL_500149cdcb9f45669aac920fbf4c8849"
          }
        },
        "d9bc4b4682ce43e6b6fef3967fd4d7f2": {
          "model_module": "@jupyter-widgets/controls",
          "model_name": "HTMLModel",
          "model_module_version": "1.5.0",
          "state": {
            "_dom_classes": [],
            "_model_module": "@jupyter-widgets/controls",
            "_model_module_version": "1.5.0",
            "_model_name": "HTMLModel",
            "_view_count": null,
            "_view_module": "@jupyter-widgets/controls",
            "_view_module_version": "1.5.0",
            "_view_name": "HTMLView",
            "description": "",
            "description_tooltip": null,
            "layout": "IPY_MODEL_f7faf6dd39c746b69e11d897c57f9304",
            "placeholder": "​",
            "style": "IPY_MODEL_d309b01fd25b47948b65e9de12a26cdb",
            "value": "100%"
          }
        },
        "768ac46e59214af19fc0f750f52aa2bd": {
          "model_module": "@jupyter-widgets/controls",
          "model_name": "FloatProgressModel",
          "model_module_version": "1.5.0",
          "state": {
            "_dom_classes": [],
            "_model_module": "@jupyter-widgets/controls",
            "_model_module_version": "1.5.0",
            "_model_name": "FloatProgressModel",
            "_view_count": null,
            "_view_module": "@jupyter-widgets/controls",
            "_view_module_version": "1.5.0",
            "_view_name": "ProgressView",
            "bar_style": "success",
            "description": "",
            "description_tooltip": null,
            "layout": "IPY_MODEL_bc12c1082db54adfa932a5d8aa29a36f",
            "max": 26421880,
            "min": 0,
            "orientation": "horizontal",
            "style": "IPY_MODEL_5c2e0c458a20401993618edb1f761ffe",
            "value": 26421880
          }
        },
        "4c0b7b6532964797bb4ca66b9e838742": {
          "model_module": "@jupyter-widgets/controls",
          "model_name": "HTMLModel",
          "model_module_version": "1.5.0",
          "state": {
            "_dom_classes": [],
            "_model_module": "@jupyter-widgets/controls",
            "_model_module_version": "1.5.0",
            "_model_name": "HTMLModel",
            "_view_count": null,
            "_view_module": "@jupyter-widgets/controls",
            "_view_module_version": "1.5.0",
            "_view_name": "HTMLView",
            "description": "",
            "description_tooltip": null,
            "layout": "IPY_MODEL_e68dbca9feda4fc286649c90e470fe19",
            "placeholder": "​",
            "style": "IPY_MODEL_f41eccc4fc6c448e83d1590515bc969c",
            "value": " 26421880/26421880 [00:01&lt;00:00, 24656426.53it/s]"
          }
        },
        "500149cdcb9f45669aac920fbf4c8849": {
          "model_module": "@jupyter-widgets/base",
          "model_name": "LayoutModel",
          "model_module_version": "1.2.0",
          "state": {
            "_model_module": "@jupyter-widgets/base",
            "_model_module_version": "1.2.0",
            "_model_name": "LayoutModel",
            "_view_count": null,
            "_view_module": "@jupyter-widgets/base",
            "_view_module_version": "1.2.0",
            "_view_name": "LayoutView",
            "align_content": null,
            "align_items": null,
            "align_self": null,
            "border": null,
            "bottom": null,
            "display": null,
            "flex": null,
            "flex_flow": null,
            "grid_area": null,
            "grid_auto_columns": null,
            "grid_auto_flow": null,
            "grid_auto_rows": null,
            "grid_column": null,
            "grid_gap": null,
            "grid_row": null,
            "grid_template_areas": null,
            "grid_template_columns": null,
            "grid_template_rows": null,
            "height": null,
            "justify_content": null,
            "justify_items": null,
            "left": null,
            "margin": null,
            "max_height": null,
            "max_width": null,
            "min_height": null,
            "min_width": null,
            "object_fit": null,
            "object_position": null,
            "order": null,
            "overflow": null,
            "overflow_x": null,
            "overflow_y": null,
            "padding": null,
            "right": null,
            "top": null,
            "visibility": null,
            "width": null
          }
        },
        "f7faf6dd39c746b69e11d897c57f9304": {
          "model_module": "@jupyter-widgets/base",
          "model_name": "LayoutModel",
          "model_module_version": "1.2.0",
          "state": {
            "_model_module": "@jupyter-widgets/base",
            "_model_module_version": "1.2.0",
            "_model_name": "LayoutModel",
            "_view_count": null,
            "_view_module": "@jupyter-widgets/base",
            "_view_module_version": "1.2.0",
            "_view_name": "LayoutView",
            "align_content": null,
            "align_items": null,
            "align_self": null,
            "border": null,
            "bottom": null,
            "display": null,
            "flex": null,
            "flex_flow": null,
            "grid_area": null,
            "grid_auto_columns": null,
            "grid_auto_flow": null,
            "grid_auto_rows": null,
            "grid_column": null,
            "grid_gap": null,
            "grid_row": null,
            "grid_template_areas": null,
            "grid_template_columns": null,
            "grid_template_rows": null,
            "height": null,
            "justify_content": null,
            "justify_items": null,
            "left": null,
            "margin": null,
            "max_height": null,
            "max_width": null,
            "min_height": null,
            "min_width": null,
            "object_fit": null,
            "object_position": null,
            "order": null,
            "overflow": null,
            "overflow_x": null,
            "overflow_y": null,
            "padding": null,
            "right": null,
            "top": null,
            "visibility": null,
            "width": null
          }
        },
        "d309b01fd25b47948b65e9de12a26cdb": {
          "model_module": "@jupyter-widgets/controls",
          "model_name": "DescriptionStyleModel",
          "model_module_version": "1.5.0",
          "state": {
            "_model_module": "@jupyter-widgets/controls",
            "_model_module_version": "1.5.0",
            "_model_name": "DescriptionStyleModel",
            "_view_count": null,
            "_view_module": "@jupyter-widgets/base",
            "_view_module_version": "1.2.0",
            "_view_name": "StyleView",
            "description_width": ""
          }
        },
        "bc12c1082db54adfa932a5d8aa29a36f": {
          "model_module": "@jupyter-widgets/base",
          "model_name": "LayoutModel",
          "model_module_version": "1.2.0",
          "state": {
            "_model_module": "@jupyter-widgets/base",
            "_model_module_version": "1.2.0",
            "_model_name": "LayoutModel",
            "_view_count": null,
            "_view_module": "@jupyter-widgets/base",
            "_view_module_version": "1.2.0",
            "_view_name": "LayoutView",
            "align_content": null,
            "align_items": null,
            "align_self": null,
            "border": null,
            "bottom": null,
            "display": null,
            "flex": null,
            "flex_flow": null,
            "grid_area": null,
            "grid_auto_columns": null,
            "grid_auto_flow": null,
            "grid_auto_rows": null,
            "grid_column": null,
            "grid_gap": null,
            "grid_row": null,
            "grid_template_areas": null,
            "grid_template_columns": null,
            "grid_template_rows": null,
            "height": null,
            "justify_content": null,
            "justify_items": null,
            "left": null,
            "margin": null,
            "max_height": null,
            "max_width": null,
            "min_height": null,
            "min_width": null,
            "object_fit": null,
            "object_position": null,
            "order": null,
            "overflow": null,
            "overflow_x": null,
            "overflow_y": null,
            "padding": null,
            "right": null,
            "top": null,
            "visibility": null,
            "width": null
          }
        },
        "5c2e0c458a20401993618edb1f761ffe": {
          "model_module": "@jupyter-widgets/controls",
          "model_name": "ProgressStyleModel",
          "model_module_version": "1.5.0",
          "state": {
            "_model_module": "@jupyter-widgets/controls",
            "_model_module_version": "1.5.0",
            "_model_name": "ProgressStyleModel",
            "_view_count": null,
            "_view_module": "@jupyter-widgets/base",
            "_view_module_version": "1.2.0",
            "_view_name": "StyleView",
            "bar_color": null,
            "description_width": ""
          }
        },
        "e68dbca9feda4fc286649c90e470fe19": {
          "model_module": "@jupyter-widgets/base",
          "model_name": "LayoutModel",
          "model_module_version": "1.2.0",
          "state": {
            "_model_module": "@jupyter-widgets/base",
            "_model_module_version": "1.2.0",
            "_model_name": "LayoutModel",
            "_view_count": null,
            "_view_module": "@jupyter-widgets/base",
            "_view_module_version": "1.2.0",
            "_view_name": "LayoutView",
            "align_content": null,
            "align_items": null,
            "align_self": null,
            "border": null,
            "bottom": null,
            "display": null,
            "flex": null,
            "flex_flow": null,
            "grid_area": null,
            "grid_auto_columns": null,
            "grid_auto_flow": null,
            "grid_auto_rows": null,
            "grid_column": null,
            "grid_gap": null,
            "grid_row": null,
            "grid_template_areas": null,
            "grid_template_columns": null,
            "grid_template_rows": null,
            "height": null,
            "justify_content": null,
            "justify_items": null,
            "left": null,
            "margin": null,
            "max_height": null,
            "max_width": null,
            "min_height": null,
            "min_width": null,
            "object_fit": null,
            "object_position": null,
            "order": null,
            "overflow": null,
            "overflow_x": null,
            "overflow_y": null,
            "padding": null,
            "right": null,
            "top": null,
            "visibility": null,
            "width": null
          }
        },
        "f41eccc4fc6c448e83d1590515bc969c": {
          "model_module": "@jupyter-widgets/controls",
          "model_name": "DescriptionStyleModel",
          "model_module_version": "1.5.0",
          "state": {
            "_model_module": "@jupyter-widgets/controls",
            "_model_module_version": "1.5.0",
            "_model_name": "DescriptionStyleModel",
            "_view_count": null,
            "_view_module": "@jupyter-widgets/base",
            "_view_module_version": "1.2.0",
            "_view_name": "StyleView",
            "description_width": ""
          }
        },
        "ba1c5966dd8e4358aa335ce1e6704d2a": {
          "model_module": "@jupyter-widgets/controls",
          "model_name": "HBoxModel",
          "model_module_version": "1.5.0",
          "state": {
            "_dom_classes": [],
            "_model_module": "@jupyter-widgets/controls",
            "_model_module_version": "1.5.0",
            "_model_name": "HBoxModel",
            "_view_count": null,
            "_view_module": "@jupyter-widgets/controls",
            "_view_module_version": "1.5.0",
            "_view_name": "HBoxView",
            "box_style": "",
            "children": [
              "IPY_MODEL_7f8278f8e44e40cca60d2e6e0a99b18f",
              "IPY_MODEL_f8597fdae01d4d148f852ce4c88be71a",
              "IPY_MODEL_1a60bb2a33af45188dc8ad666c6c1ff2"
            ],
            "layout": "IPY_MODEL_f6852671c37e4cb0a8a78e7835b477ec"
          }
        },
        "7f8278f8e44e40cca60d2e6e0a99b18f": {
          "model_module": "@jupyter-widgets/controls",
          "model_name": "HTMLModel",
          "model_module_version": "1.5.0",
          "state": {
            "_dom_classes": [],
            "_model_module": "@jupyter-widgets/controls",
            "_model_module_version": "1.5.0",
            "_model_name": "HTMLModel",
            "_view_count": null,
            "_view_module": "@jupyter-widgets/controls",
            "_view_module_version": "1.5.0",
            "_view_name": "HTMLView",
            "description": "",
            "description_tooltip": null,
            "layout": "IPY_MODEL_c64ca80ce3784b549f48a1453041ed89",
            "placeholder": "​",
            "style": "IPY_MODEL_78184badeda8464aae8b9692f142e966",
            "value": "100%"
          }
        },
        "f8597fdae01d4d148f852ce4c88be71a": {
          "model_module": "@jupyter-widgets/controls",
          "model_name": "FloatProgressModel",
          "model_module_version": "1.5.0",
          "state": {
            "_dom_classes": [],
            "_model_module": "@jupyter-widgets/controls",
            "_model_module_version": "1.5.0",
            "_model_name": "FloatProgressModel",
            "_view_count": null,
            "_view_module": "@jupyter-widgets/controls",
            "_view_module_version": "1.5.0",
            "_view_name": "ProgressView",
            "bar_style": "success",
            "description": "",
            "description_tooltip": null,
            "layout": "IPY_MODEL_23699b642b5f4b2fa0d4f1c3de205ce6",
            "max": 29515,
            "min": 0,
            "orientation": "horizontal",
            "style": "IPY_MODEL_9c4d6f18d1b6444eadccddc3013f3423",
            "value": 29515
          }
        },
        "1a60bb2a33af45188dc8ad666c6c1ff2": {
          "model_module": "@jupyter-widgets/controls",
          "model_name": "HTMLModel",
          "model_module_version": "1.5.0",
          "state": {
            "_dom_classes": [],
            "_model_module": "@jupyter-widgets/controls",
            "_model_module_version": "1.5.0",
            "_model_name": "HTMLModel",
            "_view_count": null,
            "_view_module": "@jupyter-widgets/controls",
            "_view_module_version": "1.5.0",
            "_view_name": "HTMLView",
            "description": "",
            "description_tooltip": null,
            "layout": "IPY_MODEL_069cd5908b8f48f99f6b75c9c6b14848",
            "placeholder": "​",
            "style": "IPY_MODEL_21376288fa0d4815995a6d5691b37572",
            "value": " 29515/29515 [00:00&lt;00:00, 110318.29it/s]"
          }
        },
        "f6852671c37e4cb0a8a78e7835b477ec": {
          "model_module": "@jupyter-widgets/base",
          "model_name": "LayoutModel",
          "model_module_version": "1.2.0",
          "state": {
            "_model_module": "@jupyter-widgets/base",
            "_model_module_version": "1.2.0",
            "_model_name": "LayoutModel",
            "_view_count": null,
            "_view_module": "@jupyter-widgets/base",
            "_view_module_version": "1.2.0",
            "_view_name": "LayoutView",
            "align_content": null,
            "align_items": null,
            "align_self": null,
            "border": null,
            "bottom": null,
            "display": null,
            "flex": null,
            "flex_flow": null,
            "grid_area": null,
            "grid_auto_columns": null,
            "grid_auto_flow": null,
            "grid_auto_rows": null,
            "grid_column": null,
            "grid_gap": null,
            "grid_row": null,
            "grid_template_areas": null,
            "grid_template_columns": null,
            "grid_template_rows": null,
            "height": null,
            "justify_content": null,
            "justify_items": null,
            "left": null,
            "margin": null,
            "max_height": null,
            "max_width": null,
            "min_height": null,
            "min_width": null,
            "object_fit": null,
            "object_position": null,
            "order": null,
            "overflow": null,
            "overflow_x": null,
            "overflow_y": null,
            "padding": null,
            "right": null,
            "top": null,
            "visibility": null,
            "width": null
          }
        },
        "c64ca80ce3784b549f48a1453041ed89": {
          "model_module": "@jupyter-widgets/base",
          "model_name": "LayoutModel",
          "model_module_version": "1.2.0",
          "state": {
            "_model_module": "@jupyter-widgets/base",
            "_model_module_version": "1.2.0",
            "_model_name": "LayoutModel",
            "_view_count": null,
            "_view_module": "@jupyter-widgets/base",
            "_view_module_version": "1.2.0",
            "_view_name": "LayoutView",
            "align_content": null,
            "align_items": null,
            "align_self": null,
            "border": null,
            "bottom": null,
            "display": null,
            "flex": null,
            "flex_flow": null,
            "grid_area": null,
            "grid_auto_columns": null,
            "grid_auto_flow": null,
            "grid_auto_rows": null,
            "grid_column": null,
            "grid_gap": null,
            "grid_row": null,
            "grid_template_areas": null,
            "grid_template_columns": null,
            "grid_template_rows": null,
            "height": null,
            "justify_content": null,
            "justify_items": null,
            "left": null,
            "margin": null,
            "max_height": null,
            "max_width": null,
            "min_height": null,
            "min_width": null,
            "object_fit": null,
            "object_position": null,
            "order": null,
            "overflow": null,
            "overflow_x": null,
            "overflow_y": null,
            "padding": null,
            "right": null,
            "top": null,
            "visibility": null,
            "width": null
          }
        },
        "78184badeda8464aae8b9692f142e966": {
          "model_module": "@jupyter-widgets/controls",
          "model_name": "DescriptionStyleModel",
          "model_module_version": "1.5.0",
          "state": {
            "_model_module": "@jupyter-widgets/controls",
            "_model_module_version": "1.5.0",
            "_model_name": "DescriptionStyleModel",
            "_view_count": null,
            "_view_module": "@jupyter-widgets/base",
            "_view_module_version": "1.2.0",
            "_view_name": "StyleView",
            "description_width": ""
          }
        },
        "23699b642b5f4b2fa0d4f1c3de205ce6": {
          "model_module": "@jupyter-widgets/base",
          "model_name": "LayoutModel",
          "model_module_version": "1.2.0",
          "state": {
            "_model_module": "@jupyter-widgets/base",
            "_model_module_version": "1.2.0",
            "_model_name": "LayoutModel",
            "_view_count": null,
            "_view_module": "@jupyter-widgets/base",
            "_view_module_version": "1.2.0",
            "_view_name": "LayoutView",
            "align_content": null,
            "align_items": null,
            "align_self": null,
            "border": null,
            "bottom": null,
            "display": null,
            "flex": null,
            "flex_flow": null,
            "grid_area": null,
            "grid_auto_columns": null,
            "grid_auto_flow": null,
            "grid_auto_rows": null,
            "grid_column": null,
            "grid_gap": null,
            "grid_row": null,
            "grid_template_areas": null,
            "grid_template_columns": null,
            "grid_template_rows": null,
            "height": null,
            "justify_content": null,
            "justify_items": null,
            "left": null,
            "margin": null,
            "max_height": null,
            "max_width": null,
            "min_height": null,
            "min_width": null,
            "object_fit": null,
            "object_position": null,
            "order": null,
            "overflow": null,
            "overflow_x": null,
            "overflow_y": null,
            "padding": null,
            "right": null,
            "top": null,
            "visibility": null,
            "width": null
          }
        },
        "9c4d6f18d1b6444eadccddc3013f3423": {
          "model_module": "@jupyter-widgets/controls",
          "model_name": "ProgressStyleModel",
          "model_module_version": "1.5.0",
          "state": {
            "_model_module": "@jupyter-widgets/controls",
            "_model_module_version": "1.5.0",
            "_model_name": "ProgressStyleModel",
            "_view_count": null,
            "_view_module": "@jupyter-widgets/base",
            "_view_module_version": "1.2.0",
            "_view_name": "StyleView",
            "bar_color": null,
            "description_width": ""
          }
        },
        "069cd5908b8f48f99f6b75c9c6b14848": {
          "model_module": "@jupyter-widgets/base",
          "model_name": "LayoutModel",
          "model_module_version": "1.2.0",
          "state": {
            "_model_module": "@jupyter-widgets/base",
            "_model_module_version": "1.2.0",
            "_model_name": "LayoutModel",
            "_view_count": null,
            "_view_module": "@jupyter-widgets/base",
            "_view_module_version": "1.2.0",
            "_view_name": "LayoutView",
            "align_content": null,
            "align_items": null,
            "align_self": null,
            "border": null,
            "bottom": null,
            "display": null,
            "flex": null,
            "flex_flow": null,
            "grid_area": null,
            "grid_auto_columns": null,
            "grid_auto_flow": null,
            "grid_auto_rows": null,
            "grid_column": null,
            "grid_gap": null,
            "grid_row": null,
            "grid_template_areas": null,
            "grid_template_columns": null,
            "grid_template_rows": null,
            "height": null,
            "justify_content": null,
            "justify_items": null,
            "left": null,
            "margin": null,
            "max_height": null,
            "max_width": null,
            "min_height": null,
            "min_width": null,
            "object_fit": null,
            "object_position": null,
            "order": null,
            "overflow": null,
            "overflow_x": null,
            "overflow_y": null,
            "padding": null,
            "right": null,
            "top": null,
            "visibility": null,
            "width": null
          }
        },
        "21376288fa0d4815995a6d5691b37572": {
          "model_module": "@jupyter-widgets/controls",
          "model_name": "DescriptionStyleModel",
          "model_module_version": "1.5.0",
          "state": {
            "_model_module": "@jupyter-widgets/controls",
            "_model_module_version": "1.5.0",
            "_model_name": "DescriptionStyleModel",
            "_view_count": null,
            "_view_module": "@jupyter-widgets/base",
            "_view_module_version": "1.2.0",
            "_view_name": "StyleView",
            "description_width": ""
          }
        },
        "da0da49a6d94495e85c3fd139acae63b": {
          "model_module": "@jupyter-widgets/controls",
          "model_name": "HBoxModel",
          "model_module_version": "1.5.0",
          "state": {
            "_dom_classes": [],
            "_model_module": "@jupyter-widgets/controls",
            "_model_module_version": "1.5.0",
            "_model_name": "HBoxModel",
            "_view_count": null,
            "_view_module": "@jupyter-widgets/controls",
            "_view_module_version": "1.5.0",
            "_view_name": "HBoxView",
            "box_style": "",
            "children": [
              "IPY_MODEL_9197a0d2ae3b4ff79cb8cba278190d2e",
              "IPY_MODEL_b3595d8c8ecb47b0afc55fe0ab0728d6",
              "IPY_MODEL_175d20bb721e43279fb925f20488e4fd"
            ],
            "layout": "IPY_MODEL_d78edda9ad694dabaab181c261b06189"
          }
        },
        "9197a0d2ae3b4ff79cb8cba278190d2e": {
          "model_module": "@jupyter-widgets/controls",
          "model_name": "HTMLModel",
          "model_module_version": "1.5.0",
          "state": {
            "_dom_classes": [],
            "_model_module": "@jupyter-widgets/controls",
            "_model_module_version": "1.5.0",
            "_model_name": "HTMLModel",
            "_view_count": null,
            "_view_module": "@jupyter-widgets/controls",
            "_view_module_version": "1.5.0",
            "_view_name": "HTMLView",
            "description": "",
            "description_tooltip": null,
            "layout": "IPY_MODEL_46accf9f80404841b97fb7bec5db5d26",
            "placeholder": "​",
            "style": "IPY_MODEL_d094061eb344452f84011c3ced6dc5e6",
            "value": "100%"
          }
        },
        "b3595d8c8ecb47b0afc55fe0ab0728d6": {
          "model_module": "@jupyter-widgets/controls",
          "model_name": "FloatProgressModel",
          "model_module_version": "1.5.0",
          "state": {
            "_dom_classes": [],
            "_model_module": "@jupyter-widgets/controls",
            "_model_module_version": "1.5.0",
            "_model_name": "FloatProgressModel",
            "_view_count": null,
            "_view_module": "@jupyter-widgets/controls",
            "_view_module_version": "1.5.0",
            "_view_name": "ProgressView",
            "bar_style": "success",
            "description": "",
            "description_tooltip": null,
            "layout": "IPY_MODEL_776d22024f7c40e5967978291afd13a7",
            "max": 4422102,
            "min": 0,
            "orientation": "horizontal",
            "style": "IPY_MODEL_c3a212affa4f4f79ae5d8166becb32ba",
            "value": 4422102
          }
        },
        "175d20bb721e43279fb925f20488e4fd": {
          "model_module": "@jupyter-widgets/controls",
          "model_name": "HTMLModel",
          "model_module_version": "1.5.0",
          "state": {
            "_dom_classes": [],
            "_model_module": "@jupyter-widgets/controls",
            "_model_module_version": "1.5.0",
            "_model_name": "HTMLModel",
            "_view_count": null,
            "_view_module": "@jupyter-widgets/controls",
            "_view_module_version": "1.5.0",
            "_view_name": "HTMLView",
            "description": "",
            "description_tooltip": null,
            "layout": "IPY_MODEL_991923a1bebf4a7f9d1ede9436f2efc3",
            "placeholder": "​",
            "style": "IPY_MODEL_7c556e4189b7415b9dbab776f6b96408",
            "value": " 4422102/4422102 [00:00&lt;00:00, 8666192.36it/s]"
          }
        },
        "d78edda9ad694dabaab181c261b06189": {
          "model_module": "@jupyter-widgets/base",
          "model_name": "LayoutModel",
          "model_module_version": "1.2.0",
          "state": {
            "_model_module": "@jupyter-widgets/base",
            "_model_module_version": "1.2.0",
            "_model_name": "LayoutModel",
            "_view_count": null,
            "_view_module": "@jupyter-widgets/base",
            "_view_module_version": "1.2.0",
            "_view_name": "LayoutView",
            "align_content": null,
            "align_items": null,
            "align_self": null,
            "border": null,
            "bottom": null,
            "display": null,
            "flex": null,
            "flex_flow": null,
            "grid_area": null,
            "grid_auto_columns": null,
            "grid_auto_flow": null,
            "grid_auto_rows": null,
            "grid_column": null,
            "grid_gap": null,
            "grid_row": null,
            "grid_template_areas": null,
            "grid_template_columns": null,
            "grid_template_rows": null,
            "height": null,
            "justify_content": null,
            "justify_items": null,
            "left": null,
            "margin": null,
            "max_height": null,
            "max_width": null,
            "min_height": null,
            "min_width": null,
            "object_fit": null,
            "object_position": null,
            "order": null,
            "overflow": null,
            "overflow_x": null,
            "overflow_y": null,
            "padding": null,
            "right": null,
            "top": null,
            "visibility": null,
            "width": null
          }
        },
        "46accf9f80404841b97fb7bec5db5d26": {
          "model_module": "@jupyter-widgets/base",
          "model_name": "LayoutModel",
          "model_module_version": "1.2.0",
          "state": {
            "_model_module": "@jupyter-widgets/base",
            "_model_module_version": "1.2.0",
            "_model_name": "LayoutModel",
            "_view_count": null,
            "_view_module": "@jupyter-widgets/base",
            "_view_module_version": "1.2.0",
            "_view_name": "LayoutView",
            "align_content": null,
            "align_items": null,
            "align_self": null,
            "border": null,
            "bottom": null,
            "display": null,
            "flex": null,
            "flex_flow": null,
            "grid_area": null,
            "grid_auto_columns": null,
            "grid_auto_flow": null,
            "grid_auto_rows": null,
            "grid_column": null,
            "grid_gap": null,
            "grid_row": null,
            "grid_template_areas": null,
            "grid_template_columns": null,
            "grid_template_rows": null,
            "height": null,
            "justify_content": null,
            "justify_items": null,
            "left": null,
            "margin": null,
            "max_height": null,
            "max_width": null,
            "min_height": null,
            "min_width": null,
            "object_fit": null,
            "object_position": null,
            "order": null,
            "overflow": null,
            "overflow_x": null,
            "overflow_y": null,
            "padding": null,
            "right": null,
            "top": null,
            "visibility": null,
            "width": null
          }
        },
        "d094061eb344452f84011c3ced6dc5e6": {
          "model_module": "@jupyter-widgets/controls",
          "model_name": "DescriptionStyleModel",
          "model_module_version": "1.5.0",
          "state": {
            "_model_module": "@jupyter-widgets/controls",
            "_model_module_version": "1.5.0",
            "_model_name": "DescriptionStyleModel",
            "_view_count": null,
            "_view_module": "@jupyter-widgets/base",
            "_view_module_version": "1.2.0",
            "_view_name": "StyleView",
            "description_width": ""
          }
        },
        "776d22024f7c40e5967978291afd13a7": {
          "model_module": "@jupyter-widgets/base",
          "model_name": "LayoutModel",
          "model_module_version": "1.2.0",
          "state": {
            "_model_module": "@jupyter-widgets/base",
            "_model_module_version": "1.2.0",
            "_model_name": "LayoutModel",
            "_view_count": null,
            "_view_module": "@jupyter-widgets/base",
            "_view_module_version": "1.2.0",
            "_view_name": "LayoutView",
            "align_content": null,
            "align_items": null,
            "align_self": null,
            "border": null,
            "bottom": null,
            "display": null,
            "flex": null,
            "flex_flow": null,
            "grid_area": null,
            "grid_auto_columns": null,
            "grid_auto_flow": null,
            "grid_auto_rows": null,
            "grid_column": null,
            "grid_gap": null,
            "grid_row": null,
            "grid_template_areas": null,
            "grid_template_columns": null,
            "grid_template_rows": null,
            "height": null,
            "justify_content": null,
            "justify_items": null,
            "left": null,
            "margin": null,
            "max_height": null,
            "max_width": null,
            "min_height": null,
            "min_width": null,
            "object_fit": null,
            "object_position": null,
            "order": null,
            "overflow": null,
            "overflow_x": null,
            "overflow_y": null,
            "padding": null,
            "right": null,
            "top": null,
            "visibility": null,
            "width": null
          }
        },
        "c3a212affa4f4f79ae5d8166becb32ba": {
          "model_module": "@jupyter-widgets/controls",
          "model_name": "ProgressStyleModel",
          "model_module_version": "1.5.0",
          "state": {
            "_model_module": "@jupyter-widgets/controls",
            "_model_module_version": "1.5.0",
            "_model_name": "ProgressStyleModel",
            "_view_count": null,
            "_view_module": "@jupyter-widgets/base",
            "_view_module_version": "1.2.0",
            "_view_name": "StyleView",
            "bar_color": null,
            "description_width": ""
          }
        },
        "991923a1bebf4a7f9d1ede9436f2efc3": {
          "model_module": "@jupyter-widgets/base",
          "model_name": "LayoutModel",
          "model_module_version": "1.2.0",
          "state": {
            "_model_module": "@jupyter-widgets/base",
            "_model_module_version": "1.2.0",
            "_model_name": "LayoutModel",
            "_view_count": null,
            "_view_module": "@jupyter-widgets/base",
            "_view_module_version": "1.2.0",
            "_view_name": "LayoutView",
            "align_content": null,
            "align_items": null,
            "align_self": null,
            "border": null,
            "bottom": null,
            "display": null,
            "flex": null,
            "flex_flow": null,
            "grid_area": null,
            "grid_auto_columns": null,
            "grid_auto_flow": null,
            "grid_auto_rows": null,
            "grid_column": null,
            "grid_gap": null,
            "grid_row": null,
            "grid_template_areas": null,
            "grid_template_columns": null,
            "grid_template_rows": null,
            "height": null,
            "justify_content": null,
            "justify_items": null,
            "left": null,
            "margin": null,
            "max_height": null,
            "max_width": null,
            "min_height": null,
            "min_width": null,
            "object_fit": null,
            "object_position": null,
            "order": null,
            "overflow": null,
            "overflow_x": null,
            "overflow_y": null,
            "padding": null,
            "right": null,
            "top": null,
            "visibility": null,
            "width": null
          }
        },
        "7c556e4189b7415b9dbab776f6b96408": {
          "model_module": "@jupyter-widgets/controls",
          "model_name": "DescriptionStyleModel",
          "model_module_version": "1.5.0",
          "state": {
            "_model_module": "@jupyter-widgets/controls",
            "_model_module_version": "1.5.0",
            "_model_name": "DescriptionStyleModel",
            "_view_count": null,
            "_view_module": "@jupyter-widgets/base",
            "_view_module_version": "1.2.0",
            "_view_name": "StyleView",
            "description_width": ""
          }
        },
        "1cee2bee7bda468ca0ea24ca612c3f7a": {
          "model_module": "@jupyter-widgets/controls",
          "model_name": "HBoxModel",
          "model_module_version": "1.5.0",
          "state": {
            "_dom_classes": [],
            "_model_module": "@jupyter-widgets/controls",
            "_model_module_version": "1.5.0",
            "_model_name": "HBoxModel",
            "_view_count": null,
            "_view_module": "@jupyter-widgets/controls",
            "_view_module_version": "1.5.0",
            "_view_name": "HBoxView",
            "box_style": "",
            "children": [
              "IPY_MODEL_0128f624322649f3aeb6689fea711076",
              "IPY_MODEL_d83aecf4806d47fda87033261466ed5d",
              "IPY_MODEL_b64d6ee433834c2a89d40147ed612647"
            ],
            "layout": "IPY_MODEL_975bf0d10d7643ec9b7d337cf116d425"
          }
        },
        "0128f624322649f3aeb6689fea711076": {
          "model_module": "@jupyter-widgets/controls",
          "model_name": "HTMLModel",
          "model_module_version": "1.5.0",
          "state": {
            "_dom_classes": [],
            "_model_module": "@jupyter-widgets/controls",
            "_model_module_version": "1.5.0",
            "_model_name": "HTMLModel",
            "_view_count": null,
            "_view_module": "@jupyter-widgets/controls",
            "_view_module_version": "1.5.0",
            "_view_name": "HTMLView",
            "description": "",
            "description_tooltip": null,
            "layout": "IPY_MODEL_d397630e3c0c4eae82bc4a56a98ac102",
            "placeholder": "​",
            "style": "IPY_MODEL_fcb3a78fd56e4958b82911835e745f15",
            "value": "100%"
          }
        },
        "d83aecf4806d47fda87033261466ed5d": {
          "model_module": "@jupyter-widgets/controls",
          "model_name": "FloatProgressModel",
          "model_module_version": "1.5.0",
          "state": {
            "_dom_classes": [],
            "_model_module": "@jupyter-widgets/controls",
            "_model_module_version": "1.5.0",
            "_model_name": "FloatProgressModel",
            "_view_count": null,
            "_view_module": "@jupyter-widgets/controls",
            "_view_module_version": "1.5.0",
            "_view_name": "ProgressView",
            "bar_style": "success",
            "description": "",
            "description_tooltip": null,
            "layout": "IPY_MODEL_f9e518e15cf747bbbad7f2526c71b39c",
            "max": 5148,
            "min": 0,
            "orientation": "horizontal",
            "style": "IPY_MODEL_99b1349410a04ec880f8b4654a6b328c",
            "value": 5148
          }
        },
        "b64d6ee433834c2a89d40147ed612647": {
          "model_module": "@jupyter-widgets/controls",
          "model_name": "HTMLModel",
          "model_module_version": "1.5.0",
          "state": {
            "_dom_classes": [],
            "_model_module": "@jupyter-widgets/controls",
            "_model_module_version": "1.5.0",
            "_model_name": "HTMLModel",
            "_view_count": null,
            "_view_module": "@jupyter-widgets/controls",
            "_view_module_version": "1.5.0",
            "_view_name": "HTMLView",
            "description": "",
            "description_tooltip": null,
            "layout": "IPY_MODEL_c2be14dcf7e84e10a0e4b821d090cd96",
            "placeholder": "​",
            "style": "IPY_MODEL_3e766550211644f191d400c107f4efd1",
            "value": " 5148/5148 [00:00&lt;00:00, 20766.52it/s]"
          }
        },
        "975bf0d10d7643ec9b7d337cf116d425": {
          "model_module": "@jupyter-widgets/base",
          "model_name": "LayoutModel",
          "model_module_version": "1.2.0",
          "state": {
            "_model_module": "@jupyter-widgets/base",
            "_model_module_version": "1.2.0",
            "_model_name": "LayoutModel",
            "_view_count": null,
            "_view_module": "@jupyter-widgets/base",
            "_view_module_version": "1.2.0",
            "_view_name": "LayoutView",
            "align_content": null,
            "align_items": null,
            "align_self": null,
            "border": null,
            "bottom": null,
            "display": null,
            "flex": null,
            "flex_flow": null,
            "grid_area": null,
            "grid_auto_columns": null,
            "grid_auto_flow": null,
            "grid_auto_rows": null,
            "grid_column": null,
            "grid_gap": null,
            "grid_row": null,
            "grid_template_areas": null,
            "grid_template_columns": null,
            "grid_template_rows": null,
            "height": null,
            "justify_content": null,
            "justify_items": null,
            "left": null,
            "margin": null,
            "max_height": null,
            "max_width": null,
            "min_height": null,
            "min_width": null,
            "object_fit": null,
            "object_position": null,
            "order": null,
            "overflow": null,
            "overflow_x": null,
            "overflow_y": null,
            "padding": null,
            "right": null,
            "top": null,
            "visibility": null,
            "width": null
          }
        },
        "d397630e3c0c4eae82bc4a56a98ac102": {
          "model_module": "@jupyter-widgets/base",
          "model_name": "LayoutModel",
          "model_module_version": "1.2.0",
          "state": {
            "_model_module": "@jupyter-widgets/base",
            "_model_module_version": "1.2.0",
            "_model_name": "LayoutModel",
            "_view_count": null,
            "_view_module": "@jupyter-widgets/base",
            "_view_module_version": "1.2.0",
            "_view_name": "LayoutView",
            "align_content": null,
            "align_items": null,
            "align_self": null,
            "border": null,
            "bottom": null,
            "display": null,
            "flex": null,
            "flex_flow": null,
            "grid_area": null,
            "grid_auto_columns": null,
            "grid_auto_flow": null,
            "grid_auto_rows": null,
            "grid_column": null,
            "grid_gap": null,
            "grid_row": null,
            "grid_template_areas": null,
            "grid_template_columns": null,
            "grid_template_rows": null,
            "height": null,
            "justify_content": null,
            "justify_items": null,
            "left": null,
            "margin": null,
            "max_height": null,
            "max_width": null,
            "min_height": null,
            "min_width": null,
            "object_fit": null,
            "object_position": null,
            "order": null,
            "overflow": null,
            "overflow_x": null,
            "overflow_y": null,
            "padding": null,
            "right": null,
            "top": null,
            "visibility": null,
            "width": null
          }
        },
        "fcb3a78fd56e4958b82911835e745f15": {
          "model_module": "@jupyter-widgets/controls",
          "model_name": "DescriptionStyleModel",
          "model_module_version": "1.5.0",
          "state": {
            "_model_module": "@jupyter-widgets/controls",
            "_model_module_version": "1.5.0",
            "_model_name": "DescriptionStyleModel",
            "_view_count": null,
            "_view_module": "@jupyter-widgets/base",
            "_view_module_version": "1.2.0",
            "_view_name": "StyleView",
            "description_width": ""
          }
        },
        "f9e518e15cf747bbbad7f2526c71b39c": {
          "model_module": "@jupyter-widgets/base",
          "model_name": "LayoutModel",
          "model_module_version": "1.2.0",
          "state": {
            "_model_module": "@jupyter-widgets/base",
            "_model_module_version": "1.2.0",
            "_model_name": "LayoutModel",
            "_view_count": null,
            "_view_module": "@jupyter-widgets/base",
            "_view_module_version": "1.2.0",
            "_view_name": "LayoutView",
            "align_content": null,
            "align_items": null,
            "align_self": null,
            "border": null,
            "bottom": null,
            "display": null,
            "flex": null,
            "flex_flow": null,
            "grid_area": null,
            "grid_auto_columns": null,
            "grid_auto_flow": null,
            "grid_auto_rows": null,
            "grid_column": null,
            "grid_gap": null,
            "grid_row": null,
            "grid_template_areas": null,
            "grid_template_columns": null,
            "grid_template_rows": null,
            "height": null,
            "justify_content": null,
            "justify_items": null,
            "left": null,
            "margin": null,
            "max_height": null,
            "max_width": null,
            "min_height": null,
            "min_width": null,
            "object_fit": null,
            "object_position": null,
            "order": null,
            "overflow": null,
            "overflow_x": null,
            "overflow_y": null,
            "padding": null,
            "right": null,
            "top": null,
            "visibility": null,
            "width": null
          }
        },
        "99b1349410a04ec880f8b4654a6b328c": {
          "model_module": "@jupyter-widgets/controls",
          "model_name": "ProgressStyleModel",
          "model_module_version": "1.5.0",
          "state": {
            "_model_module": "@jupyter-widgets/controls",
            "_model_module_version": "1.5.0",
            "_model_name": "ProgressStyleModel",
            "_view_count": null,
            "_view_module": "@jupyter-widgets/base",
            "_view_module_version": "1.2.0",
            "_view_name": "StyleView",
            "bar_color": null,
            "description_width": ""
          }
        },
        "c2be14dcf7e84e10a0e4b821d090cd96": {
          "model_module": "@jupyter-widgets/base",
          "model_name": "LayoutModel",
          "model_module_version": "1.2.0",
          "state": {
            "_model_module": "@jupyter-widgets/base",
            "_model_module_version": "1.2.0",
            "_model_name": "LayoutModel",
            "_view_count": null,
            "_view_module": "@jupyter-widgets/base",
            "_view_module_version": "1.2.0",
            "_view_name": "LayoutView",
            "align_content": null,
            "align_items": null,
            "align_self": null,
            "border": null,
            "bottom": null,
            "display": null,
            "flex": null,
            "flex_flow": null,
            "grid_area": null,
            "grid_auto_columns": null,
            "grid_auto_flow": null,
            "grid_auto_rows": null,
            "grid_column": null,
            "grid_gap": null,
            "grid_row": null,
            "grid_template_areas": null,
            "grid_template_columns": null,
            "grid_template_rows": null,
            "height": null,
            "justify_content": null,
            "justify_items": null,
            "left": null,
            "margin": null,
            "max_height": null,
            "max_width": null,
            "min_height": null,
            "min_width": null,
            "object_fit": null,
            "object_position": null,
            "order": null,
            "overflow": null,
            "overflow_x": null,
            "overflow_y": null,
            "padding": null,
            "right": null,
            "top": null,
            "visibility": null,
            "width": null
          }
        },
        "3e766550211644f191d400c107f4efd1": {
          "model_module": "@jupyter-widgets/controls",
          "model_name": "DescriptionStyleModel",
          "model_module_version": "1.5.0",
          "state": {
            "_model_module": "@jupyter-widgets/controls",
            "_model_module_version": "1.5.0",
            "_model_name": "DescriptionStyleModel",
            "_view_count": null,
            "_view_module": "@jupyter-widgets/base",
            "_view_module_version": "1.2.0",
            "_view_name": "StyleView",
            "description_width": ""
          }
        }
      }
    }
  },
  "nbformat": 4,
  "nbformat_minor": 0
}